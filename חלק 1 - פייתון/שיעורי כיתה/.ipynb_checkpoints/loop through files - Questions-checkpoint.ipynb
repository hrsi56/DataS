{
 "cells": [
  {
   "cell_type": "markdown",
   "id": "3addc131-5b44-4bc3-b578-5ccf72d681fb",
   "metadata": {},
   "source": [
    "# Loop Through Files\n",
    "\n",
    "© Advanced Analytics, Amir Ben Haim, 2024"
   ]
  },
  {
   "cell_type": "markdown",
   "id": "b147a946-c363-409d-b139-1ae4166f4c37",
   "metadata": {},
   "source": [
    "<br>\n",
    "<p style=\"font-size:25px\">The point of this exercise is to load all the files data to a single DataFrame <code>df</code></p>"
   ]
  },
  {
   "cell_type": "markdown",
   "id": "321ce01e-5251-471c-8f4a-a9c47d0b98bf",
   "metadata": {},
   "source": [
    "<b><p style=\"font-size:25px;color:red;\">Notice!!!\n",
    "    <br>It's important to reset the files locations and names and also reset the notebook</p></b>\n"
   ]
  },
  {
   "cell_type": "code",
   "execution_count": 2,
   "id": "e5ad3758-3972-4ba2-9900-383750c66710",
   "metadata": {
    "tags": []
   },
   "outputs": [],
   "source": [
    "import os\n",
    "import shutil\n",
    "from datetime import datetime"
   ]
  },
  {
   "cell_type": "code",
   "execution_count": 9,
   "id": "ad5a01b7-eb3f-45bb-ab2d-f0b7b7b6cbeb",
   "metadata": {
    "tags": []
   },
   "outputs": [],
   "source": []
  },
  {
   "cell_type": "code",
   "execution_count": 10,
   "id": "c071c0ce-8ae4-45e2-b72c-3d16aa646ac0",
   "metadata": {
    "tags": []
   },
   "outputs": [
    {
     "data": {
      "text/plain": [
       "['.DS_Store',\n",
       " 'New Text Document.txt',\n",
       " 'New Microsoft PowerPoint Presentation.pptx',\n",
       " 'Done',\n",
       " 'File D.csv',\n",
       " 'File A.csv',\n",
       " 'New Microsoft Word Document.docx',\n",
       " 'File B.csv',\n",
       " 'Process',\n",
       " 'File C.csv']"
      ]
     },
     "execution_count": 10,
     "metadata": {},
     "output_type": "execute_result"
    }
   ],
   "source": [
    "# Getting the files names from the specified directoy\n",
    "# (\"r\" means the string will be treated as raw string)\n",
    "DataSource = os.listdir(SourcePath)\n",
    "DataSource"
   ]
  },
  {
   "cell_type": "code",
   "execution_count": 29,
   "id": "70cb551b-75b8-4a26-8258-7914dbab17ff",
   "metadata": {},
   "outputs": [],
   "source": [
    "for file in os.listdir(os.path.join(os.getcwd(),\"Data\")):\n",
    "    if file.endswith('.csv'):\n",
    "        shutil.move( os.path.join(os.getcwd(),\"Data\",file) ,os.path.join(os.getcwd(),\"Data\",\"Process\",file))\n",
    "        os.rename(os.path.join(os.getcwd(),\"Data\",\"Process\",file), os.path.join(os.getcwd(),\"Data\",\"Process\",f\"{str(datetime.now()).replace(\":\",\".\")[:19]} - {file}\"))\n",
    "\n"
   ]
  },
  {
   "cell_type": "code",
   "execution_count": 27,
   "id": "2c0aff97-67a5-44e1-9778-82b7212f8222",
   "metadata": {},
   "outputs": [
    {
     "data": {
      "text/plain": [
       "'2025-01-20 21:04:05.817694'"
      ]
     },
     "execution_count": 27,
     "metadata": {},
     "output_type": "execute_result"
    }
   ],
   "source": [
    "now = datetime.now()\n",
    "str(now)"
   ]
  },
  {
   "cell_type": "code",
   "execution_count": null,
   "id": "fb7a5905-8c64-4475-8f39-0d1c4d36ee0e",
   "metadata": {},
   "outputs": [],
   "source": [
    "# Write the code\n",
    "\n",
    "\n",
    "\n",
    "\n",
    "\n",
    "\n",
    "\n",
    "\n",
    "\n",
    "\n",
    "\n",
    "\n",
    "\n",
    "\n",
    "\n",
    "\n",
    "\n",
    "\n",
    "\n",
    "\n",
    "\n"
   ]
  }
 ],
 "metadata": {
  "kernelspec": {
   "display_name": "Python 3 (ipykernel)",
   "language": "python",
   "name": "python3"
  },
  "language_info": {
   "codemirror_mode": {
    "name": "ipython",
    "version": 3
   },
   "file_extension": ".py",
   "mimetype": "text/x-python",
   "name": "python",
   "nbconvert_exporter": "python",
   "pygments_lexer": "ipython3",
   "version": "3.12.1"
  }
 },
 "nbformat": 4,
 "nbformat_minor": 5
}
