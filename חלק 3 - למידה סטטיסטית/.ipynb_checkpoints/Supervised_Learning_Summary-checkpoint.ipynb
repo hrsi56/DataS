{
 "cells": [
  {
   "cell_type": "markdown",
   "id": "786178d6",
   "metadata": {},
   "source": [
    "# 📊 סיכום: רגרסיה ליניארית פשוטה (Simple Linear Regression)"
   ]
  },
  {
   "cell_type": "markdown",
   "id": "13c2b468",
   "metadata": {},
   "source": [
    "## מבוא\n",
    "רגרסיה ליניארית פשוטה מניחה כי קיים קשר **ליניארי** בין משתנה תלוי $ Y $ לבין משתנה בלתי תלוי אחד $ X $.  \n",
    "המודל מתואר על ידי המשוואה:\n",
    "\n",
    "\\[ Y = \\beta_0 + \\beta_1 X + \\varepsilon \\]\n",
    "\n",
    "כאשר:\n",
    "- $ \\beta_0 $ – חותך (intercept)\n",
    "- $ \\beta_1 $ – מקדם הרגרסיה (slope)\n",
    "- $ \\varepsilon $ – שגיאה מקרית עם תוחלת 0\n",
    "\n",
    "**מטרת הרגרסיה** היא למצוא את הערכים המוערכים $ \\hat{\\beta}_0, \\hat{\\beta}_1 $ כך שנוכל לחזות את $ Y $ עבור ערך נתון של $ X $.\n",
    "\n"
   ]
  },
  {
   "cell_type": "markdown",
   "id": "abd69162",
   "metadata": {},
   "source": [
    "## אמידת המקדמים – שיטת הריבועים הפחותים (Least Squares Estimation)\n",
    "כדי לאמוד את הפרמטרים $ \\beta_0 $ ו-$ \\beta_1 $, אנו מחפשים ערכים הממזערים את סכום ריבועי השגיאות (RSS):\n",
    "\n",
    "\\[ RSS = \\sum_{i=1}^{n} (y_i - \\hat{y}_i)^2 \\]\n",
    "\n",
    "בהתאם לנוסחה:\n",
    "\n",
    "\\[\n",
    "\\hat{\\beta}_1 = \\frac{\\sum_{i=1}^{n} (x_i - \\bar{x})(y_i - \\bar{y})}{\\sum_{i=1}^{n} (x_i - \\bar{x})^2}\n",
    "\\]\n",
    "\n",
    "\\[\n",
    "\\hat{\\beta}_0 = \\bar{y} - \\hat{\\beta}_1 \\bar{x}\n",
    "\\]\n",
    "\n",
    "💡 **יתרון מרכזי:** חישוב פשוט, קל להבנה ולפרשנות.\n",
    "\n"
   ]
  },
  {
   "cell_type": "code",
   "execution_count": null,
   "id": "8a54a5cd",
   "metadata": {},
   "outputs": [],
   "source": [
    "import numpy as np\n",
    "import pandas as pd\n",
    "import matplotlib.pyplot as plt\n",
    "import statsmodels.api as sm\n",
    "\n",
    "# יצירת נתונים לדוגמה\n",
    "np.random.seed(42)\n",
    "X = np.random.rand(100, 1) * 10  # משתנה בלתי תלוי\n",
    "y = 2 + 3 * X.squeeze() + np.random.randn(100) * 2  # משתנה תלוי עם רעש\n",
    "\n",
    "# התאמת מודל רגרסיה ליניארית\n",
    "X_with_const = sm.add_constant(X)  # הוספת חותך\n",
    "model = sm.OLS(y, X_with_const).fit()\n",
    "\n",
    "# הצגת תוצאות הרגרסיה\n",
    "print(model.summary())\n",
    "\n",
    "# חיזוי ערכים\n",
    "y_pred = model.predict(X_with_const)\n",
    "\n",
    "# גרף הרגרסיה\n",
    "plt.scatter(X, y, label=\"נתוני אמת\")\n",
    "plt.plot(X, y_pred, color='red', label=\"רגרסיה ליניארית\")\n",
    "plt.xlabel(\"X\")\n",
    "plt.ylabel(\"Y\")\n",
    "plt.legend()\n",
    "plt.show()\n"
   ]
  },
  {
   "cell_type": "markdown",
   "id": "d328043c",
   "metadata": {},
   "source": [
    "## שיפורי מודל – טרנספורמציות משתנים\n",
    "אם הקשר בין המשתנים אינו ליניארי, ניתן לשפר את המודל על ידי טרנספורמציות:\n",
    "1. **לוגריתם של המשתנה הבלתי תלוי**: $ X' = \\log(X) $\n",
    "2. **משתנה בריבוע**: $ X' = X^2 $\n",
    "\n"
   ]
  },
  {
   "cell_type": "code",
   "execution_count": null,
   "id": "e36d29b2",
   "metadata": {},
   "outputs": [],
   "source": [
    "X_squared = X ** 2\n",
    "X_with_const_squared = sm.add_constant(X_squared)\n",
    "\n",
    "# התאמת מודל רגרסיה ליניארית עם משתנה בריבוע\n",
    "model_squared = sm.OLS(y, X_with_const_squared).fit()\n",
    "print(model_squared.summary())\n",
    "\n",
    "# חיזוי וגרף\n",
    "y_pred_squared = model_squared.predict(X_with_const_squared)\n",
    "plt.scatter(X, y, label=\"נתוני אמת\")\n",
    "plt.plot(X, y_pred_squared, color='green', label=\"רגרסיה פולינומית\")\n",
    "plt.xlabel(\"X\")\n",
    "plt.ylabel(\"Y\")\n",
    "plt.legend()\n",
    "plt.show()\n"
   ]
  },
  {
   "cell_type": "markdown",
   "id": "842e659e",
   "metadata": {},
   "source": [
    "## סיכום\n",
    "✔ **רגרסיה ליניארית פשוטה** היא כלי בסיסי לניבוי והבנת קשרים בין משתנים.  \n",
    "✔ ניתן להעריך את **איכות המודל** באמצעות $ R^2 $, סטיות תקן ומבחן $ t $.  \n",
    "✔ כאשר הקשר **אינו ליניארי**, ניתן להשתמש **בטרנספורמציות** לשיפור הדיוק.  \n",
    "\n",
    "📌 **למידת מכונה מתחילה מרגרסיה ליניארית – וזה הצעד הראשון שלך! 🚀**\n"
   ]
  }
 ],
 "metadata": {},
 "nbformat": 4,
 "nbformat_minor": 5
}