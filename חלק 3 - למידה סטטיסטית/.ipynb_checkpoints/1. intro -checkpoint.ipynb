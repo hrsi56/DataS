{
 "cells": [
  {
   "cell_type": "markdown",
   "metadata": {},
   "source": [
    "### **📌 מבוא ללמידת מכונה (Machine Learning)**\n",
    "\n",
    "למידת מכונה היא תחום במדעי הנתונים שמאפשר למודלים ללמוד מדוגמאות ולהסיק תחזיות או תובנות מנתונים. \n",
    "\n",
    "- **למידה מפוקחת (Supervised Learning):** המודל לומד מתוך נתונים מתויגים.\n",
    "- **למידה לא מפוקחת (Unsupervised Learning):** המודל מזהה דפוסים בנתונים לא מתויגים.\n",
    "- **למידת חיזוק (Reinforcement Learning):** המודל מקבל חיזוקים על פעולות נכונות ולומד באמצעות ניסוי וטעייה.\n",
    "\n",
    "📌 **נחקור שני סוגים עיקריים: למידה מפוקחת ולא מפוקחת.**"
   ]
  },
  {
   "cell_type": "markdown",
   "metadata": {},
   "source": [
    "### **📌 למידה מפוקחת (Supervised Learning)**\n",
    "\n",
    "בלמידה מפוקחת המודל לומד מתוך **נתונים מתויגים**, כלומר לכל תצפית קיים ערך תגובה (Label).\n",
    "\n",
    "🔹 **שני סוגים עיקריים של למידה מפוקחת:**\n",
    "1. **רגרסיה (Regression):** חיזוי ערכים רציפים (למשל, מחיר דירה).\n",
    "2. **סיווג (Classification):** שיוך תצפיות לקטגוריות (למשל, זיהוי תמונות של חתולים וכלבים)."
   ]
  },
  {
   "cell_type": "markdown",
   "metadata": {},
   "source": [
    "### **📌 דוגמה: חיזוי מחירי בתים באמצעות רגרסיה**"
   ]
  },
  {
   "cell_type": "code",
   "execution_count": null,
   "metadata": {},
   "outputs": [],
   "source": [
    "import numpy as np\n",
    "import matplotlib.pyplot as plt\n",
    "from sklearn.linear_model import LinearRegression\n",
    "from sklearn.model_selection import train_test_split\n",
    "from sklearn.metrics import mean_squared_error\n",
    "\n",
    "# יצירת נתונים מלאכותיים\n",
    "np.random.seed(42)\n",
    "X = np.random.rand(100, 1) * 10  # שטח הבית (במ\"ר)\n",
    "y = 3 * X + 7 + np.random.randn(100, 1) * 2  # מחיר הבית עם רעש\n",
    "\n",
    "# פיצול הנתונים לאימון ובדיקה\n",
    "X_train, X_test, y_train, y_test = train_test_split(X, y, test_size=0.2, random_state=42)\n",
    "\n",
    "# יצירת מודל רגרסיה לינארית\n",
    "model = LinearRegression()\n",
    "model.fit(X_train, y_train)\n",
    "\n",
    "# תחזיות\n",
    "y_pred = model.predict(X_test)\n",
    "\n",
    "# חישוב שגיאת MSE\n",
    "mse = mean_squared_error(y_test, y_pred)\n",
    "\n",
    "# הצגת הנתונים והמודל\n",
    "plt.figure(figsize=(8,6))\n",
    "plt.scatter(X_test, y_test, color='blue', label='Real Prices')\n",
    "plt.plot(X_test, y_pred, color='red', linewidth=2, label='Predicted Prices')\n",
    "plt.xlabel('House Size (sqm)')\n",
    "plt.ylabel('House Price')\n",
    "plt.title('Linear Regression: House Price Prediction')\n",
    "plt.legend()\n",
    "plt.grid(True)\n",
    "plt.show()\n",
    "\n",
    "print(f'Mean Squared Error: {mse:.2f}')"
   ]
  },
  {
   "cell_type": "markdown",
   "metadata": {},
   "source": [
    "### **📌 למידה לא מפוקחת (Unsupervised Learning)**\n",
    "\n",
    "בלמידה לא מפוקחת אין תוויות לנתונים, והמודל מחפש דפוסים סמויים."
   ]
  },
  {
   "cell_type": "markdown",
   "metadata": {},
   "source": [
    "### **📌 דוגמה: קיבוץ נתונים (Clustering) באמצעות K-Means**"
   ]
  },
  {
   "cell_type": "code",
   "execution_count": null,
   "metadata": {},
   "outputs": [],
   "source": [
    "from sklearn.cluster import KMeans\n",
    "from sklearn.datasets import make_blobs\n",
    "\n",
    "# יצירת נתונים מלאכותיים\n",
    "X, _ = make_blobs(n_samples=300, centers=3, random_state=42)\n",
    "\n",
    "# יצירת מודל K-Means\n",
    "kmeans = KMeans(n_clusters=3, random_state=42)\n",
    "clusters = kmeans.fit_predict(X)\n",
    "\n",
    "# הצגת הקבוצות\n",
    "plt.figure(figsize=(8,6))\n",
    "plt.scatter(X[:, 0], X[:, 1], c=clusters, cmap='viridis', edgecolor='black')\n",
    "plt.scatter(kmeans.cluster_centers_[:, 0], kmeans.cluster_centers_[:, 1], c='red', marker='X', s=200, label='Centroids')\n",
    "plt.xlabel('Feature 1')\n",
    "plt.ylabel('Feature 2')\n",
    "plt.title('K-Means Clustering')\n",
    "plt.legend()\n",
    "plt.grid(True)\n",
    "plt.show()"
   ]
  }
 ],
 "metadata": {
  "kernelspec": {
   "display_name": "Python 3 (ipykernel)",
   "language": "python",
   "name": "python3"
  },
  "language_info": {
   "codemirror_mode": {
    "name": "ipython",
    "version": 3
   },
   "file_extension": ".py",
   "mimetype": "text/x-python",
   "name": "python",
   "nbconvert_exporter": "python",
   "pygments_lexer": "ipython3",
   "version": "3.12.5"
  }
 },
 "nbformat": 4,
 "nbformat_minor": 4
}
