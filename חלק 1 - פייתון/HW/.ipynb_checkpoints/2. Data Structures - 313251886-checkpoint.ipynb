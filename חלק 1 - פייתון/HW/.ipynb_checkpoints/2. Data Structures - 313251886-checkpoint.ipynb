{
 "cells": [
  {
   "attachments": {},
   "cell_type": "markdown",
   "id": "64a4ad40",
   "metadata": {},
   "source": [
    "# Data Structures\n",
    "\n",
    "## Questions"
   ]
  },
  {
   "attachments": {},
   "cell_type": "markdown",
   "id": "77d5110a",
   "metadata": {},
   "source": [
    "Exercise 1: Creating a List `fruits = [\"apple\", \"banana\", \"cherry\"]`"
   ]
  },
  {
   "cell_type": "code",
   "execution_count": 295,
   "id": "07d802e3",
   "metadata": {},
   "outputs": [],
   "source": [
    "fruits = [\"apple\", \"banana\", \"cherry\"]\n"
   ]
  },
  {
   "attachments": {},
   "cell_type": "markdown",
   "id": "ba424ff3",
   "metadata": {},
   "source": [
    "Exercise 2: Accessing List Elements `banana`"
   ]
  },
  {
   "cell_type": "code",
   "execution_count": 296,
   "id": "6b9f0346",
   "metadata": {},
   "outputs": [
    {
     "name": "stdout",
     "output_type": "stream",
     "text": [
      "banana\n"
     ]
    }
   ],
   "source": [
    "print(fruits[1])\n"
   ]
  },
  {
   "attachments": {},
   "cell_type": "markdown",
   "id": "36e7965f",
   "metadata": {},
   "source": [
    "Exercise 3: Changing List Element `banana` with `blueberry`"
   ]
  },
  {
   "cell_type": "code",
   "execution_count": 297,
   "id": "d6b5bcdf",
   "metadata": {},
   "outputs": [
    {
     "name": "stdout",
     "output_type": "stream",
     "text": [
      "blueberry\n",
      "blueberry\n"
     ]
    }
   ],
   "source": [
    "fruits[fruits.index(\"banana\")]= \"blueberry\"\n",
    "print(fruits[1])\n",
    "\n",
    "fruits = [\"apple\", \"banana\", \"cherry\"]\n",
    "fruits = [\"blueberry\" if fruit == \"banana\" else fruit for fruit in fruits]\n",
    "print(fruits[1])\n"
   ]
  },
  {
   "attachments": {},
   "cell_type": "markdown",
   "id": "809205d9",
   "metadata": {},
   "source": [
    "Exercise 4: Adding Elements to a List `orange`"
   ]
  },
  {
   "cell_type": "code",
   "execution_count": 298,
   "id": "b6fca776",
   "metadata": {},
   "outputs": [
    {
     "name": "stdout",
     "output_type": "stream",
     "text": [
      "['apple', 'blueberry', 'cherry', 'orange']\n"
     ]
    }
   ],
   "source": [
    "fruits.append(\"orange\")\n",
    "print(fruits)\n"
   ]
  },
  {
   "attachments": {},
   "cell_type": "markdown",
   "id": "60ed93e1",
   "metadata": {},
   "source": [
    "Exercise 5: Removing Element `blueberry` from a List"
   ]
  },
  {
   "cell_type": "code",
   "execution_count": 299,
   "id": "39c347b2",
   "metadata": {},
   "outputs": [
    {
     "name": "stdout",
     "output_type": "stream",
     "text": [
      "['apple', 'blueberry', 'cherry', 'orange', 'blueberry']\n",
      "['apple', 'cherry', 'orange', 'blueberry']\n",
      "['apple', 'cherry', 'orange', 'blueberry', 'blueberry']\n",
      "['apple', 'cherry', 'orange']\n",
      "['apple', 'cherry', 'orange', 'blueberry', 'blueberry', 'blueberry']\n",
      "[3, 4, 5]\n",
      "['apple', 'cherry', 'orange']\n"
     ]
    }
   ],
   "source": [
    "fruits.append(\"blueberry\")\n",
    "print(fruits)\n",
    "fruits.remove(\"blueberry\") #remove the first only\n",
    "print(fruits)\n",
    "\n",
    "fruits.append(\"blueberry\")\n",
    "print(fruits)\n",
    "fruits = [ fruit for fruit in fruits if fruit != \"blueberry\"]\n",
    "print(fruits)\n",
    "\n",
    "fruits.append(\"blueberry\")\n",
    "fruits.append(\"blueberry\")\n",
    "fruits.append(\"blueberry\")\n",
    "print(fruits)\n",
    "indexs = [ i for i, fruit in enumerate(fruits) if fruit == \"blueberry\"]\n",
    "print(indexs)\n",
    "for i in reversed(indexs) : fruits.pop(i)\n",
    "print(fruits)\n"
   ]
  },
  {
   "attachments": {},
   "cell_type": "markdown",
   "id": "3655097f",
   "metadata": {},
   "source": [
    "Exercise 6: Creating a Tuple `coordinates = (4, 5)`"
   ]
  },
  {
   "cell_type": "code",
   "execution_count": 300,
   "id": "9c095e96",
   "metadata": {},
   "outputs": [],
   "source": [
    "\n",
    "coordinates = (4, 5)"
   ]
  },
  {
   "attachments": {},
   "cell_type": "markdown",
   "id": "d07d4c06",
   "metadata": {},
   "source": [
    "Exercise 7: Accessing Tuple Element `4`"
   ]
  },
  {
   "cell_type": "code",
   "execution_count": 301,
   "id": "6fbce525",
   "metadata": {},
   "outputs": [
    {
     "name": "stdout",
     "output_type": "stream",
     "text": [
      "4\n"
     ]
    }
   ],
   "source": [
    "print(coordinates[0])\n"
   ]
  },
  {
   "attachments": {},
   "cell_type": "markdown",
   "id": "e268cf9b",
   "metadata": {},
   "source": [
    "Exercise 8: Tuple Immutability - Try to change Element `5` with `10`. It will raise an error."
   ]
  },
  {
   "cell_type": "code",
   "execution_count": 302,
   "id": "b1b687af",
   "metadata": {},
   "outputs": [
    {
     "name": "stdout",
     "output_type": "stream",
     "text": [
      "(4, 10)\n",
      "(4, 5)\n"
     ]
    }
   ],
   "source": [
    "coordinates = coordinates[0] , 10   \n",
    "print(coordinates)\n",
    "coordinates = coordinates[:1] + (5,)\n",
    "print(coordinates)"
   ]
  },
  {
   "attachments": {},
   "cell_type": "markdown",
   "id": "fe44fe2a",
   "metadata": {},
   "source": [
    "Exercise 9: Creating a Set `numbers = {1, 2, 3, 4, 5}`"
   ]
  },
  {
   "cell_type": "code",
   "execution_count": 303,
   "id": "d64667c3",
   "metadata": {},
   "outputs": [
    {
     "name": "stdout",
     "output_type": "stream",
     "text": [
      "{1, 2, 3, 4, 5}\n"
     ]
    }
   ],
   "source": [
    "numbers = {1, 2, 3, 4, 5}\n",
    "print(numbers)\n"
   ]
  },
  {
   "attachments": {},
   "cell_type": "markdown",
   "id": "a6ca6a75",
   "metadata": {},
   "source": [
    "Exercise 10: Add `6` to a Set"
   ]
  },
  {
   "cell_type": "code",
   "execution_count": 304,
   "id": "65aba7c8",
   "metadata": {},
   "outputs": [
    {
     "name": "stdout",
     "output_type": "stream",
     "text": [
      "{1, 2, 3, 4, 5, 6}\n"
     ]
    }
   ],
   "source": [
    "numbers.add(6)\n",
    "print(numbers)\n"
   ]
  },
  {
   "attachments": {},
   "cell_type": "markdown",
   "id": "203226ef",
   "metadata": {},
   "source": [
    "Exercise 11: Creat a Frozenset from the previous set"
   ]
  },
  {
   "cell_type": "code",
   "execution_count": 305,
   "id": "1edfbe78",
   "metadata": {},
   "outputs": [],
   "source": [
    "numbers = frozenset(numbers)\n"
   ]
  },
  {
   "attachments": {},
   "cell_type": "markdown",
   "id": "d65ead88",
   "metadata": {},
   "source": [
    "Exercise 12: Frozenset Immutability - Try to Add `7` to the new frozenset. It will raise an error."
   ]
  },
  {
   "cell_type": "code",
   "execution_count": 306,
   "id": "254e968b",
   "metadata": {},
   "outputs": [
    {
     "name": "stdout",
     "output_type": "stream",
     "text": [
      "frozenset({1, 2, 3, 4, 5, 6, 7})\n"
     ]
    }
   ],
   "source": [
    "numbers = set(numbers)\n",
    "numbers.add(7)\n",
    "numbers = frozenset(numbers)\n",
    "print(numbers)\n"
   ]
  },
  {
   "attachments": {},
   "cell_type": "markdown",
   "id": "c67c587c",
   "metadata": {},
   "source": [
    "Exercise 13: Creating a Dictionary `fruit_colors = {\"apple\": \"red\", \"banana\": \"yellow\", \"cherry\": \"red\"}`"
   ]
  },
  {
   "cell_type": "code",
   "execution_count": 307,
   "id": "088faeca",
   "metadata": {},
   "outputs": [],
   "source": [
    "fruit_color = {\"apple\": {\"red\":\"sweet\"} , \"banana\": \"yellow\", \"cherry\": \"red\"}"
   ]
  },
  {
   "attachments": {},
   "cell_type": "markdown",
   "id": "875c43e9",
   "metadata": {},
   "source": [
    "Exercise 14: Accessing Dictionary Values. Print `apple` color"
   ]
  },
  {
   "cell_type": "code",
   "execution_count": 308,
   "id": "54cd4015",
   "metadata": {},
   "outputs": [
    {
     "name": "stdout",
     "output_type": "stream",
     "text": [
      "{'red': 'sweet'}\n"
     ]
    }
   ],
   "source": [
    "print(fruit_color[\"apple\"]  )\n"
   ]
  },
  {
   "attachments": {},
   "cell_type": "markdown",
   "id": "f03e1f6e",
   "metadata": {},
   "source": [
    "Exercise 15: Changing Dictionary Values. Replace the `apple` color to `green`"
   ]
  },
  {
   "cell_type": "code",
   "execution_count": 309,
   "id": "36c9f90a",
   "metadata": {},
   "outputs": [
    {
     "name": "stdout",
     "output_type": "stream",
     "text": [
      "{'green': 'sour'}\n"
     ]
    }
   ],
   "source": [
    "fruit_color[\"apple\"][\"green\"] = \"sour\"\n",
    "fruit_color[\"apple\"].pop(\"red\")\n",
    "print(fruit_color[\"apple\"]  )\n"
   ]
  },
  {
   "attachments": {},
   "cell_type": "markdown",
   "id": "fd1bb6b4",
   "metadata": {},
   "source": [
    "Exercise 16: Adding Key-Value Pairs to a Dictionary `'blueberry': 'blue'`"
   ]
  },
  {
   "cell_type": "code",
   "execution_count": 310,
   "id": "da5b7772",
   "metadata": {},
   "outputs": [
    {
     "name": "stdout",
     "output_type": "stream",
     "text": [
      "{'apple': {'green': 'sour'}, 'banana': 'yellow', 'cherry': 'red', 'blueberry': 'blue'}\n"
     ]
    }
   ],
   "source": [
    "fruit_color['blueberry'] = 'blue'\n",
    "print(fruit_color)"
   ]
  },
  {
   "attachments": {},
   "cell_type": "markdown",
   "id": "49a39f0f",
   "metadata": {},
   "source": [
    "Exercise 17: Removing Key-Value Pairs from a Dictionary `'banana': 'yellow'`"
   ]
  },
  {
   "cell_type": "code",
   "execution_count": 311,
   "id": "49f5efaa",
   "metadata": {},
   "outputs": [
    {
     "name": "stdout",
     "output_type": "stream",
     "text": [
      "{'apple': {'green': 'sour'}, 'cherry': 'red', 'blueberry': 'blue'}\n"
     ]
    }
   ],
   "source": [
    "\n",
    "fruit_color.pop(\"banana\")\n",
    "print(fruit_color)"
   ]
  },
  {
   "attachments": {},
   "cell_type": "markdown",
   "id": "bf6cc8e6",
   "metadata": {},
   "source": [
    "Exercise 18: Creating a List of Lists (Matrix) `matrix = [[1, 2, 3], [4, 5, 6], [7, 8, 9]]`"
   ]
  },
  {
   "cell_type": "code",
   "execution_count": 312,
   "id": "e5f21766",
   "metadata": {},
   "outputs": [
    {
     "name": "stdout",
     "output_type": "stream",
     "text": [
      "[1, 2, 3]\n",
      "[4, 5, 6]\n",
      "[7, 8, 9]\n"
     ]
    }
   ],
   "source": [
    "matrix = [[1, 2, 3], [4, 5, 6], [7, 8, 9]]\n",
    "for i in matrix:\n",
    "    print(i)"
   ]
  },
  {
   "attachments": {},
   "cell_type": "markdown",
   "id": "2f39d035",
   "metadata": {},
   "source": [
    "Exercise 19: Accessing Element `2` in a List of Lists"
   ]
  },
  {
   "cell_type": "code",
   "execution_count": 313,
   "id": "49ae12b2",
   "metadata": {},
   "outputs": [
    {
     "data": {
      "text/plain": [
       "2"
      ]
     },
     "execution_count": 313,
     "metadata": {},
     "output_type": "execute_result"
    }
   ],
   "source": [
    "matrix[0][1]\n"
   ]
  },
  {
   "attachments": {},
   "cell_type": "markdown",
   "id": "318e235f",
   "metadata": {},
   "source": [
    "Exercise 20: Changing Element `6` into 10"
   ]
  },
  {
   "cell_type": "code",
   "execution_count": 314,
   "id": "da5224c5",
   "metadata": {},
   "outputs": [
    {
     "name": "stdout",
     "output_type": "stream",
     "text": [
      "[1, 2, 3]\n",
      "[4, 5, 10]\n",
      "[7, 8, 9]\n"
     ]
    }
   ],
   "source": [
    "matrix[1][2]= 10\n",
    "for i in matrix:\n",
    "    print(i)"
   ]
  },
  {
   "attachments": {},
   "cell_type": "markdown",
   "id": "96567f57",
   "metadata": {},
   "source": [
    "Exercise 21: Creating a Range `0` to `10` and print it"
   ]
  },
  {
   "cell_type": "code",
   "execution_count": 315,
   "id": "c2e2f14c",
   "metadata": {},
   "outputs": [
    {
     "name": "stdout",
     "output_type": "stream",
     "text": [
      "[0, 1, 2, 3, 4, 5, 6, 7, 8, 9, 10]\n"
     ]
    }
   ],
   "source": [
    "    print(list(range( 0 ,11)))\n"
   ]
  },
  {
   "attachments": {},
   "cell_type": "markdown",
   "id": "0ab81e3f",
   "metadata": {},
   "source": [
    "Exercise 22: Creating a Range  `0` to `10` with Step `2`"
   ]
  },
  {
   "cell_type": "code",
   "execution_count": 316,
   "id": "a04c4e98",
   "metadata": {},
   "outputs": [
    {
     "name": "stdout",
     "output_type": "stream",
     "text": [
      "[0, 2, 4, 6, 8, 10]\n"
     ]
    }
   ],
   "source": [
    "    print(list(range( 0 ,11,2)))\n"
   ]
  },
  {
   "attachments": {},
   "cell_type": "markdown",
   "id": "c8caeaef",
   "metadata": {},
   "source": [
    "Exercise 23: Accessing Range Element `4`"
   ]
  },
  {
   "cell_type": "code",
   "execution_count": 317,
   "id": "1c656ddf",
   "metadata": {},
   "outputs": [
    {
     "name": "stdout",
     "output_type": "stream",
     "text": [
      "8\n"
     ]
    }
   ],
   "source": [
    "    print(list(range( 0 ,11,2))[4])"
   ]
  },
  {
   "attachments": {},
   "cell_type": "markdown",
   "id": "25125341",
   "metadata": {},
   "source": [
    "Exercise 24: Using List Methods, use the list `fruits = [\"apple\", \"cherry\", \"apple\", \"cherry\", \"apple\"]` and count the number of times the string `apple` apears"
   ]
  },
  {
   "cell_type": "code",
   "execution_count": 318,
   "id": "4550b569",
   "metadata": {},
   "outputs": [
    {
     "name": "stdout",
     "output_type": "stream",
     "text": [
      "3\n",
      "3\n"
     ]
    }
   ],
   "source": [
    "fruits = [\"apple\", \"cherry\", \"apple\", \"cherry\", \"apple\"] \n",
    "t = ([True for fruit in fruits if fruit == \"apple\"])\n",
    "c = t.count(True)\n",
    "print (c)\n",
    "\n",
    "print(fruits.count(\"apple\"))"
   ]
  },
  {
   "attachments": {},
   "cell_type": "markdown",
   "id": "f898d149",
   "metadata": {},
   "source": [
    "Exercise 25: Sorting the List in decending order"
   ]
  },
  {
   "cell_type": "code",
   "execution_count": 319,
   "id": "c19a8247",
   "metadata": {},
   "outputs": [
    {
     "name": "stdout",
     "output_type": "stream",
     "text": [
      "['cherry', 'cherry', 'apple', 'apple', 'apple']\n"
     ]
    }
   ],
   "source": [
    "fruits= ['cherry', 'cherry', 'apple', 'apple', 'apple']\n",
    "fruits.sort(reverse=True)\n",
    "print(fruits)\n"
   ]
  },
  {
   "attachments": {},
   "cell_type": "markdown",
   "id": "1dc50ca4",
   "metadata": {},
   "source": [
    "Exercise 26: Reversing the List"
   ]
  },
  {
   "cell_type": "code",
   "execution_count": 320,
   "id": "4a5c4cc6",
   "metadata": {},
   "outputs": [
    {
     "data": {
      "text/plain": [
       "['apple', 'apple', 'apple', 'cherry', 'cherry']"
      ]
     },
     "execution_count": 320,
     "metadata": {},
     "output_type": "execute_result"
    }
   ],
   "source": [
    "fruits.reverse()\n",
    "fruits\n",
    "\n"
   ]
  },
  {
   "attachments": {},
   "cell_type": "markdown",
   "id": "841df2ae",
   "metadata": {},
   "source": [
    "Exercise 27: Joining a List of Strings - Create the string `apple, apple, apple, cherry, cherry` from the list `fruits`. save it to a variable called `fruit_string` and Print it"
   ]
  },
  {
   "cell_type": "code",
   "execution_count": 321,
   "id": "fedd5cb7",
   "metadata": {},
   "outputs": [
    {
     "data": {
      "text/plain": [
       "'apple apple apple cherry cherry'"
      ]
     },
     "execution_count": 321,
     "metadata": {},
     "output_type": "execute_result"
    }
   ],
   "source": [
    "fruit_string = \" \".join(fruits)\n",
    "fruit_string"
   ]
  },
  {
   "attachments": {},
   "cell_type": "markdown",
   "id": "fe1cd02a",
   "metadata": {},
   "source": [
    "Exercise 28: Splitting a String into a List - split the strinf `fruit_string` back into a list"
   ]
  },
  {
   "cell_type": "code",
   "execution_count": 322,
   "id": "13f37e5f",
   "metadata": {},
   "outputs": [
    {
     "data": {
      "text/plain": [
       "['apple', 'apple', 'apple', 'cherry', 'cherry']"
      ]
     },
     "execution_count": 322,
     "metadata": {},
     "output_type": "execute_result"
    }
   ],
   "source": [
    "fruit_string = fruit_string.split()\n",
    "fruit_string\n"
   ]
  },
  {
   "attachments": {},
   "cell_type": "markdown",
   "id": "21c710ff",
   "metadata": {},
   "source": [
    "Exercise 29: Using Dictionary Methods - Create a list from `fruit_colors` keys"
   ]
  },
  {
   "cell_type": "code",
   "execution_count": 333,
   "id": "db6a8377",
   "metadata": {},
   "outputs": [
    {
     "data": {
      "text/plain": [
       "['apple', 'cherry', 'blueberry']"
      ]
     },
     "execution_count": 333,
     "metadata": {},
     "output_type": "execute_result"
    }
   ],
   "source": [
    "fruit_colors = list(fruit_color.keys())\n",
    "fruit_colors"
   ]
  },
  {
   "attachments": {},
   "cell_type": "markdown",
   "id": "77888c33",
   "metadata": {},
   "source": [
    "Exercise 30: Using Dictionary Methods - Create a list from `fruit_colors` values"
   ]
  },
  {
   "cell_type": "code",
   "execution_count": 334,
   "id": "1744ee4a-e952-41e3-bd74-a04e098369d7",
   "metadata": {},
   "outputs": [
    {
     "data": {
      "text/plain": [
       "[{'green': 'sour'}, 'red', 'blue']"
      ]
     },
     "execution_count": 334,
     "metadata": {},
     "output_type": "execute_result"
    }
   ],
   "source": [
    "fruit_colors = list(fruit_color.values())\n",
    "fruit_colors"
   ]
  },
  {
   "cell_type": "code",
   "execution_count": null,
   "id": "c56d39d3-dee1-4365-9765-c776d9334a27",
   "metadata": {},
   "outputs": [],
   "source": []
  }
 ],
 "metadata": {
  "kernelspec": {
   "display_name": "Python 3 (ipykernel)",
   "language": "python",
   "name": "python3"
  },
  "language_info": {
   "codemirror_mode": {
    "name": "ipython",
    "version": 3
   },
   "file_extension": ".py",
   "mimetype": "text/x-python",
   "name": "python",
   "nbconvert_exporter": "python",
   "pygments_lexer": "ipython3",
   "version": "3.12.1"
  }
 },
 "nbformat": 4,
 "nbformat_minor": 5
}
