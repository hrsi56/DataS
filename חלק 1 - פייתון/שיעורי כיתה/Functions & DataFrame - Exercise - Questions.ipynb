{
 "cells": [
  {
   "cell_type": "markdown",
   "metadata": {
    "id": "Sp8JZvoDpMQV"
   },
   "source": [
    "# Functions & DataFrame - Exercise\n",
    "© Advanced Analytics, Amir Ben Haim, 2024"
   ]
  },
  {
   "cell_type": "markdown",
   "metadata": {
    "id": "5r8wl967EnnG"
   },
   "source": [
    "## Filter `df` using `def` function"
   ]
  },
  {
   "cell_type": "markdown",
   "metadata": {
    "id": "qhx7B-xJEnnG"
   },
   "source": [
    "### Exercise 1"
   ]
  },
  {
   "cell_type": "markdown",
   "metadata": {
    "id": "ComZ8SjSEnnH"
   },
   "source": [
    "First, import the `pandas` library to the environment"
   ]
  },
  {
   "cell_type": "code",
   "execution_count": 13,
   "metadata": {
    "id": "YGTdOjbBpMQb"
   },
   "outputs": [],
   "source": [
    "import pandas as pd"
   ]
  },
  {
   "cell_type": "markdown",
   "metadata": {
    "id": "b0JzbN7epMQd"
   },
   "source": [
    "<br>\n",
    "<hr class=\"dotted\">\n",
    "<br>"
   ]
  },
  {
   "cell_type": "markdown",
   "metadata": {
    "id": "6mog0FETEnnI"
   },
   "source": [
    "### Exercise 2"
   ]
  },
  {
   "cell_type": "markdown",
   "metadata": {
    "id": "FPO9aKswEnnI"
   },
   "source": [
    "Create the following df:\n",
    "\n",
    "```python\n",
    "df = pd.DataFrame({\n",
    "      'id':[1,2,3,4,5,6,7,8,9,10],\n",
    "      'name':['Avi','Betti','Clair','Doron','Eli','abi','barbara','chen','debra','eylin'],\n",
    "      'age':[25,40,30.5,25,32,40,50,46.5,27,35],\n",
    "      'student':[True,False,False,True,False,True,False,True,False,False]\n",
    "    })\n",
    "df\n",
    "```"
   ]
  },
  {
   "cell_type": "code",
   "execution_count": 70,
   "metadata": {
    "colab": {
     "base_uri": "https://localhost:8080/",
     "height": 206
    },
    "executionInfo": {
     "elapsed": 17,
     "status": "ok",
     "timestamp": 1693919959507,
     "user": {
      "displayName": "AMIR BH",
      "userId": "16701617517998763373"
     },
     "user_tz": -180
    },
    "id": "-9t54HVzpMQe",
    "outputId": "7c512fd2-a249-4f36-d5b9-f85a263158f9"
   },
   "outputs": [
    {
     "data": {
      "text/html": [
       "<div>\n",
       "<style scoped>\n",
       "    .dataframe tbody tr th:only-of-type {\n",
       "        vertical-align: middle;\n",
       "    }\n",
       "\n",
       "    .dataframe tbody tr th {\n",
       "        vertical-align: top;\n",
       "    }\n",
       "\n",
       "    .dataframe thead th {\n",
       "        text-align: right;\n",
       "    }\n",
       "</style>\n",
       "<table border=\"1\" class=\"dataframe\">\n",
       "  <thead>\n",
       "    <tr style=\"text-align: right;\">\n",
       "      <th></th>\n",
       "      <th>id</th>\n",
       "      <th>name</th>\n",
       "      <th>age</th>\n",
       "      <th>student</th>\n",
       "    </tr>\n",
       "  </thead>\n",
       "  <tbody>\n",
       "    <tr>\n",
       "      <th>0</th>\n",
       "      <td>1</td>\n",
       "      <td>Avi</td>\n",
       "      <td>25.0</td>\n",
       "      <td>True</td>\n",
       "    </tr>\n",
       "    <tr>\n",
       "      <th>1</th>\n",
       "      <td>2</td>\n",
       "      <td>Betti</td>\n",
       "      <td>40.0</td>\n",
       "      <td>False</td>\n",
       "    </tr>\n",
       "    <tr>\n",
       "      <th>2</th>\n",
       "      <td>3</td>\n",
       "      <td>Clair</td>\n",
       "      <td>30.5</td>\n",
       "      <td>False</td>\n",
       "    </tr>\n",
       "    <tr>\n",
       "      <th>3</th>\n",
       "      <td>4</td>\n",
       "      <td>Doron</td>\n",
       "      <td>25.0</td>\n",
       "      <td>True</td>\n",
       "    </tr>\n",
       "    <tr>\n",
       "      <th>4</th>\n",
       "      <td>5</td>\n",
       "      <td>Eli</td>\n",
       "      <td>32.0</td>\n",
       "      <td>False</td>\n",
       "    </tr>\n",
       "    <tr>\n",
       "      <th>5</th>\n",
       "      <td>6</td>\n",
       "      <td>abi</td>\n",
       "      <td>40.0</td>\n",
       "      <td>True</td>\n",
       "    </tr>\n",
       "    <tr>\n",
       "      <th>6</th>\n",
       "      <td>7</td>\n",
       "      <td>barbara</td>\n",
       "      <td>50.0</td>\n",
       "      <td>False</td>\n",
       "    </tr>\n",
       "    <tr>\n",
       "      <th>7</th>\n",
       "      <td>8</td>\n",
       "      <td>chen</td>\n",
       "      <td>46.5</td>\n",
       "      <td>True</td>\n",
       "    </tr>\n",
       "    <tr>\n",
       "      <th>8</th>\n",
       "      <td>9</td>\n",
       "      <td>debra</td>\n",
       "      <td>27.0</td>\n",
       "      <td>False</td>\n",
       "    </tr>\n",
       "    <tr>\n",
       "      <th>9</th>\n",
       "      <td>10</td>\n",
       "      <td>eylin</td>\n",
       "      <td>35.0</td>\n",
       "      <td>False</td>\n",
       "    </tr>\n",
       "  </tbody>\n",
       "</table>\n",
       "</div>"
      ],
      "text/plain": [
       "   id     name   age  student\n",
       "0   1      Avi  25.0     True\n",
       "1   2    Betti  40.0    False\n",
       "2   3    Clair  30.5    False\n",
       "3   4    Doron  25.0     True\n",
       "4   5      Eli  32.0    False\n",
       "5   6      abi  40.0     True\n",
       "6   7  barbara  50.0    False\n",
       "7   8     chen  46.5     True\n",
       "8   9    debra  27.0    False\n",
       "9  10    eylin  35.0    False"
      ]
     },
     "execution_count": 70,
     "metadata": {},
     "output_type": "execute_result"
    }
   ],
   "source": [
    "df = pd.DataFrame({\n",
    "      'id':[1,2,3,4,5,6,7,8,9,10],\n",
    "      'name':['Avi','Betti','Clair','Doron','Eli','abi','barbara','chen','debra','eylin'],\n",
    "      'age':[25,40,30.5,25,32,40,50,46.5,27,35],\n",
    "      'student':[True,False,False,True,False,True,False,True,False,False]\n",
    "    })\n",
    "df\n"
   ]
  },
  {
   "cell_type": "markdown",
   "metadata": {
    "id": "u7H7xVKvEnnJ"
   },
   "source": [
    "<br>\n",
    "<hr class=\"dotted\">\n",
    "<br>"
   ]
  },
  {
   "cell_type": "markdown",
   "metadata": {
    "id": "zcaWdeuzEnnK"
   },
   "source": [
    "### Exercise 3"
   ]
  },
  {
   "cell_type": "markdown",
   "metadata": {
    "id": "Umw3K4sOev7H"
   },
   "source": [
    "Create a functions `filtered_df` as follows:\n",
    "<br>\n",
    "The functionn recieves a df, a column name and a value --> then filters the df accordinly"
   ]
  },
  {
   "cell_type": "markdown",
   "metadata": {
    "id": "QV11lNwBEnnK"
   },
   "source": [
    "Also, use the function with column 'age', and value 25\n",
    "```python\n",
    "\n",
    "# Create the function\n",
    "\n",
    "\n",
    "# Use the function\n",
    "filtered_df(df,'age',25)\n",
    "\n",
    "\n",
    "```"
   ]
  },
  {
   "cell_type": "code",
   "execution_count": 61,
   "metadata": {
    "executionInfo": {
     "elapsed": 15,
     "status": "ok",
     "timestamp": 1693919959507,
     "user": {
      "displayName": "AMIR BH",
      "userId": "16701617517998763373"
     },
     "user_tz": -180
    },
    "id": "5eJN4aPPev7I",
    "outputId": "75082940-5be3-4e84-de4d-40b75924363e"
   },
   "outputs": [
    {
     "data": {
      "text/html": [
       "<div>\n",
       "<style scoped>\n",
       "    .dataframe tbody tr th:only-of-type {\n",
       "        vertical-align: middle;\n",
       "    }\n",
       "\n",
       "    .dataframe tbody tr th {\n",
       "        vertical-align: top;\n",
       "    }\n",
       "\n",
       "    .dataframe thead th {\n",
       "        text-align: right;\n",
       "    }\n",
       "</style>\n",
       "<table border=\"1\" class=\"dataframe\">\n",
       "  <thead>\n",
       "    <tr style=\"text-align: right;\">\n",
       "      <th></th>\n",
       "      <th>id</th>\n",
       "      <th>name</th>\n",
       "      <th>age</th>\n",
       "      <th>student</th>\n",
       "    </tr>\n",
       "  </thead>\n",
       "  <tbody>\n",
       "    <tr>\n",
       "      <th>0</th>\n",
       "      <td>1</td>\n",
       "      <td>Avi</td>\n",
       "      <td>25.0</td>\n",
       "      <td>True</td>\n",
       "    </tr>\n",
       "    <tr>\n",
       "      <th>3</th>\n",
       "      <td>4</td>\n",
       "      <td>Doron</td>\n",
       "      <td>25.0</td>\n",
       "      <td>True</td>\n",
       "    </tr>\n",
       "  </tbody>\n",
       "</table>\n",
       "</div>"
      ],
      "text/plain": [
       "   id   name   age  student\n",
       "0   1    Avi  25.0     True\n",
       "3   4  Doron  25.0     True"
      ]
     },
     "execution_count": 61,
     "metadata": {},
     "output_type": "execute_result"
    }
   ],
   "source": [
    "def filtered_df(df,k,v):\n",
    "    df = df[df[k]==v]\n",
    "    return df\n",
    "    \n",
    "filtered_df(df,'age',25)\n"
   ]
  },
  {
   "cell_type": "markdown",
   "metadata": {
    "id": "DHDyfeCEEnnK"
   },
   "source": [
    "<br>\n",
    "<hr class=\"dotted\">\n",
    "<br>"
   ]
  },
  {
   "cell_type": "markdown",
   "metadata": {
    "id": "46JnDXlXEnnL"
   },
   "source": [
    "### Exercise 4"
   ]
  },
  {
   "cell_type": "markdown",
   "metadata": {
    "id": "7sPw5mQlEnnL"
   },
   "source": [
    "Use the function with column 'age', and value 25, 40.\n",
    "<br><b><u>If needed, adjust the fuction accordinly</u></b>\n",
    "```python\n",
    "\n",
    "# Use the function\n",
    "filtered_df(df,'age',25,40)\n",
    "\n",
    "\n",
    "```"
   ]
  },
  {
   "cell_type": "code",
   "execution_count": 65,
   "metadata": {
    "colab": {
     "base_uri": "https://localhost:8080/",
     "height": 112
    },
    "executionInfo": {
     "elapsed": 15,
     "status": "ok",
     "timestamp": 1693919959508,
     "user": {
      "displayName": "AMIR BH",
      "userId": "16701617517998763373"
     },
     "user_tz": -180
    },
    "id": "MdxBaJT5ev7I",
    "outputId": "bde6e804-d059-46e5-9567-fd210c944a33"
   },
   "outputs": [
    {
     "data": {
      "text/html": [
       "<div>\n",
       "<style scoped>\n",
       "    .dataframe tbody tr th:only-of-type {\n",
       "        vertical-align: middle;\n",
       "    }\n",
       "\n",
       "    .dataframe tbody tr th {\n",
       "        vertical-align: top;\n",
       "    }\n",
       "\n",
       "    .dataframe thead th {\n",
       "        text-align: right;\n",
       "    }\n",
       "</style>\n",
       "<table border=\"1\" class=\"dataframe\">\n",
       "  <thead>\n",
       "    <tr style=\"text-align: right;\">\n",
       "      <th></th>\n",
       "      <th>id</th>\n",
       "      <th>name</th>\n",
       "      <th>age</th>\n",
       "      <th>student</th>\n",
       "    </tr>\n",
       "  </thead>\n",
       "  <tbody>\n",
       "    <tr>\n",
       "      <th>0</th>\n",
       "      <td>1</td>\n",
       "      <td>Avi</td>\n",
       "      <td>25.0</td>\n",
       "      <td>True</td>\n",
       "    </tr>\n",
       "    <tr>\n",
       "      <th>1</th>\n",
       "      <td>2</td>\n",
       "      <td>Betti</td>\n",
       "      <td>40.0</td>\n",
       "      <td>False</td>\n",
       "    </tr>\n",
       "    <tr>\n",
       "      <th>3</th>\n",
       "      <td>4</td>\n",
       "      <td>Doron</td>\n",
       "      <td>25.0</td>\n",
       "      <td>True</td>\n",
       "    </tr>\n",
       "    <tr>\n",
       "      <th>5</th>\n",
       "      <td>6</td>\n",
       "      <td>abi</td>\n",
       "      <td>40.0</td>\n",
       "      <td>True</td>\n",
       "    </tr>\n",
       "  </tbody>\n",
       "</table>\n",
       "</div>"
      ],
      "text/plain": [
       "   id   name   age  student\n",
       "0   1    Avi  25.0     True\n",
       "1   2  Betti  40.0    False\n",
       "3   4  Doron  25.0     True\n",
       "5   6    abi  40.0     True"
      ]
     },
     "execution_count": 65,
     "metadata": {},
     "output_type": "execute_result"
    }
   ],
   "source": [
    "def filtered_df(df,k,*v):\n",
    "    \n",
    "    df = df[df[k].isin(v) ]\n",
    "    return df\n",
    "    \n",
    "filtered_df(df,'age',25,40)"
   ]
  },
  {
   "cell_type": "markdown",
   "metadata": {
    "id": "rNwH1OuEEnnL"
   },
   "source": [
    "<br>\n",
    "<hr class=\"dotted\">\n",
    "<br>"
   ]
  },
  {
   "cell_type": "markdown",
   "metadata": {
    "id": "qWkPZ7vpEnnL"
   },
   "source": [
    "### Exercise 5"
   ]
  },
  {
   "cell_type": "markdown",
   "metadata": {
    "id": "0cXluKUMEnnL"
   },
   "source": [
    "Create a function `dict_filters_df` that recieves a dictionary and filters the df accordinly\n",
    "\n",
    "```python\n",
    "#define the dic\n",
    "\n",
    "\n",
    "# Create the function\n",
    "\n",
    "\n",
    "# Use the function\n",
    "dict_filters_df(df, d)\n",
    "\n",
    "\n",
    "```\n"
   ]
  },
  {
   "cell_type": "code",
   "execution_count": 106,
   "metadata": {
    "id": "TUjl-Rggx6MY",
    "outputId": "ad75dcc2-237b-4ced-9b2e-66685ed64aef"
   },
   "outputs": [
    {
     "data": {
      "text/html": [
       "<div>\n",
       "<style scoped>\n",
       "    .dataframe tbody tr th:only-of-type {\n",
       "        vertical-align: middle;\n",
       "    }\n",
       "\n",
       "    .dataframe tbody tr th {\n",
       "        vertical-align: top;\n",
       "    }\n",
       "\n",
       "    .dataframe thead th {\n",
       "        text-align: right;\n",
       "    }\n",
       "</style>\n",
       "<table border=\"1\" class=\"dataframe\">\n",
       "  <thead>\n",
       "    <tr style=\"text-align: right;\">\n",
       "      <th></th>\n",
       "      <th>id</th>\n",
       "      <th>name</th>\n",
       "      <th>age</th>\n",
       "      <th>student</th>\n",
       "    </tr>\n",
       "  </thead>\n",
       "  <tbody>\n",
       "    <tr>\n",
       "      <th>0</th>\n",
       "      <td>1</td>\n",
       "      <td>Avi</td>\n",
       "      <td>25.0</td>\n",
       "      <td>True</td>\n",
       "    </tr>\n",
       "    <tr>\n",
       "      <th>3</th>\n",
       "      <td>4</td>\n",
       "      <td>Doron</td>\n",
       "      <td>25.0</td>\n",
       "      <td>True</td>\n",
       "    </tr>\n",
       "    <tr>\n",
       "      <th>5</th>\n",
       "      <td>6</td>\n",
       "      <td>abi</td>\n",
       "      <td>40.0</td>\n",
       "      <td>True</td>\n",
       "    </tr>\n",
       "    <tr>\n",
       "      <th>7</th>\n",
       "      <td>8</td>\n",
       "      <td>chen</td>\n",
       "      <td>46.5</td>\n",
       "      <td>True</td>\n",
       "    </tr>\n",
       "  </tbody>\n",
       "</table>\n",
       "</div>"
      ],
      "text/plain": [
       "   id   name   age  student\n",
       "0   1    Avi  25.0     True\n",
       "3   4  Doron  25.0     True\n",
       "5   6    abi  40.0     True\n",
       "7   8   chen  46.5     True"
      ]
     },
     "execution_count": 106,
     "metadata": {},
     "output_type": "execute_result"
    }
   ],
   "source": [
    "def dict_filters_df(df, d):\n",
    "    for k, v in d.items():\n",
    "        j = df[k].isin(v)\n",
    "    return df[j]\n",
    "    \n",
    "    \n",
    "d = {'age':[25,40], 'student':[True]}\n",
    "dict_filters_df(df, d)"
   ]
  },
  {
   "cell_type": "markdown",
   "metadata": {
    "id": "V_a6G3OsEnnL"
   },
   "source": [
    "<br>\n",
    "<hr class=\"dotted\">\n",
    "<br>"
   ]
  },
  {
   "cell_type": "markdown",
   "metadata": {
    "id": "XbfqGsEbEnnL"
   },
   "source": [
    "### Exercise 6"
   ]
  },
  {
   "cell_type": "markdown",
   "metadata": {
    "id": "KFwK8wimEnnM"
   },
   "source": [
    "Use the function with the following `dict`\n",
    "<br><b><u>If needed, adjust the fuction accordinly</u></b>\n",
    "\n",
    "```python\n",
    "#define the dic\n",
    "d = {'age':[25,40], 'student':[False]}\n",
    "\n",
    "\n",
    "# Use the function\n",
    "dict_filters_df(df, d)\n",
    "\n",
    "\n",
    "```\n"
   ]
  },
  {
   "cell_type": "code",
   "execution_count": 97,
   "metadata": {
    "id": "oeydpiH8EnnM",
    "outputId": "1da10535-197c-419c-8d43-dffaaea3fd31"
   },
   "outputs": [
    {
     "data": {
      "text/html": [
       "<div>\n",
       "<style scoped>\n",
       "    .dataframe tbody tr th:only-of-type {\n",
       "        vertical-align: middle;\n",
       "    }\n",
       "\n",
       "    .dataframe tbody tr th {\n",
       "        vertical-align: top;\n",
       "    }\n",
       "\n",
       "    .dataframe thead th {\n",
       "        text-align: right;\n",
       "    }\n",
       "</style>\n",
       "<table border=\"1\" class=\"dataframe\">\n",
       "  <thead>\n",
       "    <tr style=\"text-align: right;\">\n",
       "      <th></th>\n",
       "      <th>id</th>\n",
       "      <th>name</th>\n",
       "      <th>age</th>\n",
       "      <th>student</th>\n",
       "    </tr>\n",
       "  </thead>\n",
       "  <tbody>\n",
       "    <tr>\n",
       "      <th>1</th>\n",
       "      <td>2</td>\n",
       "      <td>Betti</td>\n",
       "      <td>40.0</td>\n",
       "      <td>False</td>\n",
       "    </tr>\n",
       "  </tbody>\n",
       "</table>\n",
       "</div>"
      ],
      "text/plain": [
       "   id   name   age  student\n",
       "1   2  Betti  40.0    False"
      ]
     },
     "execution_count": 97,
     "metadata": {},
     "output_type": "execute_result"
    }
   ],
   "source": [
    "#define the dic\n",
    "d = {'age':[25,40], 'student':[False]}\n",
    "\n",
    "\n",
    "# Use the function\n",
    "dict_filters_df(df, d)\n"
   ]
  },
  {
   "cell_type": "markdown",
   "metadata": {
    "id": "v7Msi1rdEnnM"
   },
   "source": [
    "<br>\n",
    "<hr class=\"dotted\">\n",
    "<br>"
   ]
  },
  {
   "cell_type": "markdown",
   "metadata": {
    "id": "bPUWFOhAEnnM"
   },
   "source": [
    "### Exercise 7"
   ]
  },
  {
   "cell_type": "markdown",
   "metadata": {
    "id": "-SlPR2NREnnM"
   },
   "source": [
    "Use the function with the following `dict`\n",
    "<br><b><u>If needed, adjust the fuction accordinly</u></b>\n",
    "\n",
    "```python\n",
    "#define the dic\n",
    "d = {'age':[25,40], 'student':[True,False]}\n",
    "\n",
    "\n",
    "# Use the function\n",
    "dict_filters_df(df, d)\n",
    "\n",
    "\n",
    "```\n"
   ]
  },
  {
   "cell_type": "code",
   "execution_count": 98,
   "metadata": {
    "id": "hPaGIhPKEnnM",
    "outputId": "85a18fd6-e573-4aae-a3d9-c285ce037af9"
   },
   "outputs": [
    {
     "data": {
      "text/html": [
       "<div>\n",
       "<style scoped>\n",
       "    .dataframe tbody tr th:only-of-type {\n",
       "        vertical-align: middle;\n",
       "    }\n",
       "\n",
       "    .dataframe tbody tr th {\n",
       "        vertical-align: top;\n",
       "    }\n",
       "\n",
       "    .dataframe thead th {\n",
       "        text-align: right;\n",
       "    }\n",
       "</style>\n",
       "<table border=\"1\" class=\"dataframe\">\n",
       "  <thead>\n",
       "    <tr style=\"text-align: right;\">\n",
       "      <th></th>\n",
       "      <th>id</th>\n",
       "      <th>name</th>\n",
       "      <th>age</th>\n",
       "      <th>student</th>\n",
       "    </tr>\n",
       "  </thead>\n",
       "  <tbody>\n",
       "    <tr>\n",
       "      <th>0</th>\n",
       "      <td>1</td>\n",
       "      <td>Avi</td>\n",
       "      <td>25.0</td>\n",
       "      <td>True</td>\n",
       "    </tr>\n",
       "    <tr>\n",
       "      <th>1</th>\n",
       "      <td>2</td>\n",
       "      <td>Betti</td>\n",
       "      <td>40.0</td>\n",
       "      <td>False</td>\n",
       "    </tr>\n",
       "    <tr>\n",
       "      <th>3</th>\n",
       "      <td>4</td>\n",
       "      <td>Doron</td>\n",
       "      <td>25.0</td>\n",
       "      <td>True</td>\n",
       "    </tr>\n",
       "    <tr>\n",
       "      <th>5</th>\n",
       "      <td>6</td>\n",
       "      <td>abi</td>\n",
       "      <td>40.0</td>\n",
       "      <td>True</td>\n",
       "    </tr>\n",
       "  </tbody>\n",
       "</table>\n",
       "</div>"
      ],
      "text/plain": [
       "   id   name   age  student\n",
       "0   1    Avi  25.0     True\n",
       "1   2  Betti  40.0    False\n",
       "3   4  Doron  25.0     True\n",
       "5   6    abi  40.0     True"
      ]
     },
     "execution_count": 98,
     "metadata": {},
     "output_type": "execute_result"
    }
   ],
   "source": [
    "#define the dic\n",
    "d = {'age':[25,40], 'student':[True,False]}\n",
    "\n",
    "\n",
    "# Use the function\n",
    "dict_filters_df(df, d)"
   ]
  },
  {
   "cell_type": "markdown",
   "metadata": {
    "id": "j6qDjgtYEnnM"
   },
   "source": [
    "<br>\n",
    "<hr class=\"dotted\">\n",
    "<br>"
   ]
  },
  {
   "cell_type": "markdown",
   "metadata": {
    "id": "CJ7li__lEnnN"
   },
   "source": [
    "### Exercise 8"
   ]
  },
  {
   "cell_type": "markdown",
   "metadata": {
    "id": "uubjhUIrEnnN"
   },
   "source": [
    "Use the function with the following `dict`\n",
    "<br><b><u>If needed, adjust the fuction accordinly</u></b>\n",
    "\n",
    "```python\n",
    "#define the dic\n",
    "d = {'age':[25,40], 'student':[True,False], 'name': ['Avi','abi']}\n",
    "\n",
    "\n",
    "# Use the function\n",
    "dict_filters_df(df, d)\n",
    "\n",
    "\n",
    "```\n"
   ]
  },
  {
   "cell_type": "code",
   "execution_count": 99,
   "metadata": {
    "id": "4DUJwjfhEnnN",
    "outputId": "fb7798dc-e117-48a2-bab9-9b13d62d24f9"
   },
   "outputs": [
    {
     "data": {
      "text/html": [
       "<div>\n",
       "<style scoped>\n",
       "    .dataframe tbody tr th:only-of-type {\n",
       "        vertical-align: middle;\n",
       "    }\n",
       "\n",
       "    .dataframe tbody tr th {\n",
       "        vertical-align: top;\n",
       "    }\n",
       "\n",
       "    .dataframe thead th {\n",
       "        text-align: right;\n",
       "    }\n",
       "</style>\n",
       "<table border=\"1\" class=\"dataframe\">\n",
       "  <thead>\n",
       "    <tr style=\"text-align: right;\">\n",
       "      <th></th>\n",
       "      <th>id</th>\n",
       "      <th>name</th>\n",
       "      <th>age</th>\n",
       "      <th>student</th>\n",
       "    </tr>\n",
       "  </thead>\n",
       "  <tbody>\n",
       "    <tr>\n",
       "      <th>0</th>\n",
       "      <td>1</td>\n",
       "      <td>Avi</td>\n",
       "      <td>25.0</td>\n",
       "      <td>True</td>\n",
       "    </tr>\n",
       "    <tr>\n",
       "      <th>5</th>\n",
       "      <td>6</td>\n",
       "      <td>abi</td>\n",
       "      <td>40.0</td>\n",
       "      <td>True</td>\n",
       "    </tr>\n",
       "  </tbody>\n",
       "</table>\n",
       "</div>"
      ],
      "text/plain": [
       "   id name   age  student\n",
       "0   1  Avi  25.0     True\n",
       "5   6  abi  40.0     True"
      ]
     },
     "execution_count": 99,
     "metadata": {},
     "output_type": "execute_result"
    }
   ],
   "source": [
    "#define the dic\n",
    "d = {'age':[25,40], 'student':[True,False], 'name': ['Avi','abi']}\n",
    "\n",
    "\n",
    "# Use the function\n",
    "dict_filters_df(df, d)"
   ]
  },
  {
   "cell_type": "code",
   "execution_count": null,
   "metadata": {},
   "outputs": [],
   "source": []
  }
 ],
 "metadata": {
  "colab": {
   "provenance": []
  },
  "kernelspec": {
   "display_name": "Python 3 (ipykernel)",
   "language": "python",
   "name": "python3"
  },
  "language_info": {
   "codemirror_mode": {
    "name": "ipython",
    "version": 3
   },
   "file_extension": ".py",
   "mimetype": "text/x-python",
   "name": "python",
   "nbconvert_exporter": "python",
   "pygments_lexer": "ipython3",
   "version": "3.12.1"
  }
 },
 "nbformat": 4,
 "nbformat_minor": 4
}
