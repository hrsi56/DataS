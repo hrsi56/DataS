{
 "cells": [
  {
   "cell_type": "markdown",
   "id": "1561e7b8",
   "metadata": {},
   "source": [
    "# 📊 סיכום: הערכת מודלים (Model Assessment)"
   ]
  },
  {
   "cell_type": "markdown",
   "id": "0ed516a9",
   "metadata": {},
   "source": [
    "## מבוא\n",
    "בעת ביצוע למידת מכונה, קיימות שיטות רבות לאימון מודלים, אך אין שיטה אחת שתעבוד בצורה הטובה ביותר על כל מערך נתונים.  \n",
    "לכן, יש צורך **להעריך ולהשוות את ביצועי המודלים** כדי לבחור את המתאים ביותר לבעיה הנתונה.\n",
    "\n",
    "### מטרות הערכת מודלים:\n",
    "1. **מדידת איכות המודל** – עד כמה המודל מתאים לנתונים.\n",
    "2. **השוואת מודלים שונים** – כדי לבחור את המודל הטוב ביותר.\n",
    "3. **הימנעות מהטיות** – להימנע מלמידת יתר ($Overfitting$) או למידת חסר ($Underfitting$).י\n"
   ]
  },
  {
   "cell_type": "markdown",
   "id": "593a71ba",
   "metadata": {},
   "source": [
    "## שגיאה ממוצעת ריבועית ($Mean Squared Error - MSE$). י\n",
    "בבעיות **רגרסיה**, המדד המרכזי להערכת איכות המודל הוא **$MSE$**, המחושב לפי הנוסחה:\n",
    "\n",
    "$$[ MSE = \\frac{1}{n} \\sum_{i=1}^{n} (y_i - \\hat{f}(x_i))^2 ]$$\n",
    "\n",
    "ככל שה-$MSE$ נמוך יותר, כך החיזוי טוב יותר.\n"
   ]
  },
  {
   "cell_type": "code",
   "execution_count": 1,
   "id": "13e434c5",
   "metadata": {},
   "outputs": [
    {
     "name": "stdout",
     "output_type": "stream",
     "text": [
      "MSE באימון: 4.71\n",
      "MSE במבחן: 3.10\n"
     ]
    }
   ],
   "source": [
    "import numpy as np\n",
    "import matplotlib.pyplot as plt\n",
    "from sklearn.model_selection import train_test_split\n",
    "from sklearn.linear_model import LinearRegression\n",
    "from sklearn.metrics import mean_squared_error\n",
    "\n",
    "# יצירת נתונים\n",
    "X = np.random.rand(100, 1) * 10\n",
    "y = 3 * X.squeeze() + np.random.randn(100) * 2\n",
    "\n",
    "# חלוקת הנתונים לסט אימון וסט מבחן\n",
    "X_train, X_test, y_train, y_test = train_test_split(X, y, test_size=0.2, random_state=42)\n",
    "\n",
    "# אימון מודל רגרסיה ליניארית\n",
    "model = LinearRegression()\n",
    "model.fit(X_train, y_train)\n",
    "\n",
    "# חיזוי ובדיקת MSE\n",
    "y_pred_train = model.predict(X_train)\n",
    "y_pred_test = model.predict(X_test)\n",
    "\n",
    "mse_train = mean_squared_error(y_train, y_pred_train)\n",
    "mse_test = mean_squared_error(y_test, y_pred_test)\n",
    "\n",
    "print(f'MSE באימון: {mse_train:.2f}')\n",
    "print(f'MSE במבחן: {mse_test:.2f}')"
   ]
  },
  {
   "cell_type": "markdown",
   "id": "f868e4e7",
   "metadata": {},
   "source": [
    "## יש $Trade-Off$ בין הטיה לשונות ($Bias-Variance Trade-Off$) י\n",
    "$$[ MSE = \\text{Bias}^2 + \\text{Variance} + \\text{Irreducible Error} ]$$\n",
    "\n",
    "- **הטיה ($Bias$)** – עד כמה המודל רחוק מהאמת.\n",
    "- **שונות ($Variance$)** – עד כמה המודל משתנה בהתאם לנתונים.\n",
    "\n",
    "🔄 **האיזון הנכון בין הטיה לשונות חיוני להשגת מודל טוב.**\n"
   ]
  },
  {
   "cell_type": "code",
   "execution_count": 2,
   "id": "15ee59ad",
   "metadata": {},
   "outputs": [
    {
     "name": "stdout",
     "output_type": "stream",
     "text": [
      "MSE באמצעות 5-Fold Cross Validation: 4.79\n"
     ]
    }
   ],
   "source": [
    "from sklearn.model_selection import cross_val_score\n",
    "\n",
    "# חישוב MSE באמצעות 5-Fold Cross Validation\n",
    "mse_cv = -cross_val_score(model, X, y, cv=5, scoring='neg_mean_squared_error').mean()\n",
    "print(f'MSE באמצעות 5-Fold Cross Validation: {mse_cv:.2f}')"
   ]
  },
  {
   "cell_type": "markdown",
   "id": "1fbaa6d3",
   "metadata": {},
   "source": [
    "## רגולריזציה (Regularization) למניעת למידת יתר\n",
    "רגולריזציה מוסיפה ענישה לפרמטרים כדי להפחית שונות ולמנוע למידת יתר.\n",
    "\n",
    "-  י $Lasso Regression$  (מבוסס $L1$) – מאפס משתנים לא חשובים.\n",
    "-  י $Ridge Regression$  (מבוסס $L2$) – מקטין משקל של משתנים בלי לאפס אותם.\n"
   ]
  },
  {
   "cell_type": "code",
   "execution_count": null,
   "id": "2a2975f7",
   "metadata": {},
   "outputs": [],
   "source": [
    "from sklearn.linear_model import Ridge\n",
    "\n",
    "ridge_model = Ridge(alpha=1.0)\n",
    "ridge_model.fit(X_train, y_train)\n",
    "\n",
    "y_pred_ridge = ridge_model.predict(X_test)\n",
    "mse_ridge = mean_squared_error(y_test, y_pred_ridge)\n",
    "\n",
    "print(f'MSE עם Ridge: {mse_ridge:.2f}')"
   ]
  },
  {
   "cell_type": "markdown",
   "id": "38d7591c",
   "metadata": {},
   "source": [
    "## סיכום\n",
    "- **הערכת מודלים היא שלב קריטי בבחירת המודל הטוב ביותר.**\n",
    "- **שגיאת מבחן ($Test Error$) היא המדד החשוב ביותר להערכת ביצועי המודל.**\n",
    "- **שיטות כמו $CrossValidation$ ו-$Regularization$ מסייעות לשיפור הערכת ביצועים.**\n",
    "\n",
    "📌 **שימוש נכון בשיטות אלו משפר משמעותית את המודלים שלך! 🚀**\n"
   ]
  },
  {
   "cell_type": "code",
   "execution_count": null,
   "id": "cf021228-8b1e-432f-bd0f-94c6fbec84c9",
   "metadata": {},
   "outputs": [],
   "source": []
  }
 ],
 "metadata": {
  "kernelspec": {
   "display_name": "Python 3 (ipykernel)",
   "language": "python",
   "name": "python3"
  },
  "language_info": {
   "codemirror_mode": {
    "name": "ipython",
    "version": 3
   },
   "file_extension": ".py",
   "mimetype": "text/x-python",
   "name": "python",
   "nbconvert_exporter": "python",
   "pygments_lexer": "ipython3",
   "version": "3.12.5"
  }
 },
 "nbformat": 4,
 "nbformat_minor": 5
}
