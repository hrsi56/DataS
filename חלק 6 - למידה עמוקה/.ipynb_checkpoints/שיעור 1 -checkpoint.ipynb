{
 "cells": [
  {
   "cell_type": "markdown",
   "metadata": {},
   "source": "# PyTorch יסודות — גרסה מותאמת ל-MPS (Apple Silicon, Mac M1/M2/M3)\n\nמחברת זו מסבירה שלב-שלב את הפעולות הבסיסיות ב-PyTorch, תוך התאמה לעבודה על מחשבי Mac עם שבבי Apple (באמצעות MPS).\n\n**שים לב:** איננו משתמשים ב-CUDA כלל!"
  },
  {
   "cell_type": "code",
   "execution_count": null,
   "metadata": {},
   "outputs": [],
   "source": "# קביעת ה-device לעבודה — MPS אם קיים, אחרת CPU\nimport torch\n\nif torch.backends.mps.is_available():\n    device = torch.device('mps')\n    print('Using MPS (Apple GPU)')\nelse:\n    device = torch.device('cpu')\n    print('Using CPU')"
  },
  {
   "cell_type": "markdown",
   "metadata": {},
   "source": "## יצירת טנסור רנדומלי בגודל (7, 7) ובדיקה שהוא על ה-device הנכון"
  },
  {
   "cell_type": "code",
   "execution_count": null,
   "metadata": {},
   "outputs": [],
   "source": "# יצירת טנסור רנדומלי בגודל (7, 7)\nX = torch.rand(size=(7, 7)).to(device)\nprint(X)\nprint('Shape:', X.shape)\nprint('Device:', X.device)"
  },
  {
   "cell_type": "markdown",
   "metadata": {},
   "source": "## יצירת טנסור רנדומלי נוסף בגודל (1, 7) וביצוע כפל מטריצות (כולל טרנספוזיציה)"
  },
  {
   "cell_type": "code",
   "execution_count": null,
   "metadata": {},
   "outputs": [],
   "source": "# יצירת טנסור נוסף בגודל (1, 7)\nY = torch.rand(size=(1, 7)).to(device)\n\n# ביצוע כפל מטריצות: X בגודל (7,7), Y.T בגודל (7,1)\nZ = torch.matmul(X, Y.T)\nprint(Z)\nprint('Shape:', Z.shape)\nprint('Device:', Z.device)"
  },
  {
   "cell_type": "markdown",
   "metadata": {},
   "source": "## חישוב ערך מינימלי, ערך מקסימלי והפרש ביניהם"
  },
  {
   "cell_type": "code",
   "execution_count": null,
   "metadata": {},
   "outputs": [],
   "source": "# מציאת ערך מינימלי ומקסימלי והפרש ביניהם\nX_min = X.min()\nX_max = X.max()\nX_diff = X_max - X_min\nprint('Min:', X_min.item())\nprint('Max:', X_max.item())\nprint('Difference:', X_diff.item())"
  },
  {
   "cell_type": "markdown",
   "metadata": {},
   "source": "## מציאת אינדקס הערך המקסימלי והערך המינימלי"
  },
  {
   "cell_type": "code",
   "execution_count": null,
   "metadata": {},
   "outputs": [],
   "source": "# אינדקס של הערך המקסימלי\nX_argmax = X.argmax()\n# אינדקס של הערך המינימלי\nX_argmin = X.argmin()\nprint('Argmax:', X_argmax.item())\nprint('Argmin:', X_argmin.item())"
  },
  {
   "cell_type": "markdown",
   "metadata": {},
   "source": "## שינוי טיפוס נתונים של טנסור ל־float16"
  },
  {
   "cell_type": "code",
   "execution_count": null,
   "metadata": {},
   "outputs": [],
   "source": "# שינוי טיפוס הנתונים ל-float16\nX_float16 = X.type(torch.float16)\nprint(X_float16)\nprint('dtype:', X_float16.dtype)"
  },
  {
   "cell_type": "markdown",
   "metadata": {},
   "source": "## שינוי צורת הטנסור (Reshape)"
  },
  {
   "cell_type": "code",
   "execution_count": null,
   "metadata": {},
   "outputs": [],
   "source": "# Reshape ל-(1, 49)\nX_reshaped = X.reshape(1, 49)\nprint(X_reshaped)\nprint('Shape:', X_reshaped.shape)"
  },
  {
   "cell_type": "markdown",
   "metadata": {},
   "source": "## שינוי צורה עם -1 (השלמת מימד אוטומטית)"
  },
  {
   "cell_type": "code",
   "execution_count": null,
   "metadata": {},
   "outputs": [],
   "source": "# Reshape ל-(7, 1, 7) עם -1\nX_reshaped2 = X.reshape(7, 1, -1)\nprint(X_reshaped2)\nprint('Shape:', X_reshaped2.shape)"
  },
  {
   "cell_type": "markdown",
   "metadata": {},
   "source": "## הצגת דוקומנטציה של פונקציה (דוג' unsqueeze)"
  },
  {
   "cell_type": "code",
   "execution_count": null,
   "metadata": {},
   "outputs": [],
   "source": "# הצגת עזרה על torch.unsqueeze\nhelp(torch.unsqueeze)"
  },
  {
   "cell_type": "markdown",
   "metadata": {},
   "source": "## הוספת מימד נוסף עם unsqueeze"
  },
  {
   "cell_type": "code",
   "execution_count": null,
   "metadata": {},
   "outputs": [],
   "source": "# הוספת מימד חדש במיקום 0\nX_unsqueezed = X.unsqueeze(dim=0)\nprint(X_unsqueezed)\nprint('Shape:', X_unsqueezed.shape)"
  },
  {
   "cell_type": "markdown",
   "metadata": {},
   "source": "## הסרת מימדים בגודל 1 עם squeeze"
  },
  {
   "cell_type": "code",
   "execution_count": null,
   "metadata": {},
   "outputs": [],
   "source": "# הסרת מימדים בגודל 1\nX_squeezed = X_unsqueezed.squeeze()\nprint(X_squeezed)\nprint('Shape:', X_squeezed.shape)"
  },
  {
   "cell_type": "markdown",
   "metadata": {},
   "source": "## חילוץ ערך בודד מטנסור עם item()"
  },
  {
   "cell_type": "code",
   "execution_count": null,
   "metadata": {},
   "outputs": [],
   "source": "# יצירת טנסור עם ערך בודד\nX_single = torch.tensor([7.4], device=device)\nX_single_value = X_single.item()\nprint('Value:', X_single_value)\nprint('Type:', type(X_single_value))"
  },
  {
   "cell_type": "markdown",
   "metadata": {},
   "source": "## המרת טנסור ל-numpy ולהיפך (רק על CPU)"
  },
  {
   "cell_type": "code",
   "execution_count": null,
   "metadata": {},
   "outputs": [],
   "source": "# ממירים רק טנסור שנמצא על ה-CPU ל-numpy (MPS לא נתמך כאן)\nX_cpu = X.to('cpu')\nX_np = X_cpu.numpy()\nprint('Numpy array:', X_np)\nprint('Type:', type(X_np))\n\n# חזרה לטנסור פייטורץ׳\nX_torch = torch.from_numpy(X_np).to(device)\nprint('Tensor:', X_torch)\nprint('Device:', X_torch.device)"
  },
  {
   "cell_type": "markdown",
   "metadata": {},
   "source": "## דוגמת אינדוקס וסלייסינג"
  },
  {
   "cell_type": "code",
   "execution_count": null,
   "metadata": {},
   "outputs": [],
   "source": "# אינדוקס וסלייסינג\nprint('First row:', X[0])\nprint('First column:', X[:, 0])\nprint('First 3 rows:', X[:3])\nprint('Submatrix (1:4, 2:5):', X[1:4, 2:5])"
  },
  {
   "cell_type": "markdown",
   "metadata": {},
   "source": "## חישובים מתמטיים בסיסיים על טנסור"
  },
  {
   "cell_type": "code",
   "execution_count": null,
   "metadata": {},
   "outputs": [],
   "source": "# דוגמאות לפעולות מתמטיות\nprint('Sum:', X.sum().item())\nprint('Mean:', X.mean().item())\nprint('Std:', X.std().item())\nprint('Var:', X.var().item())"
  },
  {
   "cell_type": "markdown",
   "metadata": {},
   "source": "## Autograd — נגזרות אוטומטיות בפייטורץ׳"
  },
  {
   "cell_type": "code",
   "execution_count": null,
   "metadata": {},
   "outputs": [],
   "source": "# דוגמה: חישוב גרדיאנטים ב-Autograd\nx = torch.randn(3, requires_grad=True, device=device)\ny = x + 2\nz = y * y * 3\nout = z.mean()\nout.backward()\nprint('Gradient (dx):', x.grad)"
  },
  {
   "cell_type": "markdown",
   "metadata": {},
   "source": "## בניית מודל פשוט ב-PyTorch עם nn.Module"
  },
  {
   "cell_type": "code",
   "execution_count": null,
   "metadata": {},
   "outputs": [],
   "source": "import torch.nn as nn\n\nclass SimpleModel(nn.Module):\n    def __init__(self):\n        super().__init__()\n        self.layer1 = nn.Linear(4, 3)\n        self.layer2 = nn.Linear(3, 1)\n    def forward(self, x):\n        x = self.layer1(x)\n        x = torch.relu(x)\n        x = self.layer2(x)\n        return x\n\nmodel = SimpleModel().to(device)\nprint(model)"
  },
  {
   "cell_type": "markdown",
   "metadata": {},
   "source": "## הגדרת פונקציית אובדן ואופטימייזר"
  },
  {
   "cell_type": "code",
   "execution_count": null,
   "metadata": {},
   "outputs": [],
   "source": "# פונקציית אובדן ואופטימייזר\nloss_fn = nn.MSELoss()\noptimizer = torch.optim.SGD(model.parameters(), lr=0.01)"
  },
  {
   "cell_type": "markdown",
   "metadata": {},
   "source": "## דוגמת לולאת אימון בסיסית"
  },
  {
   "cell_type": "code",
   "execution_count": null,
   "metadata": {},
   "outputs": [],
   "source": "# יצירת דאטה מלאכותי (dummy data) להתנסות\nX_train = torch.randn(100, 4).to(device)\ny_train = torch.randn(100, 1).to(device)\n\nfor epoch in range(5):  # לצורך הדוגמה, נאמן רק 5 איטרציות\n    model.train()  # מצב אימון\n    y_pred = model(X_train)\n    loss = loss_fn(y_pred, y_train)\n    optimizer.zero_grad()\n    loss.backward()\n    optimizer.step()\n    print(f\"Epoch {epoch}, Loss: {loss.item():.4f}\")"
  },
  {
   "cell_type": "markdown",
   "metadata": {},
   "source": "## הערכת המודל במצב בדיקה (evaluation) ללא חישוב גרדיאנטים"
  },
  {
   "cell_type": "code",
   "execution_count": null,
   "metadata": {},
   "outputs": [],
   "source": "# יצירת דאטה בדיקה מלאכותי\nX_test = torch.randn(20, 4).to(device)\ny_test = torch.randn(20, 1).to(device)\n\nmodel.eval()  # מצב הערכה\nwith torch.no_grad():\n    y_test_pred = model(X_test)\n    test_loss = loss_fn(y_test_pred, y_test)\nprint('Test Loss:', test_loss.item())"
  },
  {
   "cell_type": "markdown",
   "metadata": {},
   "source": "## הערות למשתמשי MPS (Apple GPU)\n* לא כל פונקציה/אופרטור של PyTorch נתמכת על ידי MPS. \n* אם מתקבלת שגיאת NotImplementedError, ניתן לנסות להעביר ל-cpu (לדוג׳: tensor.to('cpu')). \n* מומלץ לבדוק ביצועים ולוודא שאין חריגות מוזרות בהרצות על GPU של אפל."
  }
]
,
 "metadata": {
  "kernelspec": {
   "display_name": "Python 3 (ipykernel)",
   "language": "python",
   "name": "python3"
  },
  "language_info": {
   "codemirror_mode": {
    "name": "ipython",
    "version": 3
   },
   "file_extension": ".py",
   "mimetype": "text/x-python",
   "name": "python",
   "nbconvert_exporter": "python",
   "pygments_lexer": "ipython3",
   "version": "3.12.5"
  }
 },
 "nbformat": 4,
 "nbformat_minor": 4
}