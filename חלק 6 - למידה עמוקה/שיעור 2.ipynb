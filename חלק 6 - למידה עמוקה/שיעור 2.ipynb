{
 "cells": [
  {
   "cell_type": "markdown",
   "id": "e18c7d44",
   "metadata": {},
   "source": [
    "# PyTorch Fundamentals - Student Guide\n",
    "\n",
    "This notebook is designed to accompany you through the PyTorch Fundamentals lesson. It includes explanations, code examples, and solutions to the exercises from the provided notebook. We'll cover tensors, their operations, and how to work with them effectively in PyTorch.\n",
    "\n",
    "**Note**: Ensure you're running this on a GPU-enabled environment (e.g., Google Colab with GPU runtime) for exercises involving GPU computations.\n",
    "\n",
    "## What You'll Learn\n",
    "- Creating and manipulating tensors\n",
    "- Tensor operations (addition, multiplication, etc.)\n",
    "- Working with tensor shapes and indexing\n",
    "- Interfacing with NumPy\n",
    "- Reproducibility with random seeds\n",
    "- Running tensors on GPUs\n",
    "- Solving practical exercises using PyTorch operations\n",
    "\n",
    "Let's get started!"
   ]
  },
  {
   "cell_type": "markdown",
   "id": "9b3353ab",
   "metadata": {},
   "source": [
    "## 1. Setting Up PyTorch\n",
    "\n",
    "First, let's import PyTorch and check its version to ensure everything is set up correctly."
   ]
  },
  {
   "cell_type": "code",
   "execution_count": null,
   "id": "bdfdac02",
   "metadata": {},
   "outputs": [],
   "source": [
    "import torch\n",
    "print(f\"PyTorch Version: {torch.__version__}\")"
   ]
  },
  {
   "cell_type": "markdown",
   "id": "2ea6627a",
   "metadata": {},
   "source": [
    "## 2. Introduction to Tensors\n",
    "\n",
    "Tensors are the core data structure in PyTorch, used to represent data numerically. They can be scalars (0D), vectors (1D), matrices (2D), or higher-dimensional arrays.\n",
    "\n",
    "Let's create some basic tensors:"
   ]
  },
  {
   "cell_type": "code",
   "execution_count": null,
   "id": "41ba8f16",
   "metadata": {},
   "outputs": [],
   "source": [
    "# Scalar (0D tensor)\n",
    "scalar = torch.tensor(7)\n",
    "print(f\"Scalar: {scalar}, Dimensions: {scalar.ndim}, Shape: {scalar.shape}\")\n",
    "\n",
    "# Vector (1D tensor)\n",
    "vector = torch.tensor([7, 7])\n",
    "print(f\"Vector: {vector}, Dimensions: {vector.ndim}, Shape: {vector.shape}\")\n",
    "\n",
    "# Matrix (2D tensor)\n",
    "matrix = torch.tensor([[7, 8], [9, 10]])\n",
    "print(f\"Matrix: \\n{matrix}, Dimensions: {matrix.ndim}, Shape: {matrix.shape}\")\n",
    "\n",
    "# Tensor (3D tensor)\n",
    "tensor = torch.tensor([[[1, 2, 3], [3, 6, 9], [2, 4, 5]]])\n",
    "print(f\"Tensor: \\n{tensor}, Dimensions: {tensor.ndim}, Shape: {tensor.shape}\")"
   ]
  },
  {
   "cell_type": "markdown",
   "id": "06206a39",
   "metadata": {},
   "source": [
    "**Key Points**:\n",
    "- Use `ndim` to check the number of dimensions.\n",
    "- Use `shape` to see how elements are arranged.\n",
    "- Count square brackets on one side to determine dimensions."
   ]
  },
  {
   "cell_type": "markdown",
   "id": "c9663459",
   "metadata": {},
   "source": [
    "## 3. Creating Random Tensors\n",
    "\n",
    "Machine learning models often start with random tensors. Use `torch.rand()` to create tensors with random values."
   ]
  },
  {
   "cell_type": "code",
   "execution_count": null,
   "id": "5405da9f",
   "metadata": {},
   "outputs": [],
   "source": [
    "# Random tensor of size (3, 4)\n",
    "random_tensor = torch.rand(size=(3, 4))\n",
    "print(f\"Random Tensor: \\n{random_tensor}, Dtype: {random_tensor.dtype}\")\n",
    "\n",
    "# Random tensor for an image shape (224, 224, 3)\n",
    "random_image_tensor = torch.rand(size=(224, 224, 3))\n",
    "print(f\"Image Tensor Shape: {random_image_tensor.shape}, Dimensions: {random_image_tensor.ndim}\")"
   ]
  },
  {
   "cell_type": "markdown",
   "id": "29f66866",
   "metadata": {},
   "source": [
    "## 4. Tensors of Zeros and Ones\n",
    "\n",
    "Use `torch.zeros()` and `torch.ones()` to create tensors filled with zeros or ones, often used for masking or initialization."
   ]
  },
  {
   "cell_type": "code",
   "execution_count": null,
   "id": "95495f64",
   "metadata": {},
   "outputs": [],
   "source": [
    "# Tensor of zeros\n",
    "zeros = torch.zeros(size=(3, 4))\n",
    "print(f\"Zeros: \\n{zeros}, Dtype: {zeros.dtype}\")\n",
    "\n",
    "# Tensor of ones\n",
    "ones = torch.ones(size=(3, 4))\n",
    "print(f\"Ones: \\n{ones}, Dtype: {ones.dtype}\")"
   ]
  },
  {
   "cell_type": "markdown",
   "id": "f52aee4a",
   "metadata": {},
   "source": [
    "## 5. Creating Ranges and Tensors Like Others\n",
    "\n",
    "Use `torch.arange()` for ranges and `torch.zeros_like()` or `torch.ones_like()` to create tensors with the same shape as another."
   ]
  },
  {
   "cell_type": "code",
   "execution_count": null,
   "id": "fd952fd9",
   "metadata": {},
   "outputs": [],
   "source": [
    "# Range from 0 to 9\n",
    "zero_to_ten = torch.arange(start=0, end=10, step=1)\n",
    "print(f\"Range: {zero_to_ten}\")\n",
    "\n",
    "# Zeros like zero_to_ten\n",
    "ten_zeros = torch.zeros_like(zero_to_ten)\n",
    "print(f\"Zeros Like: {ten_zeros}\")"
   ]
  },
  {
   "cell_type": "markdown",
   "id": "49c09b69",
   "metadata": {},
   "source": [
    "## 6. Tensor Datatypes\n",
    "\n",
    "Tensors have different datatypes (e.g., `float32`, `float16`, `int64`). The default is `float32`. Specify `dtype` to change it."
   ]
  },
  {
   "cell_type": "code",
   "execution_count": null,
   "id": "3ae8d70d",
   "metadata": {},
   "outputs": [],
   "source": [
    "# Float32 tensor\n",
    "float_32_tensor = torch.tensor([3.0, 6.0, 9.0], dtype=None)\n",
    "print(f\"Float32: Shape: {float_32_tensor.shape}, Dtype: {float_32_tensor.dtype}, Device: {float_32_tensor.device}\")\n",
    "\n",
    "# Float16 tensor\n",
    "float_16_tensor = torch.tensor([3.0, 6.0, 9.0], dtype=torch.float16)\n",
    "print(f\"Float16: Dtype: {float_16_tensor.dtype}\")"
   ]
  },
  {
   "cell_type": "markdown",
   "id": "ad1fe5b4",
   "metadata": {},
   "source": [
    "**Common Issues**:\n",
    "- Mismatched shapes\n",
    "- Different datatypes (e.g., `float32` vs. `float16`)\n",
    "- Tensors on different devices (CPU vs. GPU)"
   ]
  },
  {
   "cell_type": "markdown",
   "id": "d626d3d4",
   "metadata": {},
   "source": [
    "## 7. Manipulating Tensors\n",
    "\n",
    "Tensor operations include addition, subtraction, multiplication, division, and matrix multiplication."
   ]
  },
  {
   "cell_type": "code",
   "execution_count": null,
   "id": "afbf870c",
   "metadata": {},
   "outputs": [],
   "source": [
    "# Basic operations\n",
    "tensor = torch.tensor([1, 2, 3])\n",
    "print(f\"Original: {tensor}\")\n",
    "print(f\"Add 10: {tensor + 10}\")\n",
    "print(f\"Multiply by 10: {tensor * 10}\")\n",
    "\n",
    "# Matrix multiplication\n",
    "tensor_a = torch.tensor([[1, 2], [3, 4]])\n",
    "tensor_b = torch.tensor([[5, 6], [7, 8]])\n",
    "matmul = torch.matmul(tensor_a, tensor_b)\n",
    "print(f\"Matrix Multiplication: \\n{matmul}\")"
   ]
  },
  {
   "cell_type": "markdown",
   "id": "6e3d07d2",
   "metadata": {},
   "source": [
    "## 8. Dealing with Tensor Shapes\n",
    "\n",
    "Use `view()`, `reshape()`, `squeeze()`, `unsqueeze()`, and `permute()` to manipulate tensor shapes."
   ]
  },
  {
   "cell_type": "code",
   "execution_count": null,
   "id": "1ec4979a",
   "metadata": {},
   "outputs": [],
   "source": [
    "# Reshape\n",
    "x = torch.arange(1., 8.)\n",
    "x_reshaped = x.reshape(1, 7)\n",
    "print(f\"Reshaped: {x_reshaped}, Shape: {x_reshaped.shape}\")\n",
    "\n",
    "# Squeeze\n",
    "x_squeezed = x_reshaped.squeeze()\n",
    "print(f\"Squeezed: {x_squeezed}, Shape: {x_squeezed.shape}\")\n",
    "\n",
    "# Unsqueeze\n",
    "x_unsqueezed = x_squeezed.unsqueeze(dim=0)\n",
    "print(f\"Unsqueezed: {x_unsqueezed}, Shape: {x_unsqueezed.shape}\")\n",
    "\n",
    "# Permute\n",
    "x_original = torch.rand(size=(224, 224, 3))\n",
    "x_permuted = x_original.permute(2, 0, 1)\n",
    "print(f\"Permuted Shape: {x_permuted.shape}\")"
   ]
  },
  {
   "cell_type": "markdown",
   "id": "f0ff347d",
   "metadata": {},
   "source": [
    "## 9. PyTorch and NumPy\n",
    "\n",
    "Convert between PyTorch tensors and NumPy arrays using `torch.from_numpy()` and `tensor.numpy()`."
   ]
  },
  {
   "cell_type": "code",
   "execution_count": null,
   "id": "dfb39c6d",
   "metadata": {},
   "outputs": [],
   "source": [
    "import numpy as np\n",
    "\n",
    "# NumPy to PyTorch\n",
    "array = np.arange(1.0, 8.0)\n",
    "tensor = torch.from_numpy(array).type(torch.float32)\n",
    "print(f\"NumPy to Tensor: {tensor}, Dtype: {tensor.dtype}\")\n",
    "\n",
    "# PyTorch to NumPy\n",
    "tensor = torch.ones(7)\n",
    "numpy_tensor = tensor.numpy()\n",
    "print(f\"Tensor to NumPy: {numpy_tensor}, Dtype: {numpy_tensor.dtype}\")"
   ]
  },
  {
   "cell_type": "markdown",
   "id": "9023ad21",
   "metadata": {},
   "source": [
    "## 10. Reproducibility\n",
    "\n",
    "Set random seeds with `torch.manual_seed()` to make experiments reproducible."
   ]
  },
  {
   "cell_type": "code",
   "execution_count": null,
   "id": "0a283813",
   "metadata": {},
   "outputs": [],
   "source": [
    "RANDOM_SEED = 42\n",
    "torch.manual_seed(RANDOM_SEED)\n",
    "random_tensor_C = torch.rand(3, 4)\n",
    "torch.manual_seed(RANDOM_SEED)\n",
    "random_tensor_D = torch.rand(3, 4)\n",
    "print(f\"Tensor C: \\n{random_tensor_C}\")\n",
    "print(f\"Tensor D: \\n{random_tensor_D}\")\n",
    "print(f\"Equal: {(random_tensor_C == random_tensor_D).all()}\")"
   ]
  },
  {
   "cell_type": "markdown",
   "id": "471a1b01",
   "metadata": {},
   "source": [
    "## 11. Running Tensors on GPU\n",
    "\n",
    "Use `to(device)` to move tensors to GPU for faster computations."
   ]
  },
  {
   "cell_type": "code",
   "execution_count": null,
   "id": "91d4f84a",
   "metadata": {},
   "outputs": [],
   "source": [
    "# Check for GPU\n",
    "device = \"cuda\" if torch.cuda.is_available() else \"cpu\"\n",
    "print(f\"Device: {device}, GPU Count: {torch.cuda.device_count()}\")\n",
    "\n",
    "# Move tensor to GPU\n",
    "tensor = torch.tensor([1, 2, 3])\n",
    "tensor_on_gpu = tensor.to(device)\n",
    "print(f\"Tensor on GPU: {tensor_on_gpu}\")\n",
    "\n",
    "# Move back to CPU for NumPy\n",
    "tensor_back_on_cpu = tensor_on_gpu.cpu().numpy()\n",
    "print(f\"Back to CPU (NumPy): {tensor_back_on_cpu}\")"
   ]
  },
  {
   "cell_type": "markdown",
   "id": "a8c8efe9",
   "metadata": {},
   "source": [
    "## 12. Exercises\n",
    "\n",
    "Below are solutions to the exercises from the provided notebook. Each solution uses only PyTorch/NumPy operations, avoiding loops and conditionals."
   ]
  },
  {
   "cell_type": "markdown",
   "id": "81f80cc4",
   "metadata": {},
   "source": [
    "### Ex 1: Create a 10x10 Tensor with Numbers 1 to 100\n",
    "\n",
    "Create a tensor representing a table with numbers 1 to 100 in a 10x10 grid."
   ]
  },
  {
   "cell_type": "code",
   "execution_count": null,
   "id": "eed61c9e",
   "metadata": {},
   "outputs": [],
   "source": [
    "# Solution\n",
    "table_tensor = torch.arange(1, 101).view(10, 10)\n",
    "print(f\"10x10 Table: \\n{table_tensor}\")"
   ]
  },
  {
   "cell_type": "markdown",
   "id": "3c12ef3b",
   "metadata": {},
   "source": [
    "**Explanation**: `torch.arange(1, 101)` creates a 1D tensor with numbers 1 to 100. `view(10, 10)` reshapes it into a 10x10 matrix, filling row-wise."
   ]
  },
  {
   "cell_type": "markdown",
   "id": "23665111",
   "metadata": {},
   "source": [
    "### Ex 2: Generate a Linear Classification Dataset\n",
    "\n",
    "Generate a dataset with 10 samples, 3 features drawn from a uniform distribution (-0.5, 0.5), and binary labels based on a linear combination."
   ]
  },
  {
   "cell_type": "code",
   "execution_count": null,
   "id": "5d1cbc29",
   "metadata": {},
   "outputs": [],
   "source": [
    "# Solution\n",
    "X = torch.rand(10, 3) - 0.5  # Uniform [-0.5, 0.5]\n",
    "a = torch.tensor([1.0, 2.0, -1.0])  # Coefficients a1, a2, a3\n",
    "a0 = 0.1  # Bias\n",
    "y = (torch.matmul(X, a) + a0 > 0).float()\n",
    "print(f\"Features X: \\n{X}\")\n",
    "print(f\"Labels y: {y}\")"
   ]
  },
  {
   "cell_type": "markdown",
   "id": "897a1951",
   "metadata": {},
   "source": [
    "**Explanation**: `torch.rand(10, 3) - 0.5` generates features in [-0.5, 0.5]. `torch.matmul(X, a) + a0` computes the linear combination, and `> 0` creates binary labels (0 or 1)."
   ]
  },
  {
   "cell_type": "markdown",
   "id": "56676bbb",
   "metadata": {},
   "source": [
    "### Ex 3: Classification Output\n",
    "\n",
    "Convert classification probabilities to predicted classes and their probabilities."
   ]
  },
  {
   "cell_type": "code",
   "execution_count": null,
   "id": "0aaf2632",
   "metadata": {},
   "outputs": [],
   "source": [
    "# Given probabilities\n",
    "probs = torch.softmax(torch.rand(10, 3), dim=1)\n",
    "\n",
    "# Solution\n",
    "predicted_classes = torch.argmax(probs, dim=1)\n",
    "predicted_probs = torch.max(probs, dim=1).values\n",
    "print(f\"Probabilities: \\n{probs}\")\n",
    "print(f\"Predicted Classes: {predicted_classes}\")\n",
    "print(f\"Predicted Probabilities: {predicted_probs}\")"
   ]
  },
  {
   "cell_type": "markdown",
   "id": "9beac728",
   "metadata": {},
   "source": [
    "**Explanation**: `torch.argmax(probs, dim=1)` finds the index of the maximum probability per sample (predicted class). `torch.max(probs, dim=1).values` gets the corresponding probabilities."
   ]
  },
  {
   "cell_type": "markdown",
   "id": "eb93bfa8",
   "metadata": {},
   "source": [
    "### Ex 4: Concat Datasets (Vertically)\n",
    "\n",
    "Combine two parts of a dataset (X1, y1) and (X2, y2) vertically."
   ]
  },
  {
   "cell_type": "code",
   "execution_count": null,
   "id": "63817032",
   "metadata": {},
   "outputs": [],
   "source": [
    "# Given\n",
    "X1 = torch.rand(10, 5)\n",
    "y1 = torch.rand(10)\n",
    "X2 = torch.rand(15, 5)\n",
    "y2 = torch.rand(15)\n",
    "\n",
    "# Solution\n",
    "X_combined = torch.cat((X1, X2), dim=0)\n",
    "y_combined = torch.cat((y1, y2), dim=0)\n",
    "print(f\"Combined X Shape: {X_combined.shape}\")\n",
    "print(f\"Combined y Shape: {y_combined.shape}\")"
   ]
  },
  {
   "cell_type": "markdown",
   "id": "8f918cae",
   "metadata": {},
   "source": [
    "**Explanation**: `torch.cat((X1, X2), dim=0)` concatenates along the first dimension (rows), combining 10 and 15 samples into 25. Similarly for `y1` and `y2`."
   ]
  },
  {
   "cell_type": "markdown",
   "id": "b060a438",
   "metadata": {},
   "source": [
    "### Ex 5: Concat Datasets (Horizontally)\n",
    "\n",
    "Combine two feature sets X1 and X2 horizontally."
   ]
  },
  {
   "cell_type": "code",
   "execution_count": null,
   "id": "cd3edc48",
   "metadata": {},
   "outputs": [],
   "source": [
    "# Given\n",
    "X1 = torch.rand(10, 5)\n",
    "X2 = torch.rand(10, 3)\n",
    "\n",
    "# Solution\n",
    "X_combined = torch.cat((X1, X2), dim=1)\n",
    "print(f\"Combined X Shape: {X_combined.shape}\")"
   ]
  },
  {
   "cell_type": "markdown",
   "id": "b956743b",
   "metadata": {},
   "source": [
    "**Explanation**: `torch.cat((X1, X2), dim=1)` concatenates along the second dimension (columns), combining 5 and 3 features into 8."
   ]
  },
  {
   "cell_type": "markdown",
   "id": "27857313",
   "metadata": {},
   "source": [
    "### Ex 6: Implementing Softmax\n",
    "\n",
    "Implement the softmax function for a tensor of shape (n_samples, n_logits)."
   ]
  },
  {
   "cell_type": "code",
   "execution_count": null,
   "id": "33f0692d",
   "metadata": {},
   "outputs": [],
   "source": [
    "# Given\n",
    "n_samples = 10\n",
    "n_logits = 7\n",
    "X = torch.rand(n_samples, n_logits)\n",
    "\n",
    "# Solution\n",
    "exp_X = torch.exp(X)\n",
    "sum_exp_X = exp_X.sum(dim=1, keepdim=True)\n",
    "softmax_X = exp_X / sum_exp_X\n",
    "print(f\"Input: \\n{X}\")\n",
    "print(f\"Softmax Output: \\n{softmax_X}\")\n",
    "print(f\"Sum per sample: {softmax_X.sum(dim=1)}\")"
   ]
  },
  {
   "cell_type": "markdown",
   "id": "80c96bc7",
   "metadata": {},
   "source": [
    "**Explanation**: Compute `exp(X)` for each logit, sum across logits per sample (`dim=1`), and divide to normalize. `keepdim=True` ensures broadcasting works correctly."
   ]
  },
  {
   "cell_type": "markdown",
   "id": "8d34439c",
   "metadata": {},
   "source": [
    "### Ex 7: Multiplication Table\n",
    "\n",
    "Create a 10x10 multiplication table for numbers 1 to 10 using matrix multiplication."
   ]
  },
  {
   "cell_type": "code",
   "execution_count": null,
   "id": "79ef3b5f",
   "metadata": {},
   "outputs": [],
   "source": [
    "# Solution\n",
    "numbers = torch.arange(1, 11, dtype=torch.float32)\n",
    "mul_table = torch.matmul(numbers.view(-1, 1), numbers.view(1, -1))\n",
    "print(f\"Multiplication Table: \\n{mul_table.int()}\")"
   ]
  },
  {
   "cell_type": "markdown",
   "id": "a0afe74c",
   "metadata": {},
   "source": [
    "**Explanation**: Reshape `numbers` to column (10, 1) and row (1, 10) vectors. Matrix multiplication produces a 10x10 table where `table[i,j] = i * j`."
   ]
  },
  {
   "cell_type": "markdown",
   "id": "41cd41e0",
   "metadata": {},
   "source": [
    "### Ex 8: Subtract Consecutive Rows in Multiplication Table\n",
    "\n",
    "Subtract each row from the previous row, leaving the first row unchanged."
   ]
  },
  {
   "cell_type": "code",
   "execution_count": null,
   "id": "bc0dc546",
   "metadata": {},
   "outputs": [],
   "source": [
    "# Given\n",
    "mul_table = torch.arange(1, 26).view(5, 5)\n",
    "\n",
    "# Solution\n",
    "diff_table = mul_table.clone()\n",
    "diff_table[1:] = mul_table[1:] - mul_table[:-1]\n",
    "print(f\"Original Table: \\n{mul_table}\")\n",
    "print(f\"Difference Table: \\n{diff_table}\")"
   ]
  },
  {
   "cell_type": "markdown",
   "id": "0319ccd4",
   "metadata": {},
   "source": [
    "**Explanation**: Clone the table to avoid modifying the original. For rows 1 to end, subtract the previous rows (0 to end-1). The first row remains unchanged."
   ]
  },
  {
   "cell_type": "markdown",
   "id": "5d310a0a",
   "metadata": {},
   "source": [
    "### Ex 9: Broadcasting with a Mask\n",
    "\n",
    "Zero out predictions of invalid samples using a mask and compute the average predicted probability per class for valid samples."
   ]
  },
  {
   "cell_type": "code",
   "execution_count": null,
   "id": "10565257",
   "metadata": {},
   "outputs": [],
   "source": [
    "# Given\n",
    "predictions = torch.rand(5, 4)\n",
    "mask = torch.tensor([1, 0, 1, 1, 0], dtype=torch.float32)  # 1 for valid, 0 for invalid\n",
    "\n",
    "# Solution\n",
    "masked_predictions = predictions * mask.view(-1, 1)  # Broadcasting mask\n",
    "valid_count = mask.sum()\n",
    "avg_probs = masked_predictions.sum(dim=0) / valid_count\n",
    "print(f\"Predictions: \\n{predictions}\")\n",
    "print(f\"Masked Predictions: \\n{masked_predictions}\")\n",
    "print(f\"Average Probabilities per Class: {avg_probs}\")"
   ]
  },
  {
   "cell_type": "markdown",
   "id": "ed6f97c5",
   "metadata": {},
   "source": [
    "**Explanation**: Reshape `mask` to (5, 1) and multiply with `predictions` to zero out invalid samples. Sum along `dim=0` and divide by the number of valid samples (`mask.sum()`)."
   ]
  },
  {
   "cell_type": "markdown",
   "id": "b2ad2019",
   "metadata": {},
   "source": [
    "## Final Notes\n",
    "\n",
    "- Always check `shape`, `dtype`, and `device` when debugging.\n",
    "- Use device-agnostic code (`to(device)`) for flexibility.\n",
    "- Practice these operations to build intuition for tensor manipulations.\n",
    "\n",
    "For further help, refer to:\n",
    "- [PyTorch Documentation](https://pytorch.org/docs/stable/)\n",
    "- [PyTorch Forums](https://discuss.pytorch.org/)\n",
    "- [Course GitHub](https://github.com/mrdbourke/pytorch-deep-learning)\n",
    "\n",
    "Good luck in your class!"
   ]
  }
 ],
 "metadata": {
  "kernelspec": {
   "display_name": "Python 3 (ipykernel)",
   "language": "python",
   "name": "python3"
  },
  "language_info": {
   "codemirror_mode": {
    "name": "ipython",
    "version": 3
   },
   "file_extension": ".py",
   "mimetype": "text/x-python",
   "name": "python",
   "nbconvert_exporter": "python",
   "pygments_lexer": "ipython3",
   "version": "3.12.5"
  }
 },
 "nbformat": 4,
 "nbformat_minor": 5
}
