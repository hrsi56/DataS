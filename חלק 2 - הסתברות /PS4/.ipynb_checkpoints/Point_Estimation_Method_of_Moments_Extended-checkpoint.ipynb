{
 "cells": [
  {
   "cell_type": "markdown",
   "id": "c91e1618",
   "metadata": {},
   "source": [
    "### **אמידה נקודתית ושיטת המומנטים**\n",
    "\n",
    "---\n",
    "\n",
    "### **מבוא:**\n",
    "\n",
    "אמידה נקודתית היא שימוש בנתוני מדגם לחישוב ערך בודד שמיועד לשמש כ\"ניחוש הטוב ביותר\" עבור פרמטר לא ידוע של פונקציית יצירת הנתונים (DGP). שיטת המומנטים היא דרך פשוטה לאמוד פרמטרים סטטיסטיים על ידי השוואת מומנטים תיאורטיים למומנטים מדגמיים.\n",
    "\n",
    "---\n",
    "\n",
    "### **אמידת פרמטר בהתפלגות מעריכית:**\n",
    "\n",
    "נניח כי \\( x_1, x_2, \\ldots, x_n \\) הם דגימות מהתפלגות מעריכית. אנו רוצים לאמוד את פרמטר הקצב \\( \\lambda \\). המומנט הראשון של התפלגות מעריכית הוא \\( E(X) = \\frac{1}{\\lambda} \\). נשתמש בממוצע המדגם כדי לאמוד את \\( \\lambda \\)."
   ]
  },
  {
   "cell_type": "markdown",
   "id": "bbdb852c",
   "metadata": {},
   "source": [
    "### **ייבוא ספריות:**"
   ]
  },
  {
   "cell_type": "code",
   "execution_count": null,
   "id": "0e77b7f1",
   "metadata": {},
   "outputs": [],
   "source": [
    "import numpy as np\n",
    "import matplotlib.pyplot as plt"
   ]
  },
  {
   "cell_type": "markdown",
   "id": "442ba21d",
   "metadata": {},
   "source": [
    "### **יצירת מדגם וביצוע אמידה באמצעות שיטת המומנטים:**"
   ]
  },
  {
   "cell_type": "code",
   "execution_count": null,
   "id": "099abe5f",
   "metadata": {},
   "outputs": [],
   "source": [
    "# Step 1: Generate a sample from Exponential distribution with λ = 2\n",
    "true_lambda = 2\n",
    "sample_size = 1000\n",
    "sample = np.random.exponential(scale=1/true_lambda, size=sample_size)\n",
    "\n",
    "# Step 2: Estimate λ using Method of Moments\n",
    "sample_mean = np.mean(sample)\n",
    "estimated_lambda = 1 / sample_mean"
   ]
  },
  {
   "cell_type": "markdown",
   "id": "a23b6a97",
   "metadata": {},
   "source": [
    "### **השוואת התפלגות המדגם להתפלגות התאורטית והמוערכת:**"
   ]
  },
  {
   "cell_type": "code",
   "execution_count": null,
   "id": "0342bff6",
   "metadata": {},
   "outputs": [],
   "source": [
    "# Step 3: Plotting the sample distribution against theoretical and estimated distributions\n",
    "x_values = np.linspace(0, max(sample), 1000)\n",
    "theoretical_pdf = true_lambda * np.exp(-true_lambda * x_values)\n",
    "estimated_pdf = estimated_lambda * np.exp(-estimated_lambda * x_values)\n",
    "\n",
    "plt.figure(figsize=(10, 6))\n",
    "plt.hist(sample, bins=50, density=True, alpha=0.6, color='skyblue', edgecolor='black', label='Sample Data')\n",
    "plt.plot(x_values, theoretical_pdf, 'r--', label=f'Theoretical Distribution (λ={true_lambda})')\n",
    "plt.plot(x_values, estimated_pdf, 'g-', label=f'Estimated Distribution (λ={estimated_lambda:.2f})')\n",
    "\n",
    "plt.xlabel('Values')\n",
    "plt.ylabel('Probability Density')\n",
    "plt.title('Estimating λ in Exponential Distribution using Method of Moments')\n",
    "plt.legend()\n",
    "plt.grid(True)\n",
    "plt.show()"
   ]
  },
  {
   "cell_type": "markdown",
   "id": "298f7eaa",
   "metadata": {},
   "source": [
    "### **תוצאות:**"
   ]
  },
  {
   "cell_type": "code",
   "execution_count": null,
   "id": "ee11f365",
   "metadata": {},
   "outputs": [],
   "source": [
    "print(f'Sample Mean: {sample_mean:.4f}')\n",
    "print(f'Estimated λ: {estimated_lambda:.4f}')"
   ]
  },
  {
   "cell_type": "markdown",
   "id": "436c759a",
   "metadata": {},
   "source": [
    "### **אמידת פרמטר בהתפלגות בינומיאלית (Binomial Distribution):**\n",
    "\n",
    "אם \\( x_1, x_2, \\ldots, x_n \\) הם דגימות מהתפלגות בינומיאלית \\( \\text{Binomial}(n, p) \\), אנו רוצים לאמוד את פרמטר ההצלחה \\( p \\).\n",
    "\n",
    "1. **המומנט הראשון (הממוצע התיאורטי):**  \n",
    "   \\[\n",
    "   E(X) = n \\cdot p\n",
    "   \\]\n",
    "\n",
    "2. **נשווה לממוצע המדגמי:**  \n",
    "   \\[\n",
    "   \\bar{x} = \\frac{1}{n} \\sum_{i=1}^n x_i\n",
    "   \\]\n",
    "\n",
    "3. **אומדן ל-\\( p \\):**  \n",
    "   \\[\n",
    "   \\hat{p} = \\frac{\\bar{x}}{n}\n",
    "   \\]"
   ]
  },
  {
   "cell_type": "code",
   "execution_count": null,
   "id": "610f55f7",
   "metadata": {},
   "outputs": [],
   "source": [
    "# Example: Estimating p in Binomial Distribution\n",
    "n_trials = 10\n",
    "true_p = 0.3\n",
    "sample_size = 1000\n",
    "sample_binomial = np.random.binomial(n=n_trials, p=true_p, size=sample_size)\n",
    "\n",
    "# Estimate p\n",
    "sample_mean_binomial = np.mean(sample_binomial)\n",
    "estimated_p = sample_mean_binomial / n_trials\n",
    "\n",
    "# Plotting\n",
    "plt.figure(figsize=(10, 6))\n",
    "plt.hist(sample_binomial, bins=range(n_trials+2), density=True, alpha=0.6, color='skyblue', edgecolor='black', label='Sample Data')\n",
    "plt.axvline(sample_mean_binomial, color='g', linestyle='--', label=f'Estimated Mean (p={estimated_p:.2f})')\n",
    "plt.xlabel('Number of Successes')\n",
    "plt.ylabel('Probability Density')\n",
    "plt.title('Estimation of p in Binomial Distribution Using Method of Moments')\n",
    "plt.legend()\n",
    "plt.grid(True)\n",
    "plt.show()"
   ]
  },
  {
   "cell_type": "markdown",
   "id": "ba65e779",
   "metadata": {},
   "source": [
    "### **אמידת פרמטרים בהתפלגות נורמלית (Normal Distribution):**\n",
    "\n",
    "אם \\( x_1, x_2, \\ldots, x_n \\) הם דגימות מהתפלגות נורמלית \\( \\text{Normal}(\\mu, \\sigma^2) \\), אנו רוצים לאמוד את התוחלת \\( \\mu \\) ואת סטיית התקן \\( \\sigma \\).\n",
    "\n",
    "1. **המומנט הראשון (תוחלת):**  \n",
    "   \\[\n",
    "   \\hat{\\mu} = \\bar{x}\n",
    "   \\]\n",
    "\n",
    "2. **המומנט השני (שונות):**  \n",
    "   \\[\n",
    "   \\hat{\\sigma}^2 = \\frac{1}{n} \\sum_{i=1}^n (x_i - \\bar{x})^2\n",
    "   \\]"
   ]
  },
  {
   "cell_type": "code",
   "execution_count": null,
   "id": "ed05b64e",
   "metadata": {},
   "outputs": [],
   "source": [
    "# Example: Estimating μ and σ in Normal Distribution\n",
    "true_mu = 5\n",
    "true_sigma = 2\n",
    "sample_normal = np.random.normal(loc=true_mu, scale=true_sigma, size=sample_size)\n",
    "\n",
    "# Estimate μ and σ\n",
    "estimated_mu = np.mean(sample_normal)\n",
    "estimated_sigma = np.std(sample_normal)\n",
    "\n",
    "# Plotting\n",
    "x_values_normal = np.linspace(min(sample_normal), max(sample_normal), 1000)\n",
    "theoretical_pdf_normal = (1 / (true_sigma * np.sqrt(2 * np.pi))) * np.exp(-0.5 * ((x_values_normal - true_mu) / true_sigma) ** 2)\n",
    "estimated_pdf_normal = (1 / (estimated_sigma * np.sqrt(2 * np.pi))) * np.exp(-0.5 * ((x_values_normal - estimated_mu) / estimated_sigma) ** 2)\n",
    "\n",
    "plt.figure(figsize=(10, 6))\n",
    "plt.hist(sample_normal, bins=50, density=True, alpha=0.6, color='skyblue', edgecolor='black', label='Sample Data')\n",
    "plt.plot(x_values_normal, theoretical_pdf_normal, 'r--', label=f'Theoretical Distribution (μ={true_mu}, σ={true_sigma})')\n",
    "plt.plot(x_values_normal, estimated_pdf_normal, 'g-', label=f'Estimated Distribution (μ={estimated_mu:.2f}, σ={estimated_sigma:.2f})')\n",
    "plt.xlabel('Values')\n",
    "plt.ylabel('Probability Density')\n",
    "plt.title('Estimation of μ and σ in Normal Distribution Using Method of Moments')\n",
    "plt.legend()\n",
    "plt.grid(True)\n",
    "plt.show()"
   ]
  },
  {
   "cell_type": "markdown",
   "id": "eb53cf84",
   "metadata": {},
   "source": [
    "### **אמידת פרמטר בהתפלגות פואסון (Poisson Distribution):**\n",
    "\n",
    "אם \\( x_1, x_2, \\ldots, x_n \\) הם דגימות מהתפלגות פואסון \\( \\text{Poisson}(\\lambda) \\), אנו רוצים לאמוד את פרמטר הקצב \\( \\lambda \\).\n",
    "\n",
    "1. **המומנט הראשון (הממוצע התיאורטי):**  \n",
    "   \\[\n",
    "   E(X) = \\lambda\n",
    "   \\]\n",
    "\n",
    "2. **נשווה לממוצע המדגמי:**  \n",
    "   \\[\n",
    "   \\hat{\\lambda} = \\bar{x}\n",
    "   \\]"
   ]
  },
  {
   "cell_type": "code",
   "execution_count": null,
   "id": "353f03ca",
   "metadata": {},
   "outputs": [],
   "source": [
    "# Example: Estimating λ in Poisson Distribution\n",
    "true_lambda_poisson = 3\n",
    "sample_poisson = np.random.poisson(lam=true_lambda_poisson, size=sample_size)\n",
    "\n",
    "# Estimate λ\n",
    "estimated_lambda_poisson = np.mean(sample_poisson)\n",
    "\n",
    "# Plotting\n",
    "plt.figure(figsize=(10, 6))\n",
    "plt.hist(sample_poisson, bins=range(int(max(sample_poisson))+2), density=True, alpha=0.6, color='skyblue', edgecolor='black', label='Sample Data')\n",
    "plt.axvline(estimated_lambda_poisson, color='g', linestyle='--', label=f'Estimated λ = {estimated_lambda_poisson:.2f}')\n",
    "plt.xlabel('Number of Events')\n",
    "plt.ylabel('Probability Density')\n",
    "plt.title('Estimation of λ in Poisson Distribution Using Method of Moments')\n",
    "plt.legend()\n",
    "plt.grid(True)\n",
    "plt.show()"
   ]
  }
 ],
 "metadata": {},
 "nbformat": 4,
 "nbformat_minor": 5
}
