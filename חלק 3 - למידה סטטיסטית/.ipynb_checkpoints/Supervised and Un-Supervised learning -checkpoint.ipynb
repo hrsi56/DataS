
{
 "cells": [
  {
   "cell_type": "markdown",
   "id": "bfcdfbe4",
   "metadata": {},
   "source": "### **שיעור: למידה מפוקחת ולמידה בלתי מפוקחת (Supervised & Unsupervised Learning)**\n\n---\n\n## **1. מבוא ללמידת מכונה (Machine Learning)**\n\n**למידת מכונה** היא תחום במדעי הנתונים העוסק בפיתוח אלגוריתמים שמאפשרים למחשבים ללמוד דפוסים מנתונים ללא תכנות מפורש.\n\n**שני סוגים עיקריים של למידת מכונה:**\n1. **למידה מפוקחת (Supervised Learning)** – הנתונים כוללים משתנה מטרה (תוצאה רצויה).\n2. **למידה בלתי מפוקחת (Unsupervised Learning)** – אין משתנה מטרה, והמטרה היא למצוא דפוסים או מבנים בנתונים."
  },
  {
   "cell_type": "markdown",
   "id": "034d8c39",
   "metadata": {},
   "source": "## **2. למידה מפוקחת (Supervised Learning)**\n\n### **הגדרת הבעיה:**\nנתונים כוללים **משתנה מטרה** \\( Y \\) ותכונות **\\( X_1, X_2, \\dots, X_p \\)**.\n\nהנחת המודל היא:\n\n\\[\nY = f(X) + \\varepsilon\n\\]\n\n- \\( f(X) \\) מייצגת את ההשפעה השיטתית של המשתנים הבלתי-תלויים על \\( Y \\).\n- \\( \\varepsilon \\) הוא משתנה שגיאה אקראי.\n\n**המטרה:** למצוא אומדן ל-\\( f \\) כדי שנוכל לבצע **חיזוי (Prediction)** או **הסקה (Inference)**."
  },
  {
   "cell_type": "markdown",
   "id": "ef6a4bc5",
   "metadata": {},
   "source": "### **3. חיזוי (Prediction)**\nבמצבים שבהם ערכי \\( X \\) ידועים אך \\( Y \\) אינו נצפה, אנו משתמשים בפונקציה \\( \\hat{f}(X) \\) לחיזוי \\( Y \\):\n\n\\[\n\\hat{Y} = \\hat{f}(X)\n\\]\n\nהדיוק של \\( \\hat{Y} \\) תלוי ב:\n1. **שגיאה שניתן לצמצם (Reducible Error)** – ניתן לשפר עם בחירת מודל טוב יותר.\n2. **שגיאה שלא ניתן לצמצם (Irreducible Error)** – קיימת עקב רעש אקראי במערכת."
  },
  {
   "cell_type": "code",
   "execution_count": null,
   "id": "b9b45161",
   "metadata": {},
   "outputs": [],
   "source": "from sklearn.linear_model import LinearRegression\nimport numpy as np\nimport matplotlib.pyplot as plt\n\n# יצירת נתונים מדומים\nnp.random.seed(0)\nX = np.random.rand(100, 1) * 10  # 100 דגימות של משתנה מסביר X\nY = 2.5 * X + np.random.randn(100, 1) * 2  # משתנה מטרה Y עם רעש\n\n# התאמת מודל רגרסיה לינארית\nmodel = LinearRegression()\nmodel.fit(X, Y)\n\n# חיזוי ערכים חדשים\nX_new = np.linspace(0, 10, 100).reshape(-1, 1)\nY_pred = model.predict(X_new)\n\n# הצגת התוצאות\nplt.figure(figsize=(10, 6))\nplt.scatter(X, Y, alpha=0.7, label=\"Observed Data\", color=\"blue\", edgecolors=\"black\")\nplt.plot(X_new, Y_pred, label=\"Linear Regression Fit\", color=\"red\", linewidth=2)\nplt.xlabel(\"X\")\nplt.ylabel(\"Y\")\nplt.title(\"Supervised Learning: Linear Regression Example\")\nplt.legend()\nplt.grid(True)\nplt.show()\n\n# הצגת השיפוע והחיתוך עם הציר\nmodel.coef_[0][0], model.intercept_[0]"
  },
  {
   "cell_type": "markdown",
   "id": "fa8dc6c1",
   "metadata": {},
   "source": "## **4. למידה בלתי מפוקחת (Unsupervised Learning)**\n\n### **הגדרת הבעיה:**\nבמידע נתון רק הווקטורים \\( X_i \\), ללא משתנה מטרה \\( Y \\).\n\nהמטרה: למצוא **דפוסים** או **קבוצות** בתוך הנתונים.\n\n### **שיטות נפוצות:**\n1. **ניתוח רכיבים ראשיים (PCA - Principal Component Analysis)** – מצמצם את הממד של הנתונים תוך שמירה על המידע העיקרי.\n2. **ניתוח אשכולות (Clustering Analysis)** – מזהה קבוצות טבעיות בתוך הנתונים."
  },
  {
   "cell_type": "code",
   "execution_count": null,
   "id": "36f4880f",
   "metadata": {},
   "outputs": [],
   "source": "from sklearn.cluster import KMeans\n\n# יצירת נתונים מדומים\nnp.random.seed(1)\nX_cluster = np.random.rand(200, 2) * 10\n\n# התאמת מודל K-Means עם 3 אשכולות\nkmeans = KMeans(n_clusters=3, random_state=1, n_init=10)\nclusters = kmeans.fit_predict(X_cluster)\n\n# הצגת התוצאות\nplt.figure(figsize=(10, 6))\nplt.scatter(X_cluster[:, 0], X_cluster[:, 1], c=clusters, cmap='viridis', alpha=0.7, edgecolors=\"black\")\nplt.scatter(kmeans.cluster_centers_[:, 0], kmeans.cluster_centers_[:, 1], color=\"red\", marker=\"X\", s=200, label=\"Cluster Centers\")\nplt.xlabel(\"Feature 1\")\nplt.ylabel(\"Feature 2\")\nplt.title(\"Unsupervised Learning: K-Means Clustering Example\")\nplt.legend()\nplt.grid(True)\nplt.show()\n\n# הצגת המרכזים של האשכולות\nkmeans.cluster_centers_"
  }
 ],
 "metadata": {
  "kernelspec": {
   "display_name": "Python 3",
   "language": "python",
   "name": "python3"
  },
  "language_info": {
   "codemirror_mode": {
    "name": "ipython",
    "version": 3
   },
   "file_extension": ".py",
   "mimetype": "text/x-python",
   "name": "python",
   "nbconvert_exporter": "python",
   "pygments_lexer": "ipython3",
   "version": "3.8.10"
  }
 },
 "nbformat": 4,
 "nbformat_minor": 5
}