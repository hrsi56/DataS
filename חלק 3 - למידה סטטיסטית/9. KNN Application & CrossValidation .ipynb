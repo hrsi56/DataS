{
 "cells": [
  {
   "cell_type": "markdown",
   "id": "c24db63e",
   "metadata": {
    "id": "ac9c70c4"
   },
   "source": [
    "# הסבר כללי על המחברת\n",
    "מחברת זו עוסקת בטעינה ועיבוד של מערך הנתונים \"$default$\", ביצוע **נרמול** ($Standardization$) למשתני המודל, פיצול לסט אימון וסט בדיקה, הרצת אלגוריתם **$K-Nearest Neighbors (KNN)$** עם ערכי $k$ שונים, וכן ביצוע **$Cross-Validation$** ו-**$GridSearchCV$** כדי לאתר את $k$ הטוב ביותר.\n",
    "\n",
    "נתאר בקצרה את השלבים:\n",
    "1. **ייבוא ספריות וטעינת הנתונים** – נשתמש ב-$Pandas, Numpy, sklearn$ וכד'.\n",
    "2. **בחירת משתני המשנה** – נפיק מתוך הדאטה רק את העמודות שחשובות לנו.\n",
    "3. **י $Standardization$** – נרצה להפוך את המשתנים המספריים ($balance$ ו-$income$) לבעלי ממוצע 0 וסטיית תקן 1, כדי ש-$KNN$ לא יהיה מושפע מסקאלות שונות.\n",
    "4. **י $Train/Test Split$** – נפריד את המידע שלנו לנתוני אימון ($train$) ונתוני בדיקה ($test$), לרוב 70%/30% או 80%/20%. כך נוכל להעריך את ביצועי המודל על נתונים שלא 'ראה' בזמן האימון.\n",
    "5. **הרצת $KNN$** – נריץ את המודל עבור ערכי k שונים, ונבדוק את דיוק החיזוי ($accuracy$) על סט הבדיקה.\n",
    "6. י **$Cross-Validation$** – נשתמש ב-5-$fold$ ו-10-$fold$ על כל המדגם כדי לקבל אומדן כללי של ביצועי המודל ולראות איזה $k$ נותן תוצאות עקביות.\n",
    "7. י **$GridSearchCV$** – כלי אוטומטי שיבצע עבורנו חיפוש על $k$ אפשריים (או היפר פרמטרים אחרים), תוך שימוש ב-$CV$, ויידע אותנו איזה ערך $k$ מציג את הביצועים הטובים ביותר.\n"
   ]
  },
  {
   "cell_type": "code",
   "execution_count": 3,
   "id": "4942984a",
   "metadata": {},
   "outputs": [],
   "source": [
    "import pandas as pd\n",
    "import numpy as np\n",
    "from ISLP import load_data\n",
    "# לדוגמה, אם יש לנו פונקציה ספציפית: default = loaddata('0default0')\n",
    "# נשתמש בה. כאן נשתמש בהפקת נתונים דמה להדגמה.\n",
    "\n",
    "df=load_data('default')  # If the ISLR2 package is not available, load data another way.\n",
    "\n",
    "from sklearn.model_selection import train_test_split, GridSearchCV\n",
    "# Convert data to a DataFrame\n",
    "df = pd.DataFrame(df)"
   ]
  },
  {
   "cell_type": "markdown",
   "id": "fcbd94fe",
   "metadata": {},
   "source": [
    "## שלב 3: בחירת משתני משנה - balance, income, default"
   ]
  },
  {
   "cell_type": "code",
   "execution_count": 4,
   "id": "ba3e7eb2",
   "metadata": {},
   "outputs": [
    {
     "data": {
      "text/html": [
       "<div>\n",
       "<style scoped>\n",
       "    .dataframe tbody tr th:only-of-type {\n",
       "        vertical-align: middle;\n",
       "    }\n",
       "\n",
       "    .dataframe tbody tr th {\n",
       "        vertical-align: top;\n",
       "    }\n",
       "\n",
       "    .dataframe thead th {\n",
       "        text-align: right;\n",
       "    }\n",
       "</style>\n",
       "<table border=\"1\" class=\"dataframe\">\n",
       "  <thead>\n",
       "    <tr style=\"text-align: right;\">\n",
       "      <th></th>\n",
       "      <th>balance</th>\n",
       "      <th>income</th>\n",
       "      <th>default</th>\n",
       "    </tr>\n",
       "  </thead>\n",
       "  <tbody>\n",
       "    <tr>\n",
       "      <th>0</th>\n",
       "      <td>729.526495</td>\n",
       "      <td>44361.625074</td>\n",
       "      <td>No</td>\n",
       "    </tr>\n",
       "    <tr>\n",
       "      <th>1</th>\n",
       "      <td>817.180407</td>\n",
       "      <td>12106.134700</td>\n",
       "      <td>No</td>\n",
       "    </tr>\n",
       "    <tr>\n",
       "      <th>2</th>\n",
       "      <td>1073.549164</td>\n",
       "      <td>31767.138947</td>\n",
       "      <td>No</td>\n",
       "    </tr>\n",
       "    <tr>\n",
       "      <th>3</th>\n",
       "      <td>529.250605</td>\n",
       "      <td>35704.493935</td>\n",
       "      <td>No</td>\n",
       "    </tr>\n",
       "    <tr>\n",
       "      <th>4</th>\n",
       "      <td>785.655883</td>\n",
       "      <td>38463.495879</td>\n",
       "      <td>No</td>\n",
       "    </tr>\n",
       "  </tbody>\n",
       "</table>\n",
       "</div>"
      ],
      "text/plain": [
       "       balance        income default\n",
       "0   729.526495  44361.625074      No\n",
       "1   817.180407  12106.134700      No\n",
       "2  1073.549164  31767.138947      No\n",
       "3   529.250605  35704.493935      No\n",
       "4   785.655883  38463.495879      No"
      ]
     },
     "execution_count": 4,
     "metadata": {},
     "output_type": "execute_result"
    }
   ],
   "source": [
    "subset = df[['balance', 'income', 'default']].copy()\n",
    "subset.head()"
   ]
  },
  {
   "cell_type": "markdown",
   "id": "34bab2f6",
   "metadata": {},
   "source": [
    "## שלב 4: נרמול (Standardization) של המשתנים המספריים\n",
    "נשתמש ב-**$StandardScaler$** משביליית $sklearn.preprocessing$ י"
   ]
  },
  {
   "cell_type": "markdown",
   "id": "7deba11c",
   "metadata": {
    "id": "1945853f"
   },
   "source": [
    "**למה אנחנו מבצעים ($Standardization$)  נרמול ?**\n",
    "- כאשר משתמשים בשיטות מבוססות מרחק, כגון $K-Nearest Neighbors$, רצוי שכל המשתנים המספריים יהיו בסקאלה דומה, על מנת ש**אף משתנה לא ישפיע באופן מוגזם** רק בזכות הערכים הגדולים שלו.\n",
    "- י $StandardScaler$ מבצע טרנספורמציה כך שלכל עמודה (משתנה) יהיה ממוצע 0 וסטיית תקן 1. זהו לרוב הצעד המקובל כשעובדים עם מודלים רגישים לסקאלה.\n"
   ]
  },
  {
   "cell_type": "code",
   "execution_count": 5,
   "id": "ecd8245e",
   "metadata": {},
   "outputs": [
    {
     "data": {
      "text/plain": [
       "array([[-0.21883482,  0.81318727],\n",
       "       [-0.03761593, -1.60549572],\n",
       "       [ 0.49241019, -0.13121225],\n",
       "       [-0.6328925 ,  0.16403093],\n",
       "       [-0.10279088,  0.37091513]])"
      ]
     },
     "execution_count": 5,
     "metadata": {},
     "output_type": "execute_result"
    }
   ],
   "source": [
    "from sklearn.preprocessing import StandardScaler\n",
    "\n",
    "X = subset[['balance', 'income']]  # משתני ניבוי\n",
    "y = subset['default']             # משתנה המטרה\n",
    "\n",
    "scaler = StandardScaler()\n",
    "X_scaled = scaler.fit_transform(X)\n",
    "\n",
    "X_scaled[:5]  # הצצה לחמשת השורות הראשונות לאחר הנרמול"
   ]
  },
  {
   "cell_type": "markdown",
   "id": "b477fce9",
   "metadata": {},
   "source": [
    "## שלב 5: חלוקה לסט אימון וסט בדיקה"
   ]
  },
  {
   "cell_type": "markdown",
   "id": "be9f48cc",
   "metadata": {
    "id": "6d286aa8"
   },
   "source": [
    "**למה מפצלים לסט אימון וסט בדיקה?**\n",
    "- המטרה היא לאמן את המודל שלנו על חלק מהנתונים ולבדוק את איכות החיזוי שלו על נתונים חדשים שלא נראו באימון.\n",
    "- כך אנחנו משיגים אומדן טוב יותר ליכולת הכללה ($Generalization$) של המודל על נתונים עתידיים.\n",
    "- הפרמטר $test\\_size=0.3$ מציין ש-30% מהנתונים ילכו לסט הבדיקה.\n",
    "- י $stratify=y$ מאפשר לשמור על יחס דומה של $Yes/No$ (או של כל קטגוריות) בין סט האימון לסט הבדיקה, בעיקר חשוב אם יש חוסר איזון בכמות הדוגמאות.\n"
   ]
  },
  {
   "cell_type": "code",
   "execution_count": 6,
   "id": "6c1035bf",
   "metadata": {},
   "outputs": [
    {
     "name": "stdout",
     "output_type": "stream",
     "text": [
      "X_train shape: (7000, 2)\n",
      "X_test shape:\t (3000, 2)\n",
      "y_train shape: (7000,)\n",
      "y_test shape:\t (3000,)\n"
     ]
    }
   ],
   "source": [
    "from sklearn.model_selection import train_test_split\n",
    "\n",
    "X_train, X_test, y_train, y_test = train_test_split(\n",
    "    X_scaled,  # מאפיינים אחרי נרמול\n",
    "    y,         # משתנה המטרה\n",
    "    test_size=0.3,\n",
    "    random_state=42,\n",
    "    stratify=y  # כאשר יש חוסר איזון בין Yes/No, כדאי להשתמש ב-stratify\n",
    ")\n",
    "\n",
    "print(\"X_train shape:\", X_train.shape)\n",
    "print(\"X_test shape:\\t\", X_test.shape)\n",
    "print(\"y_train shape:\", y_train.shape)\n",
    "print(\"y_test shape:\\t\", y_test.shape)"
   ]
  },
  {
   "cell_type": "markdown",
   "id": "a538160a",
   "metadata": {
    "id": "5f17be6e"
   },
   "source": [
    "## שלב 6: הרצת K-Nearest Neighbors עבור k = 1, 5, 20, 70"
   ]
  },
  {
   "cell_type": "markdown",
   "id": "80b2385d",
   "metadata": {
    "id": "fa2c2b3d"
   },
   "source": [
    "**מה זה KNN?**\n",
    "- אלגוריתם $K-Nearest Neighbors$ (שכנים קרובים) מאחסן את כל נקודות האימון, ובזמן החיזוי לוקח את $k$ השכנים הכי קרובים לנקודה שחוזים לה.\n",
    "- מסתכל על הקטגוריה (או הערך) הנפוץ ביותר בין אותם $k$ שכנים, ומשם גוזר את החיזוי.\n",
    "\n",
    "**למה בודקים ערכים שונים של k?**\n",
    "- ערך $k$ קטן (למשל 1) אומר שאנו סומכים רק על השכן הכי קרוב, שעשוי להיות רגיש לרעש.\n",
    "- ערך $k$ גדול (למשל 70) מרכך השפעות של נקודה בודדת אבל עלול לערבב מידע מאזורים רחוקים.\n",
    "- לכן, מקובל לנסות טווח ערכים ולראות איפה מקבלים את הביצועים הטובים ביותר.\n"
   ]
  },
  {
   "cell_type": "code",
   "execution_count": 7,
   "id": "f9dee9d1",
   "metadata": {},
   "outputs": [
    {
     "name": "stdout",
     "output_type": "stream",
     "text": [
      "K=1: דיוק על סט הבדיקה = 0.959\n",
      "K=5: דיוק על סט הבדיקה = 0.968\n",
      "K=20: דיוק על סט הבדיקה = 0.971\n",
      "K=70: דיוק על סט הבדיקה = 0.971\n"
     ]
    }
   ],
   "source": [
    "from sklearn.neighbors import KNeighborsClassifier\n",
    "from sklearn.metrics import accuracy_score\n",
    "\n",
    "k_values = [1, 5, 20, 70]\n",
    "models = {}\n",
    "\n",
    "for k in k_values:\n",
    "    knn = KNeighborsClassifier(n_neighbors=k)\n",
    "    knn.fit(X_train, y_train)\n",
    "    models[k] = knn\n",
    "\n",
    "    y_pred = knn.predict(X_test)\n",
    "    acc = accuracy_score(y_test, y_pred)\n",
    "    print(f\"K={k}: דיוק על סט הבדיקה = {acc:.3f}\")"
   ]
  },
  {
   "cell_type": "markdown",
   "id": "70c55bfb",
   "metadata": {
    "id": "45d05080"
   },
   "source": [
    "**מה זה `accuracy_score`?**\n",
    "- זוהי פונקציה שבודקת את אחוז הדגימות שחזינו עבורן נכון מתוך כלל הדגימות בסט הבדיקה.\n",
    "- מחושבת כ: (מספר החיזויים הנכונים) / (סה\"כ הדגימות)."
   ]
  },
  {
   "cell_type": "markdown",
   "id": "efc4874c",
   "metadata": {},
   "source": [
    "## שלב 7: הרצת $Cross Validation (5-fold ו-10-fold)$ י"
   ]
  },
  {
   "cell_type": "markdown",
   "id": "ab44b776",
   "metadata": {
    "id": "d52e5802"
   },
   "source": [
    "**מה זה $Cross Validation (CV)?$ י**\n",
    "- י $CV$ היא שיטה בה מחלקים את כל המדגם למספר קיפולים ($folds$), לדוגמה 5 או 10. \n",
    "- ב-5-$fold CV$, מחלקים את הנתונים ל-5 תתי-קבוצות: בכל סיבוב משתמשים ב-4 קבוצות כסט אימון ובקבוצה ה-5 כסט בדיקה פנימי, ואז מחליפים.\n",
    "- מקבלים כך 5 מדדים (למשל דיוק) – אחד לכל סיבוב – ומחשבים את הממוצע שלהם.\n",
    "- זה נותן לנו הערכה יציבה יותר של ביצועי המודל, כי הוא נבדק על כל חלקי הדאטה.\n",
    "\n",
    "**הפרמטר `cv`**\n",
    "- כשאנו מציינים $cv=5$ אנחנו עושים$ 5-fold CV$. י\n",
    "- כשאנו מציינים $cv=10$ אנחנו עושים$ 10-fold CV$. י\n",
    "\n",
    "כך אנו רואים איך המודל עובד על חלקים שונים מהנתונים, במקום רק חלוקה בודדת לסט אימון וסט בדיקה.\n"
   ]
  },
  {
   "cell_type": "code",
   "execution_count": 8,
   "id": "4626c5d4",
   "metadata": {},
   "outputs": [
    {
     "name": "stdout",
     "output_type": "stream",
     "text": [
      "K=1: 5-fold CV=0.957, 10-fold CV=0.956\n",
      "K=5: 5-fold CV=0.970, 10-fold CV=0.969\n",
      "K=20: 5-fold CV=0.972, 10-fold CV=0.973\n",
      "K=70: 5-fold CV=0.972, 10-fold CV=0.972\n"
     ]
    }
   ],
   "source": [
    "from sklearn.model_selection import cross_val_score\n",
    "\n",
    "for k in k_values:\n",
    "    knn = KNeighborsClassifier(n_neighbors=k)\n",
    "    \n",
    "    # 5-fold CV\n",
    "    scores_5 = cross_val_score(knn, X_scaled, y, cv=5)\n",
    "    mean_5 = scores_5.mean()\n",
    "    \n",
    "    # 10-fold CV\n",
    "    scores_10 = cross_val_score(knn, X_scaled, y, cv=10)\n",
    "    mean_10 = scores_10.mean()\n",
    "    \n",
    "    print(f\"K={k}: 5-fold CV={mean_5:.3f}, 10-fold CV={mean_10:.3f}\")"
   ]
  },
  {
   "cell_type": "markdown",
   "id": "dda02b0d",
   "metadata": {
    "id": "bfa683be"
   },
   "source": [
    "**הסבר על תוצאת הפלט**\n",
    "- בשורת ההדפסה רואים לדוגמה: $K=1: 5-fold CV=0.957, 10-fold CV=0.956$.י\n",
    "- תוצאות קרובות מעידות על עקביות, ותוצאת $CV$ גבוהה מעידה שהמודל מסתדר היטב עם כל חלקי הדאטה.\n"
   ]
  },
  {
   "cell_type": "markdown",
   "id": "7a66a30a",
   "metadata": {},
   "source": [
    "# Use GridSearchCV to find the best k"
   ]
  },
  {
   "cell_type": "markdown",
   "id": "8833f25f",
   "metadata": {
    "id": "83c52afc"
   },
   "source": [
    "**למה GridSearchCV?**\n",
    "- י $GridSearchCV$ היא דרך לבצע **חיפוש על כל קומבינציות** של היפר-פרמטרים שהגדרנו (במקרה זה, ערכי $k$) תוך שימוש ב-$Cross Validation$. י \n",
    "- בכל ערך של $k$ היא תבצע אימון (על $Train folds$) ובדיקה (על $Validation fold$) ותמדוד את הביצועים.\n",
    "- בסיום התהליך, $best\\_params\\_$ יחזיר את ערך $k$ שהשיג את הביצועים הטובים ביותר.\n",
    "- $best\\_score\\_$ מציין את ציון הדיוק הממוצע הגבוה ביותר ב-$CV$ עבור הערך האידיאלי של $k$.\n"
   ]
  },
  {
   "cell_type": "code",
   "execution_count": 9,
   "id": "e2241567",
   "metadata": {},
   "outputs": [
    {
     "name": "stdout",
     "output_type": "stream",
     "text": [
      "Best k: 10\n",
      "Best cross-validation accuracy: 0.97\n"
     ]
    }
   ],
   "source": [
    "from sklearn.model_selection import GridSearchCV\n",
    "from sklearn.neighbors import KNeighborsClassifier\n",
    "\n",
    "# הנחה: הנתונים כבר חולקו ל-X_train, X_test, y_train, y_test\n",
    "# (הכוללים את משתני הניבוי המנורמלים ואת המשתנה המטרה)\n",
    "\n",
    "knn = KNeighborsClassifier()\n",
    "\n",
    "param_grid = {'n_neighbors': [1, 5, 10, 20, 50, 70]}  # Define range of k\n",
    "grid_search = GridSearchCV(knn, param_grid, cv=5, scoring='accuracy')\n",
    "grid_search.fit(X_train, y_train)\n",
    "\n",
    "# Best k and corresponding accuracy\n",
    "best_k = grid_search.best_params_['n_neighbors']\n",
    "best_score = grid_search.best_score_\n",
    "\n",
    "print(f\"Best k: {best_k}\")\n",
    "print(f\"Best cross-validation accuracy: {best_score:.2f}\")"
   ]
  },
  {
   "cell_type": "markdown",
   "id": "4c06950d",
   "metadata": {
    "id": "8e21021e"
   },
   "source": [
    "\n",
    "- כך אנחנו יודעים באיזה $k$ כדאי להשתמש כשנחזה על נתונים חדשים, על מנת למקסם את הסיכוי לדיוק מירבי.\n",
    "- בשיטה זו, כאשר נרצה לעשות ניבוי סופי, נשתמש ב-$KNeighborsClassifier(n_neighbors=best_k)$ ונאמן אותו על מלוא סט האימון, ואז נחזה על הנתונים החדשים.\n"
   ]
  },
  {
   "cell_type": "code",
   "execution_count": null,
   "id": "ca378b3e-1b9b-4c5d-a373-236af7d2b47b",
   "metadata": {},
   "outputs": [],
   "source": []
  }
 ],
 "metadata": {
  "kernelspec": {
   "display_name": "Python 3 (ipykernel)",
   "language": "python",
   "name": "python3"
  },
  "language_info": {
   "codemirror_mode": {
    "name": "ipython",
    "version": 3
   },
   "file_extension": ".py",
   "mimetype": "text/x-python",
   "name": "python",
   "nbconvert_exporter": "python",
   "pygments_lexer": "ipython3",
   "version": "3.12.5"
  }
 },
 "nbformat": 4,
 "nbformat_minor": 5
}
