{
 "cells": [
  {
   "cell_type": "markdown",
   "id": "b2e405ac",
   "metadata": {},
   "source": [
    "# 📊 סיכום: קשרים לא ליניאריים ($Non-Linear Relationships$) י"
   ]
  },
  {
   "cell_type": "markdown",
   "id": "b3de512d",
   "metadata": {},
   "source": [
    "## מבוא\n",
    "עד כה הנחנו שהקשרים בין המשתנים הבלתי תלויים לבין המשתנה התלוי הם **ליניאריים וחיבוריים**:\n",
    "- **ליניארי** – שינוי של יחידה אחת ב-$X_j$ מוביל לשינוי קבוע ב-$Y$.י \n",
    "- **חיבורי** – השפעת כל משתנה בלתי תלוי על $Y$ אינה תלויה בשאר המשתנים.\n",
    "\n",
    "אך לא תמיד קשרים אלו מתקיימים בעולם האמיתי. קיימות מספר שיטות להרחיב את המודל הליניארי כדי ללכוד **אינטראקציות** ו**צורות לא ליניאריות**.\n"
   ]
  },
  {
   "cell_type": "markdown",
   "id": "add91d67",
   "metadata": {},
   "source": [
    "## אינטראקציות בין משתנים\n",
    "כאשר קיימת **השפעה משותפת** בין שני משתנים בלתי תלויים, ניתן להוסיף **משתנה אינטראקציה** שמייצג את המכפלה ביניהם:\n",
    "\n",
    "#### **מודל רגרסיה רגיל:**\n",
    "$$[ Y = \\beta_0 + \\beta_1X_1 + \\beta_2X_2 + \\varepsilon ]$$\n",
    "\n",
    "#### **מודל עם אינטראקציה:**\n",
    "$$ [ Y = \\beta_0 + \\beta_1X_1 + \\beta_2X_2 + \\beta_3X_1X_2 + \\varepsilon ]$$ \n",
    "\n",
    "💡 **כאשר $X_1X_2$ נוסף למודל, המשמעות היא שהשפעת $X_1$ על $Y$ תלויה בערכו של $X_2$.** י\n"
   ]
  },
  {
   "cell_type": "code",
   "execution_count": 37,
   "id": "61c9d741",
   "metadata": {},
   "outputs": [
    {
     "name": "stdout",
     "output_type": "stream",
     "text": [
      "                            OLS Regression Results                            \n",
      "==============================================================================\n",
      "Dep. Variable:                      y   R-squared:                       0.989\n",
      "Model:                            OLS   Adj. R-squared:                  0.988\n",
      "Method:                 Least Squares   F-statistic:                     2786.\n",
      "Date:                Thu, 20 Feb 2025   Prob (F-statistic):           3.50e-93\n",
      "Time:                        18:44:38   Log-Likelihood:                -208.41\n",
      "No. Observations:                 100   AIC:                             424.8\n",
      "Df Residuals:                      96   BIC:                             435.2\n",
      "Df Model:                           3                                         \n",
      "Covariance Type:            nonrobust                                         \n",
      "==============================================================================\n",
      "                 coef    std err          t      P>|t|      [0.025      0.975]\n",
      "------------------------------------------------------------------------------\n",
      "const          1.8871      0.752      2.510      0.014       0.395       3.379\n",
      "x1             1.4174      0.137     10.358      0.000       1.146       1.689\n",
      "x2             2.7615      0.259     10.682      0.000       2.248       3.275\n",
      "x3             1.2057      0.048     25.049      0.000       1.110       1.301\n",
      "==============================================================================\n",
      "Omnibus:                        6.203   Durbin-Watson:                   2.073\n",
      "Prob(Omnibus):                  0.045   Jarque-Bera (JB):                5.817\n",
      "Skew:                           0.458   Prob(JB):                       0.0546\n",
      "Kurtosis:                       3.746   Cond. No.                         66.5\n",
      "==============================================================================\n",
      "\n",
      "Notes:\n",
      "[1] Standard Errors assume that the covariance matrix of the errors is correctly specified.\n"
     ]
    }
   ],
   "source": [
    "import numpy as np\n",
    "import statsmodels.api as sm\n",
    "\n",
    "# יצירת נתונים\n",
    "np.random.seed(42)\n",
    "X1 = np.random.rand(100, 1) * 10\n",
    "X2 = np.random.rand(100, 1) * 5\n",
    "y = 2 + 1.5 * X1 + 2.5 * X2 + 1.2 * X1 * X2 + np.random.randn(100,1) * 2\n",
    "\n",
    "# יצירת משתנה אינטראקציה\n",
    "X_interaction = X1 * X2\n",
    "\n",
    "# בניית מטריצת המשתנים\n",
    "X = np.column_stack((X1, X2, X_interaction))\n",
    "X_with_const = sm.add_constant(X)\n",
    "\n",
    "# רגרסיה עם אינטראקציה\n",
    "model = sm.OLS(y, X_with_const).fit()\n",
    "print(model.summary())"
   ]
  },
  {
   "cell_type": "markdown",
   "id": "f4e252be",
   "metadata": {},
   "source": [
    "## משתנים קטגוריים ואינטראקציה עם משתנים מספריים\n",
    "משתנים קטגוריים ניתן להמיר ל**משתני דמה** ולהוסיף **אינטראקציה** בין המשתנה הקטגורי למספרי.\n",
    "\n",
    "#### **ללא אינטראקציה:**\n",
    "$$[ \text{balance} = \\beta_0 + \\beta_1 \\cdot \text{income} + \\beta_2 \\cdot \text{student} + \\varepsilon ] $$\n",
    "\n",
    "#### **עם אינטראקציה:**\n",
    "$$ [ \text{balance} = \\beta_0 + \\beta_1 \\cdot \text{income} + \\beta_2 \\cdot \text{student} + \\beta_3 \\cdot (\text{income} \\times \text{student}) + \\varepsilon ]$$\n"
   ]
  },
  {
   "cell_type": "code",
   "execution_count": 35,
   "id": "8607a662",
   "metadata": {},
   "outputs": [
    {
     "name": "stdout",
     "output_type": "stream",
     "text": [
      "100\n",
      "1\n",
      "10000\n",
      "100\n",
      "                            OLS Regression Results                            \n",
      "==============================================================================\n",
      "Dep. Variable:                balance   R-squared:                       0.990\n",
      "Model:                            OLS   Adj. R-squared:                  0.990\n",
      "Method:                 Least Squares   F-statistic:                     3237.\n",
      "Date:                Thu, 20 Feb 2025   Prob (F-statistic):           2.82e-96\n",
      "Time:                        18:43:37   Log-Likelihood:                -438.01\n",
      "No. Observations:                 100   AIC:                             884.0\n",
      "Df Residuals:                      96   BIC:                             894.4\n",
      "Df Model:                           3                                         \n",
      "Covariance Type:            nonrobust                                         \n",
      "==================================================================================\n",
      "                     coef    std err          t      P>|t|      [0.025      0.975]\n",
      "----------------------------------------------------------------------------------\n",
      "const            496.1228      5.338     92.941      0.000     485.527     506.719\n",
      "income            10.1405      0.191     52.953      0.000       9.760      10.521\n",
      "student         -188.3174      7.409    -25.418      0.000    -203.024    -173.611\n",
      "income_student     4.7503      0.267     17.812      0.000       4.221       5.280\n",
      "==============================================================================\n",
      "Omnibus:                        7.653   Durbin-Watson:                   2.059\n",
      "Prob(Omnibus):                  0.022   Jarque-Bera (JB):                7.788\n",
      "Skew:                           0.500   Prob(JB):                       0.0204\n",
      "Kurtosis:                       3.931   Cond. No.                         137.\n",
      "==============================================================================\n",
      "\n",
      "Notes:\n",
      "[1] Standard Errors assume that the covariance matrix of the errors is correctly specified.\n"
     ]
    }
   ],
   "source": [
    "import pandas as pd\n",
    "\n",
    "# יצירת נתונים\n",
    "np.random.seed(42)\n",
    "income = np.random.rand(100, 1) * 50  # הכנסה\n",
    "student = np.random.choice([0, 1], size=(100, 1))  # 0 = לא סטודנט, 1 = סטודנט\n",
    "balance = 500 + 10 * income - 200 * student + 5 * income * student + np.random.randn(100, 1) * 20\n",
    "\n",
    "\n",
    "\n",
    "\n",
    "print (np.size( balance ))\n",
    "print (np.size( oo ))\n",
    "print (np.size( ooo ))\n",
    "print (np.size( oooo ))\n",
    "\n",
    "\n",
    "# המרת הנתונים ל-DataFrame\n",
    "df = pd.DataFrame({'income': income.squeeze(), 'student': student.squeeze(), 'balance': balance.squeeze()})\n",
    "\n",
    "# בניית מודל רגרסיה\n",
    "df['income_student'] = df['income'] * df['student']\n",
    "X = df[['income', 'student', 'income_student']]\n",
    "X_with_const = sm.add_constant(X)\n",
    "\n",
    "# התאמת המודל\n",
    "model = sm.OLS(df['balance'], X_with_const).fit()\n",
    "print(model.summary())\n"
   ]
  },
  {
   "cell_type": "markdown",
   "id": "5b175935",
   "metadata": {},
   "source": [
    "## רגרסיה פולינומית ($Polynomial Regression$) י \n",
    "כאשר הקשר בין $X$ ל-$Y$ **אינו ליניארי**, ניתן להוסיף **חזקות** של $X$ וליצור **פונקציה פולינומית**:\n",
    "\n",
    "#### **מודל ליניארי רגיל:**\n",
    "$$ [ Y = \\beta_0 + \\beta_1X + \\varepsilon ] $$\n",
    "\n",
    "#### **מודל פולינומי מסדר שני:**\n",
    "$$ [ Y = \\beta_0 + \\beta_1X + \\beta_2X^2 + \\varepsilon ]$$\n",
    "\n",
    "#### **מודל פולינומי כללי:**\n",
    "$$ [ Y = \\beta_0 + \\beta_1X + \\beta_2X^2 + \\beta_3X^3 + \\dots + \\beta_dX^d + \\varepsilon ] $$\n",
    "\n",
    "💡 **רגרסיה פולינומית מאפשרת גמישות רבה יותר ומסוגלת להתאים קשרים לא ליניאריים.**\n"
   ]
  },
  {
   "cell_type": "code",
   "execution_count": 38,
   "id": "4383e0db",
   "metadata": {},
   "outputs": [
    {
     "data": {
      "image/png": "[encoded data removed]",
      "text/plain": [
       "<Figure size 640x480 with 1 Axes>"
      ]
     },
     "metadata": {},
     "output_type": "display_data"
    }
   ],
   "source": [
    "from sklearn.preprocessing import PolynomialFeatures\n",
    "from sklearn.linear_model import LinearRegression\n",
    "import matplotlib.pyplot as plt\n",
    "\n",
    "# יצירת נתונים לא ליניאריים\n",
    "X = np.linspace(0, 10, 100).reshape(-1, 1)\n",
    "y = 5 + 2 * X - 0.5 * X**2 + np.random.randn(100, 1) * 2\n",
    "\n",
    "# טרנספורמציה פולינומית מסדר 2\n",
    "poly = PolynomialFeatures(degree=2)\n",
    "X_poly = poly.fit_transform(X)\n",
    "\n",
    "# התאמת רגרסיה פולינומית\n",
    "model = LinearRegression()\n",
    "model.fit(X_poly, y)\n",
    "y_pred = model.predict(X_poly)\n",
    "\n",
    "\n",
    "# Displaying Results\n",
    "plt.scatter(X, y, label=\"Actual Data\")\n",
    "plt.plot(X, y_pred, color='red', label=\"Polynomial Regression\")\n",
    "plt.xlabel(\"X\")\n",
    "plt.ylabel(\"Y\")\n",
    "plt.legend()\n",
    "plt.show()\n"
   ]
  },
  {
   "cell_type": "markdown",
   "id": "867990d9",
   "metadata": {},
   "source": [
    "## סיכום\n",
    "✔ **אינטראקציות** מאפשרות לתפוס השפעות הדדיות בין משתנים.  \n",
    "✔ **משתנים קטגוריים** יכולים להשפיע בצורה שונה על המשתנה התלוי.  \n",
    "✔ **רגרסיה פולינומית** מספקת גמישות גבוהה ללכידת קשרים לא ליניאריים.  \n",
    "\n",
    "📌 **שימוש בשיטות אלו מאפשר לבנות מודלים מתקדמים ומדויקים יותר! 🚀**\n"
   ]
  },
  {
   "cell_type": "code",
   "execution_count": null,
   "id": "77c48509-7723-4471-9668-edc811585d68",
   "metadata": {},
   "outputs": [],
   "source": []
  }
 ],
 "metadata": {
  "kernelspec": {
   "display_name": "Python 3 (ipykernel)",
   "language": "python",
   "name": "python3"
  },
  "language_info": {
   "codemirror_mode": {
    "name": "ipython",
    "version": 3
   },
   "file_extension": ".py",
   "mimetype": "text/x-python",
   "name": "python",
   "nbconvert_exporter": "python",
   "pygments_lexer": "ipython3",
   "version": "3.12.5"
  }
 },
 "nbformat": 4,
 "nbformat_minor": 5
}
