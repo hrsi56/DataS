{
 "cells": [
  {
   "attachments": {},
   "cell_type": "markdown",
   "id": "2852f211",
   "metadata": {},
   "source": [
    "# Variables & DataTypes\n",
    "\n",
    "## Questions"
   ]
  },
  {
   "attachments": {},
   "cell_type": "markdown",
   "id": "2cce0812",
   "metadata": {},
   "source": [
    "**Exercise 1: Basic Variables**\n",
    "\n",
    "Create a variable named `greeting` and assign the string `Hello, World!` to it. Print the variable."
   ]
  },
  {
   "cell_type": "code",
   "execution_count": 3,
   "id": "ce57181d",
   "metadata": {},
   "outputs": [
    {
     "name": "stdout",
     "output_type": "stream",
     "text": [
      "Hello, World!\n"
     ]
    }
   ],
   "source": [
    "greeting=\"Hello, World!\"\n",
    "print(greeting)"
   ]
  },
  {
   "attachments": {},
   "cell_type": "markdown",
   "id": "5410d768",
   "metadata": {},
   "source": [
    "**Exercise 2: Simple Arithmetic**\n",
    "\n",
    "Create two variables, `a` and `b`, assign them the values `5` and `7`, respectively. Add these two variables and assign the result to a new variable `c`. Print `c`."
   ]
  },
  {
   "cell_type": "code",
   "execution_count": 5,
   "id": "3d99e3f0",
   "metadata": {},
   "outputs": [
    {
     "name": "stdout",
     "output_type": "stream",
     "text": [
      "12\n"
     ]
    }
   ],
   "source": [
    "a= 5\n",
    "b= 7\n",
    "c = a+b \n",
    "print(c)\n"
   ]
  },
  {
   "attachments": {},
   "cell_type": "markdown",
   "id": "23aaf5f1",
   "metadata": {},
   "source": [
    "**Exercise 3: String Concatenation**\n",
    "\n",
    "Create two string variables, `first_name` and `last_name`, and assign your first and last names to them. Concatenate these two variables with a space in between, and assign the result to a new variable `full_name`. Print `full_name`."
   ]
  },
  {
   "cell_type": "code",
   "execution_count": 1,
   "id": "706de408",
   "metadata": {},
   "outputs": [
    {
     "name": "stdout",
     "output_type": "stream",
     "text": [
      "Israel Israeli\n",
      "Israel Israeli\n",
      "Israel Israeli\n"
     ]
    }
   ],
   "source": [
    "first_name = \"Israel\"\n",
    "last_name = \"Israeli\"\n",
    "\n",
    "\n",
    "full_name = first_name + \" \" + last_name\n",
    "full_name2 = \"%s %s\" %(first_name,last_name)\n",
    "full_name3 = f\"{first_name} {last_name}\"\n",
    "\n",
    "print (full_name)\n",
    "print (full_name2)\n",
    "print (full_name3)"
   ]
  },
  {
   "attachments": {},
   "cell_type": "markdown",
   "id": "4c3585b1",
   "metadata": {},
   "source": [
    "**Exercise 4: Converting Integers to Floats**\n",
    "\n",
    "Create an integer variable `x` with value `10`. Convert `x` to a float and assign it to a new variable `y`. Print `y`."
   ]
  },
  {
   "cell_type": "code",
   "execution_count": 24,
   "id": "2a7d3105",
   "metadata": {},
   "outputs": [
    {
     "name": "stdout",
     "output_type": "stream",
     "text": [
      "10.0\n"
     ]
    }
   ],
   "source": [
    "x = 10 \n",
    "x = float(x)\n",
    "y = x \n",
    "print(y)"
   ]
  },
  {
   "attachments": {},
   "cell_type": "markdown",
   "id": "6294acea",
   "metadata": {},
   "source": [
    "**Exercise 5: Boolean Variables**\n",
    "\n",
    "Assign the value `True` to a variable `is_active`. Print `is_active`."
   ]
  },
  {
   "cell_type": "code",
   "execution_count": 26,
   "id": "52122c9d",
   "metadata": {},
   "outputs": [
    {
     "name": "stdout",
     "output_type": "stream",
     "text": [
      "True\n"
     ]
    }
   ],
   "source": [
    "is_active = True\n",
    "print(is_active)\n"
   ]
  },
  {
   "attachments": {},
   "cell_type": "markdown",
   "id": "047d3bcf",
   "metadata": {},
   "source": [
    "**Exercise 6: Variable Swap**\n",
    "\n",
    "Swap the values of two variables, `p` and `q`, without using a third variable."
   ]
  },
  {
   "cell_type": "code",
   "execution_count": 31,
   "id": "71b700fb",
   "metadata": {},
   "outputs": [
    {
     "name": "stdout",
     "output_type": "stream",
     "text": [
      "6 5\n"
     ]
    }
   ],
   "source": [
    "p,q = 5,6\n",
    "p, q = q, p\n",
    "print(p, q) "
   ]
  },
  {
   "attachments": {},
   "cell_type": "markdown",
   "id": "293e716d",
   "metadata": {},
   "source": [
    "**Exercise 7: String Length**\n",
    "\n",
    "Calculate the length of a string variable `sentence`. Print the length"
   ]
  },
  {
   "cell_type": "code",
   "execution_count": 38,
   "id": "c63895c5",
   "metadata": {},
   "outputs": [
    {
     "name": "stdout",
     "output_type": "stream",
     "text": [
      "8\n"
     ]
    }
   ],
   "source": [
    "print(len('sentence'))\n"
   ]
  },
  {
   "attachments": {},
   "cell_type": "markdown",
   "id": "f473b4fc",
   "metadata": {},
   "source": [
    "**Exercise 8: Negative Number**\n",
    "\n",
    "Create a negative integer variable `neg_num` with value `-100`. Print `neg_num`."
   ]
  },
  {
   "cell_type": "code",
   "execution_count": 39,
   "id": "3b7f6524",
   "metadata": {},
   "outputs": [
    {
     "name": "stdout",
     "output_type": "stream",
     "text": [
      "-100\n"
     ]
    }
   ],
   "source": [
    "neg_num = -100\n",
    "print( neg_num)\n"
   ]
  },
  {
   "attachments": {},
   "cell_type": "markdown",
   "id": "16d8fc1a",
   "metadata": {},
   "source": [
    "**Exercise 9: Multi-line Strings**\n",
    "\n",
    "Assign a multi-line string (string with line breaks) to a variable `poem`. Print `poem`."
   ]
  },
  {
   "cell_type": "code",
   "execution_count": 46,
   "id": "8f1ba46a",
   "metadata": {},
   "outputs": [
    {
     "name": "stdout",
     "output_type": "stream",
     "text": [
      "dai\n",
      "kvar\n"
     ]
    }
   ],
   "source": [
    "poem= \"dai\\nkvar\"\n",
    "print(poem)"
   ]
  },
  {
   "attachments": {},
   "cell_type": "markdown",
   "id": "19e7664d",
   "metadata": {},
   "source": [
    "**Exercise 10: User Input**\n",
    "\n",
    "Write a program to accept user input `2`, convert it to an integer, multiply it by 2, and display it."
   ]
  },
  {
   "cell_type": "code",
   "execution_count": 60,
   "id": "aa3446fe",
   "metadata": {},
   "outputs": [
    {
     "name": "stdin",
     "output_type": "stream",
     "text": [
      "enter two 3\n"
     ]
    },
    {
     "name": "stdout",
     "output_type": "stream",
     "text": [
      "you dumb ass\n"
     ]
    }
   ],
   "source": [
    "two= int(input(\"enter two\"))\n",
    "if two != 2: print( \"enter two!!!!\")\n",
    "elif two == 2 : two = two * 2 ; print( two )"
   ]
  },
  {
   "attachments": {},
   "cell_type": "markdown",
   "id": "93bb180d",
   "metadata": {},
   "source": [
    "**Exercise 11: Type Conversion**\n",
    "\n",
    "Write a Python program to add a string `Python` and a number `3`. Hint: You'll need to convert the number to a string first."
   ]
  },
  {
   "cell_type": "code",
   "execution_count": 74,
   "id": "457f4ded",
   "metadata": {},
   "outputs": [
    {
     "name": "stdout",
     "output_type": "stream",
     "text": [
      "Python3\n",
      "Python3\n"
     ]
    }
   ],
   "source": [
    "ma = \"Python%d\" % 3\n",
    "ha = str(3)\n",
    "\n",
    "print(\"Python\"+ha + f\"\\n{ma}\")"
   ]
  },
  {
   "attachments": {},
   "cell_type": "markdown",
   "id": "6223d46e",
   "metadata": {},
   "source": [
    "**Exercise 12: String Formatting**\n",
    "\n",
    "Print the variables `greeting` (a string), `a` and `b` (integers), and `z` (a float) in a formatted string."
   ]
  },
  {
   "cell_type": "code",
   "execution_count": 78,
   "id": "a9ad907d",
   "metadata": {},
   "outputs": [
    {
     "name": "stdout",
     "output_type": "stream",
     "text": [
      " if you go 4 play 5 and get greetings you are 100.0\n"
     ]
    }
   ],
   "source": [
    "g = 'greetings'\n",
    "a= 4 \n",
    "b= 5 \n",
    "z = (float(100))\n",
    "\n",
    "print(f\" if you go {a} play {b} and get {g} you are {z}\")\n"
   ]
  },
  {
   "attachments": {},
   "cell_type": "markdown",
   "id": "d5840be3",
   "metadata": {},
   "source": [
    "**Exercise 13: Arithmetic Operations**\n",
    "\n",
    "Perform all basic arithmetic operations with two variables `x = 15` and `y = 6`."
   ]
  },
  {
   "cell_type": "code",
   "execution_count": 86,
   "id": "29317be4",
   "metadata": {},
   "outputs": [
    {
     "name": "stdout",
     "output_type": "stream",
     "text": [
      "90\n",
      "21\n",
      "9\n",
      "2.5\n",
      "11390625\n",
      "1.5704178024750197\n"
     ]
    }
   ],
   "source": [
    "x = 15\n",
    "y = 6\n",
    "\n",
    "print(x*y) \n",
    "print(x+y) \n",
    "print(x-y) \n",
    "print(x/y) \n",
    "print(x**y) \n",
    "print(float(x)**float(1/y)) "
   ]
  },
  {
   "attachments": {},
   "cell_type": "markdown",
   "id": "bf7e8b78",
   "metadata": {},
   "source": [
    "**Exercise 14: String Indexing**\n",
    "\n",
    "Print the first, third and last character of the string `s = \"Python\"`."
   ]
  },
  {
   "cell_type": "code",
   "execution_count": 90,
   "id": "bb5ea82e",
   "metadata": {},
   "outputs": [
    {
     "name": "stdout",
     "output_type": "stream",
     "text": [
      "First character: P\n",
      "Third character: t\n",
      "Last character: n\n"
     ]
    }
   ],
   "source": [
    "python= \"Python\"\n",
    "\n",
    "print(f\"First character: {python[0]}\")\n",
    "print(f\"Third character: {python[2]}\")\n",
    "print(f\"Last character: {python[-1]}\")\n"
   ]
  },
  {
   "attachments": {},
   "cell_type": "markdown",
   "id": "77bb2a66",
   "metadata": {},
   "source": [
    "**Exercise 15: String Case Conversion**\n",
    "\n",
    "Convert a string variable `text = \"Python Programming\"` to uppercase, and then to lowercase."
   ]
  },
  {
   "cell_type": "code",
   "execution_count": 92,
   "id": "83d19b45",
   "metadata": {},
   "outputs": [
    {
     "name": "stdout",
     "output_type": "stream",
     "text": [
      "PYTHON PROGRAMMING\n",
      "python programming\n"
     ]
    }
   ],
   "source": [
    "\n",
    "text = \"Python Programming\"\n",
    "\n",
    "print(text.upper())\n",
    "print(text.lower()) "
   ]
  },
  {
   "attachments": {},
   "cell_type": "markdown",
   "id": "555cf8a0",
   "metadata": {},
   "source": [
    "**Exercise 16: Concatenate and Repeat Strings**\n",
    "\n",
    "Create two string variables, `s1` with value `Hello` and `s2` with value `World`. Concatenate them with a space in between and repeat this concatenated string 3 times."
   ]
  },
  {
   "cell_type": "code",
   "execution_count": 97,
   "id": "50fd33b3",
   "metadata": {},
   "outputs": [
    {
     "name": "stdout",
     "output_type": "stream",
     "text": [
      "Hello World \n",
      "Hello World \n",
      "Hello World \n"
     ]
    }
   ],
   "source": [
    "s1 = \"Hello\"\n",
    "s2 = \"World\"\n",
    "\n",
    "combined = \"%s %s \" %(s1 ,s2)\n",
    "\n",
    "print(\"\\n\".join([combined] * 3))\n"
   ]
  },
  {
   "attachments": {},
   "cell_type": "markdown",
   "id": "e3aa40fa",
   "metadata": {},
   "source": [
    "**Exercise 17: Use the `type()` Function**\n",
    "\n",
    "Use the `type()` function to find the data type of a variable `z` with value `3.14`."
   ]
  },
  {
   "cell_type": "code",
   "execution_count": 98,
   "id": "82364dcc",
   "metadata": {},
   "outputs": [
    {
     "name": "stdout",
     "output_type": "stream",
     "text": [
      "<class 'float'>\n"
     ]
    }
   ],
   "source": [
    "z=3.14\n",
    "print(type(z))\n"
   ]
  },
  {
   "attachments": {},
   "cell_type": "markdown",
   "id": "b16b1a5b",
   "metadata": {},
   "source": [
    "**Exercise 18: String to List Conversion**\n",
    "\n",
    "Count the number of times the character `o` apears in the sstring `s = Hello, how are you?`."
   ]
  },
  {
   "cell_type": "code",
   "execution_count": 100,
   "id": "38851e0e",
   "metadata": {},
   "outputs": [
    {
     "name": "stdout",
     "output_type": "stream",
     "text": [
      "3\n"
     ]
    }
   ],
   "source": [
    "s = \"Hello, how are you?\"\n",
    "print(s.count('o'))\n"
   ]
  },
  {
   "attachments": {},
   "cell_type": "markdown",
   "id": "60be670b",
   "metadata": {},
   "source": [
    "**Exercise 19: String Reversal**\n",
    "\n",
    "Reverse a string `text = \"Python\"`."
   ]
  },
  {
   "cell_type": "code",
   "execution_count": 111,
   "id": "b3ece6ff",
   "metadata": {},
   "outputs": [
    {
     "name": "stdout",
     "output_type": "stream",
     "text": [
      "nohtyP\n"
     ]
    }
   ],
   "source": [
    "text = \"Python\"\n",
    "print(\"\".join(reversed(text)))\n"
   ]
  },
  {
   "attachments": {},
   "cell_type": "markdown",
   "id": "f194c452",
   "metadata": {},
   "source": [
    "**Exercise 20: Formatted String from User Input**\n",
    "\n",
    "Ask the user for their name and age, then print a greeting that includes these details."
   ]
  },
  {
   "cell_type": "code",
   "execution_count": null,
   "id": "3adeb7e9",
   "metadata": {},
   "outputs": [],
   "source": [
    "name= input(\"name?\")\n",
    "while True :\n",
    "    age= input(\"age?\")\n",
    "    try: \n",
    "        age = int(age)\n",
    "        if age > 0:\n",
    "            break\n",
    "        else: \n",
    "            print(\"enter number between 1-120\")\n",
    "            continue\n",
    "    except :\n",
    "        print(\"enter number! between 1-120!\")\n",
    "        continue\n",
    "print(f\"Hello {name}. it probably nice to be {age} years old.\" )"
   ]
  },
  {
   "cell_type": "code",
   "execution_count": null,
   "id": "58ecf47f-8b6c-4000-94ba-e9bd6f6229bc",
   "metadata": {},
   "outputs": [],
   "source": []
  }
 ],
 "metadata": {
  "kernelspec": {
   "display_name": "Python 3 (ipykernel)",
   "language": "python",
   "name": "python3"
  },
  "language_info": {
   "codemirror_mode": {
    "name": "ipython",
    "version": 3
   },
   "file_extension": ".py",
   "mimetype": "text/x-python",
   "name": "python",
   "nbconvert_exporter": "python",
   "pygments_lexer": "ipython3",
   "version": "3.12.1"
  }
 },
 "nbformat": 4,
 "nbformat_minor": 5
}
