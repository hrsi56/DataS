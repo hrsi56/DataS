{
 "cells": [
  {
   "attachments": {},
   "cell_type": "markdown",
   "id": "e7eaae41",
   "metadata": {},
   "source": [
    "# Build-In Functions\n",
    "\n",
    "## Questions"
   ]
  },
  {
   "attachments": {},
   "cell_type": "markdown",
   "id": "4cbedc16",
   "metadata": {},
   "source": [
    "Exercise 1: sorted() - Sort the list `[1, 3, 4, 2]` in descending order."
   ]
  },
  {
   "cell_type": "code",
   "execution_count": 5,
   "id": "2c6c11ab",
   "metadata": {},
   "outputs": [],
   "source": [
    "list = sorted([1, 3, 4, 2], reverse= True)\n"
   ]
  },
  {
   "attachments": {},
   "cell_type": "markdown",
   "id": "28db0990",
   "metadata": {},
   "source": [
    "Exercise 2: help() - Use the `help()` function to get information about the built-in `len` function."
   ]
  },
  {
   "cell_type": "code",
   "execution_count": 7,
   "id": "58d3a34b",
   "metadata": {},
   "outputs": [
    {
     "name": "stdout",
     "output_type": "stream",
     "text": [
      "Help on built-in function len in module builtins:\n",
      "\n",
      "len(obj, /)\n",
      "    Return the number of items in a container.\n",
      "\n"
     ]
    }
   ],
   "source": [
    "help(len())"
   ]
  },
  {
   "attachments": {},
   "cell_type": "markdown",
   "id": "98de7c78",
   "metadata": {},
   "source": [
    "Exercise 3: eval() - Evaluate the string `\"2**3\"` using the `eval()` function. The string represents the operation two to the power of three."
   ]
  },
  {
   "cell_type": "code",
   "execution_count": 11,
   "id": "38cce261",
   "metadata": {},
   "outputs": [
    {
     "data": {
      "text/plain": [
       "8"
      ]
     },
     "execution_count": 11,
     "metadata": {},
     "output_type": "execute_result"
    }
   ],
   "source": [
    "eval('2**3')\n",
    "\n",
    "\t•\tהפונקציה eval מסוכנת אם לא משתמשים בה בזהירות.\n",
    "\t•\tעדיף להשתמש בפתרונות בטוחים יותר כמו ast.literal_eval.\n",
    "\t•\tאם חייבים להשתמש ב-eval, סנן היטב את הקלט כדי לוודא שהוא תואם רק למה שאתה מתכוון לתמוך בו. \n"
   ]
  },
  {
   "attachments": {},
   "cell_type": "markdown",
   "id": "e23b2a7d",
   "metadata": {},
   "source": [
    "Exercise 4: zip() - Combine the two lists `[\"Python\", \"Java\", \"C++\"]` and `[1991, 1995, 1983]` into a list of tuples where each tuple contains a language and its release year."
   ]
  },
  {
   "cell_type": "code",
   "execution_count": 1,
   "id": "5309dc26",
   "metadata": {},
   "outputs": [
    {
     "data": {
      "text/plain": [
       "[('Python', 1991), ('Java', 1995), ('C++', 1983)]"
      ]
     },
     "execution_count": 1,
     "metadata": {},
     "output_type": "execute_result"
    }
   ],
   "source": [
    "combined = list(zip([\"Python\", \"Java\", \"C++\"] , [1991, 1995, 1983]))\n",
    "combined"
   ]
  },
  {
   "attachments": {},
   "cell_type": "markdown",
   "id": "e871cd81",
   "metadata": {},
   "source": [
    "Exercise 5: abs() - Find the absolute value of `-100`."
   ]
  },
  {
   "cell_type": "code",
   "execution_count": 2,
   "id": "4b7236c0",
   "metadata": {},
   "outputs": [
    {
     "data": {
      "text/plain": [
       "100"
      ]
     },
     "execution_count": 2,
     "metadata": {},
     "output_type": "execute_result"
    }
   ],
   "source": [
    "abs(-100)"
   ]
  },
  {
   "attachments": {},
   "cell_type": "markdown",
   "id": "4eff5f5e",
   "metadata": {},
   "source": [
    "Exercise 6: max() - Find the maximum number in the list: `[1, 2, 3, 4, 5]`."
   ]
  },
  {
   "cell_type": "code",
   "execution_count": 3,
   "id": "ec7a392d",
   "metadata": {},
   "outputs": [
    {
     "data": {
      "text/plain": [
       "5"
      ]
     },
     "execution_count": 3,
     "metadata": {},
     "output_type": "execute_result"
    }
   ],
   "source": [
    "max([1, 2, 3, 4, 5])"
   ]
  },
  {
   "attachments": {},
   "cell_type": "markdown",
   "id": "c56c60a8",
   "metadata": {},
   "source": [
    "Exercise 7: min() - Find the minimum number in the list: `[1, 2, 3, 4, 5]`."
   ]
  },
  {
   "cell_type": "code",
   "execution_count": 4,
   "id": "eebd89d9",
   "metadata": {},
   "outputs": [
    {
     "data": {
      "text/plain": [
       "1"
      ]
     },
     "execution_count": 4,
     "metadata": {},
     "output_type": "execute_result"
    }
   ],
   "source": [
    "min([1, 2, 3, 4, 5])"
   ]
  },
  {
   "attachments": {},
   "cell_type": "markdown",
   "id": "d7c24e94",
   "metadata": {},
   "source": [
    "Exercise 8: round() - Round the floating-point number `5.76543` to 2 decimal places."
   ]
  },
  {
   "cell_type": "code",
   "execution_count": 5,
   "id": "3b9b62c4",
   "metadata": {},
   "outputs": [
    {
     "data": {
      "text/plain": [
       "5.77"
      ]
     },
     "execution_count": 5,
     "metadata": {},
     "output_type": "execute_result"
    }
   ],
   "source": [
    "round(5.76543,2)"
   ]
  },
  {
   "attachments": {},
   "cell_type": "markdown",
   "id": "c8c3aa3e",
   "metadata": {},
   "source": [
    "Exercise 9: sum() - Calculate the sum of all numbers in the list: `[1, 2, 3, 4, 5]`."
   ]
  },
  {
   "cell_type": "code",
   "execution_count": 6,
   "id": "346e3129",
   "metadata": {},
   "outputs": [
    {
     "data": {
      "text/plain": [
       "15"
      ]
     },
     "execution_count": 6,
     "metadata": {},
     "output_type": "execute_result"
    }
   ],
   "source": [
    "sum([1, 2, 3, 4, 5])"
   ]
  },
  {
   "attachments": {},
   "cell_type": "markdown",
   "id": "c0fbb11f",
   "metadata": {},
   "source": [
    "Exercise 10: pow() - Calculate 2 to the power of 3."
   ]
  },
  {
   "cell_type": "code",
   "execution_count": 7,
   "id": "bc1b6254",
   "metadata": {},
   "outputs": [
    {
     "data": {
      "text/plain": [
       "8"
      ]
     },
     "execution_count": 7,
     "metadata": {},
     "output_type": "execute_result"
    }
   ],
   "source": [
    "pow(2,3)"
   ]
  },
  {
   "cell_type": "code",
   "execution_count": null,
   "id": "8a076938-680f-4482-8991-c80512797d79",
   "metadata": {},
   "outputs": [],
   "source": []
  }
 ],
 "metadata": {
  "kernelspec": {
   "display_name": "Python 3 (ipykernel)",
   "language": "python",
   "name": "python3"
  },
  "language_info": {
   "codemirror_mode": {
    "name": "ipython",
    "version": 3
   },
   "file_extension": ".py",
   "mimetype": "text/x-python",
   "name": "python",
   "nbconvert_exporter": "python",
   "pygments_lexer": "ipython3",
   "version": "3.12.1"
  }
 },
 "nbformat": 4,
 "nbformat_minor": 5
}
