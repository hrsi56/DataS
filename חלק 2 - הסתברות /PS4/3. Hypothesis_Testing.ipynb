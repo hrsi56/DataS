{
 "cells": [
  {
   "cell_type": "markdown",
   "id": "c0e6f2a4",
   "metadata": {},
   "source": [
    "### **שיעור: ($(Hypothesis Testing)$)**\n",
    "\n",
    "---\n",
    "\n",
    "### **1. מבוא לבדיקת השערות**\n",
    "\n",
    "**בדיקת השערות** היא תהליך סטטיסטי שבוחן טענות על פרמטרים באוכלוסייה על בסיס נתוני מדגם.\n",
    "\n",
    "- **השערת אפס (Null Hypothesis - \\( $H_0$ \\)):**  \n",
    "  מייצגת את המצב הקיים או את ההנחה שאין שינוי.  \n",
    "  *למשל:* \\( $H_0$: $\\mu$ = $\\mu_0$ \\)\n",
    "\n",
    "- **השערה חלופית (Alternative Hypothesis - \\( $H_1$ \\) או \\( $H_a$ \\)):**  \n",
    "  מייצגת את מה שאנו מנסים להוכיח או לבדוק אם יש שינוי.  \n",
    "  *למשל:* \\( $H_1$: $\\mu$ > $\\mu_0$ \\)\n"
   ]
  },
  {
   "cell_type": "markdown",
   "id": "975febc0",
   "metadata": {},
   "source": [
    "### **2. סוגי טעויות בבדיקת השערות**\n",
    "\n",
    "1. **שגיאה מסוג I (Type I Error):**  \n",
    "   דחיית \\( $H_0$ \\) כאשר היא נכונה.  \n",
    "   *ההסתברות לטעות זו מסומנת ב-\\( $\\alpha$ \\), לרוב 0.05.*\n",
    "\n",
    "2. **שגיאה מסוג II (Type II Error):**  \n",
    "   קבלת \\( $H_0$ \\) כאשר \\( $H_1$ \\) נכונה.  \n",
    "   *ההסתברות לטעות זו מסומנת ב-\\( $\\beta$ \\).*\n"
   ]
  },
  {
   "cell_type": "markdown",
   "id": "7e75ea1b",
   "metadata": {},
   "source": [
    "### **3. סוגי בדיקות השערות**\n",
    "\n",
    "1. **בדיקה חד-צדדית מימין (Right-sided Test):**  \n",
    "   $$[ H_0 : \\mu = \\mu_0 \\quad \\text{ו} \\quad H_1 : \\mu > \\mu_0 ]$$\n",
    "\n",
    "2. **בדיקה חד-צדדית משמאל (Left-sided Test):**  \n",
    "   \n",
    "   $$[ H_0 : \\mu = \\mu_0 \\quad \\text{ו} \\quad H_1 : \\mu < \\mu_0] $$\n",
    "   \n",
    "\n",
    "3. **בדיקה דו-צדדית (Two-sided Test):**  \n",
    "   \n",
    "    $$ [H_0 : \\mu = \\mu_0 \\quad \\text{ו} \\quad H_1 : \\mu \\neq \\mu_0] $$\n",
    "   \n"
   ]
  },
  {
   "cell_type": "markdown",
   "id": "4cfef049",
   "metadata": {},
   "source": [
    "### **4. ביצוע בדיקת השערות**\n",
    "\n",
    "#### **שיטה 1: שימוש בערך סף (Critical Value)**\n",
    "\n",
    "1. קובעים ערך קריטי \\( $c$ \\) לפי רמת מובהקות \\( $\\alpha$ \\).\n",
    "2. דוחים את \\( $H_0$ \\) אם ממוצע המדגם \\( $\\bar{x}$ \\) חורג מהערך הקריטי.\n",
    "\n",
    "#### **שיטה 2: שימוש בערך p (p-value)**\n",
    "\n",
    "1. מחשבים את ערך ה-\\( $p$ \\), שהוא ההסתברות לקבל תוצאה קיצונית לפחות כמו זו שנמצאה, בהנחה ש-\\( $H_0$ \\) נכונה.\n",
    "2. דוחים את \\( $H_0$ \\) אם \\( $p$ < $\\alpha$ \\).\n"
   ]
  },
  {
   "cell_type": "markdown",
   "id": "e8cb544c",
   "metadata": {
    "jp-MarkdownHeadingCollapsed": true
   },
   "source": [
    "### **5. דוגמה: בדיקה חד-צדדית עבור התפלגות בינומיאלית**\n",
    "\n",
    "נבצע בדיקה חד-צדדית עבור מדגם מהתפלגות בינומיאלית \\( $\\text{Binomial}(10, 0.2)$ \\).\n",
    "\n",
    "- **השערות לבדיקה:**\n",
    " $$ H_0 : \\mu = 2 \\quad \\text{ו} \\quad H_1 : \\mu > 2 $$\n"
   ]
  },
  {
   "cell_type": "markdown",
   "id": "be165240",
   "metadata": {},
   "source": [
    "## **ייבוא ספריות דרושות**\n",
    "\n",
    "נייבא את הספריות הדרושות לעבודה:\n",
    "- **NumPy**: לחישובים מספריים וליצירת מדגמים אקראיים.\n",
    "- **Matplotlib**: להצגת גרפים.\n",
    "- **SciPy.stats**: לחישובים סטטיסטיים כמו ערכי Z ו-p-values."
   ]
  },
  {
   "cell_type": "code",
   "execution_count": null,
   "id": "f176a64c",
   "metadata": {},
   "outputs": [],
   "source": [
    "import numpy as np\n",
    "import matplotlib.pyplot as plt\n",
    "from scipy.stats import norm"
   ]
  },
  {
   "cell_type": "markdown",
   "id": "ad190b85",
   "metadata": {},
   "source": [
    "## **הגדרת פרמטרים תאורטיים**\n",
    "\n",
    "אנו בודקים מדגם מהתפלגות בינומיאלית \\( $\\text{Binomial}(10, 0.2)$ \\):\n",
    "- **\\(n = 10\\)**: מספר הניסיונות בכל ניסוי.\n",
    "- **\\(p = 0.2\\)**: ההסתברות להצלחה בכל ניסוי.\n",
    "- **\\($\\mu$ = $n$ $\\cdot p = 2$ \\)**: תוחלת ההתפלגות.\n",
    "\n",
    "נגדיר גם את גודל המדגם ומספר האיטרציות לבדיקה חוזרת."
   ]
  },
  {
   "cell_type": "code",
   "execution_count": null,
   "id": "c4b5e944",
   "metadata": {},
   "outputs": [],
   "source": [
    "n_trials = 10  # מספר ניסיונות בכל ניסוי\n",
    "p_success = 0.2  # הסתברות להצלחה בכל ניסוי\n",
    "sample_size = 100  # גודל המדגם\n",
    "num_iterations = 1000  # מספר החזרות של הבדיקה\n",
    "\n",
    "theoretical_mean = n_trials * p_success  # תוחלת תאורטית\n",
    "theoretical_std = np.sqrt(n_trials * p_success * (1 - p_success))  # סטיית תקן תאורטית\n",
    "standard_error = theoretical_std / np.sqrt(sample_size)  # שגיאת תקן של ממוצע המדגם"
   ]
  },
  {
   "cell_type": "markdown",
   "id": "a9d7b318",
   "metadata": {},
   "source": [
    "## **חישוב ערך קריטי (c) לבדיקה חד-צדדית**\n",
    "\n",
    "נבצע בדיקה חד-צדדית עם ההשערות הבאות:\n",
    "- **\\($H_0$: $\\mu$ = 2\\)** (אין שינוי בממוצע).\n",
    "- **\\($H_1$: $\\mu$ > 2\\)** (הממוצע גדל).\n",
    "\n",
    "נחשב את ערך ה-**$Z$** הקריטי ברמת מובהקות \\($\\alpha$ = 0.05\\), ונמצא את ערך הסף \\($c$\\) שמעליו נדחה את \\($H_0$\\) י\n",
    "."
   ]
  },
  {
   "cell_type": "code",
   "execution_count": null,
   "id": "30a35bf3",
   "metadata": {},
   "outputs": [],
   "source": [
    "alpha = 0.05  # רמת מובהקות לבדיקה חד-צדדית\n",
    "z_critical = norm.ppf(1 - alpha)  # ערך z קריטי לבדיקה חד-צדדית\n",
    "c = theoretical_mean + z_critical * standard_error  # חישוב ערך סף c\n",
    "\n",
    "print(f\"ערך קריטי (c): {c:.3f}\")"
   ]
  },
  {
   "cell_type": "markdown",
   "id": "b3d4a22f",
   "metadata": {},
   "source": [
    "## **ביצוע בדיקת השערות באמצעות ערך קריטי**\n",
    "\n",
    "נבצע בדיקה על 1000 דגימות אקראיות מהתפלגות בינומיאלית, ונבדוק בכל פעם האם ממוצע הדגימה חורג מהערך הקריטי \\($c$ \\). אם כן, נדחה את \\($H_0$\\) י ."
   ]
  },
  {
   "cell_type": "code",
   "execution_count": null,
   "id": "0bf9bdef",
   "metadata": {},
   "outputs": [],
   "source": [
    "rejections_critical = 0  # ספירת דחיות של H0\n",
    "\n",
    "for _ in range(num_iterations):\n",
    "    sample = np.random.binomial(n=n_trials, p=p_success, size=sample_size)\n",
    "    sample_mean = np.mean(sample)\n",
    "    if sample_mean > c:\n",
    "        rejections_critical += 1\n",
    "\n",
    "print(f\"מספר דחיות של H0 מתוך {num_iterations} איטרציות: {rejections_critical}\")\n",
    "print(f\"אחוז דחיות: {(rejections_critical / num_iterations) * 100:.2f}%\")"
   ]
  },
  {
   "cell_type": "markdown",
   "id": "e8d49dc9",
   "metadata": {},
   "source": [
    "## **ביצוע בדיקת השערות באמצעות p-value**\n",
    "\n",
    "בבדיקה זו, נחשב עבור כל דגימה את **סטטיסטי הבדיקה ($Z$)** ואת **$p-value$** המתאים. אם ה-$p-value$ קטן מרמת המובהקות \\($\\alpha$\\), נדחה את \\($H_0$\\) י."
   ]
  },
  {
   "cell_type": "code",
   "execution_count": null,
   "id": "fc559c46",
   "metadata": {},
   "outputs": [],
   "source": [
    "rejections_p_value = 0  # ספירת דחיות של H0\n",
    "\n",
    "for _ in range(num_iterations):\n",
    "    sample = np.random.binomial(n=n_trials, p=p_success, size=sample_size)\n",
    "    sample_mean = np.mean(sample)\n",
    "    z_score = (sample_mean - theoretical_mean) / standard_error\n",
    "    p_value = 1 - norm.cdf(z_score)\n",
    "    if p_value < alpha:\n",
    "        rejections_p_value += 1\n",
    "\n",
    "print(f\"מספר דחיות של H0 באמצעות p-value מתוך {num_iterations} איטרציות: {rejections_p_value}\")\n",
    "print(f\"אחוז דחיות באמצעות p-value: {(rejections_p_value / num_iterations) * 100:.2f}%\")"
   ]
  },
  {
   "cell_type": "markdown",
   "id": "5a444ca2",
   "metadata": {},
   "source": [
    "## **השוואת התוצאות**\n",
    "\n",
    "כעת נשווה את מספר הדחיות בשתי השיטות:\n",
    "1. **באמצעות ערך קריטי**.\n",
    "2. **באמצעות $p-value$**.\n",
    "\n",
    "אם התוצאות דומות, זה מאשש את עקביות השיטות."
   ]
  },
  {
   "cell_type": "code",
   "execution_count": null,
   "id": "e668bded",
   "metadata": {},
   "outputs": [],
   "source": [
    "print(f\"\\nהשוואת תוצאות:\")\n",
    "print(f\"בדיקה באמצעות ערך קריטי: {rejections_critical} דחיות ({(rejections_critical / num_iterations) * 100:.2f}%)\")\n",
    "print(f\"בדיקה באמצעות p-value: {rejections_p_value} דחיות ({(rejections_p_value / num_iterations) * 100:.2f}%)\")"
   ]
  }
 ],
 "metadata": {
  "kernelspec": {
   "display_name": "Python 3 (ipykernel)",
   "language": "python",
   "name": "python3"
  },
  "language_info": {
   "codemirror_mode": {
    "name": "ipython",
    "version": 3
   },
   "file_extension": ".py",
   "mimetype": "text/x-python",
   "name": "python",
   "nbconvert_exporter": "python",
   "pygments_lexer": "ipython3",
   "version": "3.12.5"
  }
 },
 "nbformat": 4,
 "nbformat_minor": 5
}
