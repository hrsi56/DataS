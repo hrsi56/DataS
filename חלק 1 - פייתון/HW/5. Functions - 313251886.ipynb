{
 "cells": [
  {
   "attachments": {},
   "cell_type": "markdown",
   "id": "4b9d75e7",
   "metadata": {},
   "source": [
    "# Functions\n",
    "\n",
    "## Questions"
   ]
  },
  {
   "attachments": {},
   "cell_type": "markdown",
   "id": "c286ead5",
   "metadata": {},
   "source": [
    "**Exercise 1: Define a simple function called 'greet' that prints 'Hello, world!' when called.**"
   ]
  },
  {
   "cell_type": "code",
   "execution_count": 1,
   "id": "1a4b96ce",
   "metadata": {},
   "outputs": [],
   "source": [
    "def h():\n",
    "    return( 'Hello, world!' )\n"
   ]
  },
  {
   "attachments": {},
   "cell_type": "markdown",
   "id": "10ba47ef",
   "metadata": {},
   "source": [
    "**Exercise 2: Call the 'greet' function you defined.**"
   ]
  },
  {
   "cell_type": "code",
   "execution_count": 2,
   "id": "9ebfa7c0",
   "metadata": {},
   "outputs": [
    {
     "data": {
      "text/plain": [
       "'Hello, world!'"
      ]
     },
     "execution_count": 2,
     "metadata": {},
     "output_type": "execute_result"
    }
   ],
   "source": [
    "h()"
   ]
  },
  {
   "attachments": {},
   "cell_type": "markdown",
   "id": "2699421e",
   "metadata": {},
   "source": [
    "**Exercise 3: Define a function 'add' that takes two parameters and returns their sum.**"
   ]
  },
  {
   "cell_type": "code",
   "execution_count": 3,
   "id": "0b9778a8",
   "metadata": {},
   "outputs": [],
   "source": [
    "def add (*x):\n",
    "    return(sum(x))\n"
   ]
  },
  {
   "attachments": {},
   "cell_type": "markdown",
   "id": "736f5a51",
   "metadata": {},
   "source": [
    "**Exercise 4: Call the 'add' function with 2 and 3 as arguments.**"
   ]
  },
  {
   "cell_type": "code",
   "execution_count": 4,
   "id": "cc654383",
   "metadata": {},
   "outputs": [
    {
     "data": {
      "text/plain": [
       "514"
      ]
     },
     "execution_count": 4,
     "metadata": {},
     "output_type": "execute_result"
    }
   ],
   "source": [
    "add(8,2,31,41,423,9)\n"
   ]
  },
  {
   "attachments": {},
   "cell_type": "markdown",
   "id": "86c7f918",
   "metadata": {},
   "source": [
    "**Exercise 5: Modify the 'add' function to return 'Invalid Input' if any of the input parameters are not an integer or a float.**"
   ]
  },
  {
   "cell_type": "code",
   "execution_count": 5,
   "id": "fd926669",
   "metadata": {},
   "outputs": [
    {
     "data": {
      "text/plain": [
       "473"
      ]
     },
     "execution_count": 5,
     "metadata": {},
     "output_type": "execute_result"
    }
   ],
   "source": [
    "def add (*y):\n",
    "    f=[]\n",
    "    for x in y :\n",
    "        if not ( isinstance(x, int) or  isinstance(x, float)):\n",
    "            return(\"'Invalid Input\")\n",
    "        else:\n",
    "            f.append(x)\n",
    "    return(sum(f)) \n",
    "add(8,2,31,423,9)"
   ]
  },
  {
   "attachments": {},
   "cell_type": "markdown",
   "id": "377b3e61",
   "metadata": {},
   "source": [
    "**Exercise 6: Define a function 'safe_divide' that takes two parameters and returns their division result. If division is not possible, it should return 'Invalid Operation'.**"
   ]
  },
  {
   "cell_type": "code",
   "execution_count": 6,
   "id": "1f1f4ea6",
   "metadata": {
    "scrolled": true
   },
   "outputs": [
    {
     "data": {
      "text/plain": [
       "2.0"
      ]
     },
     "execution_count": 6,
     "metadata": {},
     "output_type": "execute_result"
    }
   ],
   "source": [
    "def safe_divide(y,x):\n",
    "    try:\n",
    "        return(y/x) \n",
    "    except (ZeroDivisionError):\n",
    "        return(\"do not divide by zero\")\n",
    "safe_divide(8,4)"
   ]
  },
  {
   "attachments": {},
   "cell_type": "markdown",
   "id": "5cf9dfa6",
   "metadata": {},
   "source": [
    "**Exercise 7: Call 'safe_divide' with 10 and 2, and then with 10 and 0.**"
   ]
  },
  {
   "cell_type": "code",
   "execution_count": 7,
   "id": "5beef75b",
   "metadata": {},
   "outputs": [
    {
     "data": {
      "text/plain": [
       "5.0"
      ]
     },
     "execution_count": 7,
     "metadata": {},
     "output_type": "execute_result"
    }
   ],
   "source": [
    "safe_divide(10,0)\n",
    "\n",
    "safe_divide(10,2)\n"
   ]
  },
  {
   "attachments": {},
   "cell_type": "markdown",
   "id": "237f431d",
   "metadata": {},
   "source": [
    "**Exercise 8: Create a function 'create_full_name' that takes two parameters - 'first_name' and 'last_name' (default value = 'Smith') - and returns the full name.**"
   ]
  },
  {
   "cell_type": "code",
   "execution_count": 8,
   "id": "b19003c3",
   "metadata": {},
   "outputs": [
    {
     "data": {
      "text/plain": [
       "'Makd Fnka'"
      ]
     },
     "execution_count": 8,
     "metadata": {},
     "output_type": "execute_result"
    }
   ],
   "source": [
    "def create_full_name(x,y):\n",
    "    x=  x[0].upper()+  x[1:]\n",
    "    y= y[0].upper() + y[1:]\n",
    "    return(\" \".join([x,y]))\n",
    "    \n",
    "create_full_name(\"makd\",\"fnka\")"
   ]
  },
  {
   "attachments": {},
   "cell_type": "markdown",
   "id": "e92c7ec6",
   "metadata": {},
   "source": [
    "**Exercise 9: Call 'create_full_name' with 'John' as the first_name. Then call it with 'John' as the first_name and 'Doe' as the last_name.**"
   ]
  },
  {
   "cell_type": "code",
   "execution_count": 9,
   "id": "33aa06c7",
   "metadata": {},
   "outputs": [
    {
     "data": {
      "text/plain": [
       "'F'"
      ]
     },
     "execution_count": 9,
     "metadata": {},
     "output_type": "execute_result"
    }
   ],
   "source": [
    "x=\"fsF\"\n",
    "x[0].upper()\n"
   ]
  },
  {
   "attachments": {},
   "cell_type": "markdown",
   "id": "9687fdba",
   "metadata": {},
   "source": [
    "**Exercise 10: Define a function 'sum_all' that takes any number of input parameters and returns their sum.**"
   ]
  },
  {
   "cell_type": "code",
   "execution_count": 10,
   "id": "b36f4c23",
   "metadata": {},
   "outputs": [
    {
     "data": {
      "text/plain": [
       "473"
      ]
     },
     "execution_count": 10,
     "metadata": {},
     "output_type": "execute_result"
    }
   ],
   "source": [
    "def sum_all (*y):\n",
    "    return(add(*y))\n",
    "sum_all(8,2,31,423,9)"
   ]
  },
  {
   "attachments": {},
   "cell_type": "markdown",
   "id": "f4d2e598",
   "metadata": {},
   "source": [
    "**Exercise 11: Call 'sum_all' with 1, 2, 3, 4, and 5 as inputs.**"
   ]
  },
  {
   "cell_type": "code",
   "execution_count": 11,
   "id": "2340a673",
   "metadata": {},
   "outputs": [
    {
     "data": {
      "text/plain": [
       "15"
      ]
     },
     "execution_count": 11,
     "metadata": {},
     "output_type": "execute_result"
    }
   ],
   "source": [
    "sum_all(1, 2, 3, 4,5)"
   ]
  },
  {
   "attachments": {},
   "cell_type": "markdown",
   "id": "791f1293",
   "metadata": {},
   "source": [
    "**Exercise 12: Define a function 'key_value_pairs' that takes arbitrary keyword arguments and returns a dictionary of these arguments.**"
   ]
  },
  {
   "cell_type": "code",
   "execution_count": 12,
   "id": "23fc1a5f",
   "metadata": {},
   "outputs": [],
   "source": [
    "def key_value_pairs( **kwargs) :\n",
    "    return kwargs\n",
    "    \n"
   ]
  },
  {
   "attachments": {},
   "cell_type": "markdown",
   "id": "b63f7954",
   "metadata": {},
   "source": [
    "**Exercise 13: Call 'key_value_pairs' with 'name' = 'John' and 'age' = 25.**"
   ]
  },
  {
   "cell_type": "code",
   "execution_count": 13,
   "id": "1a8a78ae",
   "metadata": {},
   "outputs": [
    {
     "data": {
      "text/plain": [
       "{'name': 'John', 'age': 25}"
      ]
     },
     "execution_count": 13,
     "metadata": {},
     "output_type": "execute_result"
    }
   ],
   "source": [
    "key_value_pairs(name = 'John' , age = 25)"
   ]
  },
  {
   "attachments": {},
   "cell_type": "markdown",
   "id": "64118db9",
   "metadata": {},
   "source": [
    "**Exercise 14: Declare a global variable 'x', set its value to 10. Then define a function 'modify_global_var' that changes the global 'x' to 20.**"
   ]
  },
  {
   "cell_type": "code",
   "execution_count": 14,
   "id": "96c898a8",
   "metadata": {},
   "outputs": [],
   "source": [
    "x=10\n",
    "def modify_global_var(y):\n",
    "    global x\n",
    "    x=y\n",
    "    \n"
   ]
  },
  {
   "attachments": {},
   "cell_type": "markdown",
   "id": "ab28a01a",
   "metadata": {},
   "source": [
    "**Exercise 15: Print the value of 'x', call 'modify_global_var', then print the value of 'x' again.**"
   ]
  },
  {
   "cell_type": "code",
   "execution_count": 15,
   "id": "cb77c705",
   "metadata": {},
   "outputs": [
    {
     "name": "stdout",
     "output_type": "stream",
     "text": [
      "10\n",
      "20\n"
     ]
    }
   ],
   "source": [
    "print(x)\n",
    "modify_global_var(20)\n",
    "print(x)\n"
   ]
  },
  {
   "attachments": {},
   "cell_type": "markdown",
   "id": "cc3c9019",
   "metadata": {},
   "source": [
    "**Exercise 16: Define a function 'raise_error' that raises an ValueError with the message 'An error has occurred'.**"
   ]
  },
  {
   "cell_type": "code",
   "execution_count": 16,
   "id": "e76ff395",
   "metadata": {},
   "outputs": [],
   "source": [
    "def raise_error():\n",
    "    raise ValueError(\"An error has occurred\")"
   ]
  },
  {
   "attachments": {},
   "cell_type": "markdown",
   "id": "9a81a4f4",
   "metadata": {},
   "source": [
    "**Exercise 17: Define a function 'handle_error' that calls 'raise_error' in a try block and handles the ValueError in an except block by printing the error message.**"
   ]
  },
  {
   "cell_type": "code",
   "execution_count": 17,
   "id": "d8d0030b",
   "metadata": {},
   "outputs": [],
   "source": [
    "def handle_error():\n",
    "    try:\n",
    "        raise_error() \n",
    "    except ValueError as e:\n",
    "        print(e) "
   ]
  },
  {
   "attachments": {},
   "cell_type": "markdown",
   "id": "9c024281",
   "metadata": {},
   "source": [
    "**Exercise 18: Call 'handle_error'.**"
   ]
  },
  {
   "cell_type": "code",
   "execution_count": 18,
   "id": "3bb1c181",
   "metadata": {},
   "outputs": [
    {
     "name": "stdout",
     "output_type": "stream",
     "text": [
      "An error has occurred\n"
     ]
    }
   ],
   "source": [
    "handle_error()"
   ]
  },
  {
   "attachments": {},
   "cell_type": "markdown",
   "id": "2b10cb0c",
   "metadata": {},
   "source": [
    "**Exercise 19: Write a function divide_by_two that accepts a list of numbers and returns a new list where each number is divided by 2.**"
   ]
  },
  {
   "cell_type": "code",
   "execution_count": 19,
   "id": "ac652875",
   "metadata": {},
   "outputs": [],
   "source": [
    "def divide_by_two (y):\n",
    "    f=[]\n",
    "    for x in y :\n",
    "        if not ( isinstance(x, int) or  isinstance(x, float)):\n",
    "            return(\"'Invalid Input\")\n",
    "        else:\n",
    "            f.append(x/2)\n",
    "    return f \n"
   ]
  },
  {
   "attachments": {},
   "cell_type": "markdown",
   "id": "1228146f",
   "metadata": {},
   "source": [
    "**Exercise 20: Write a function get_even_numbers that accepts a list of numbers and returns a new list containing only the even numbers from the input list.**"
   ]
  },
  {
   "cell_type": "code",
   "execution_count": 20,
   "id": "4c6b60c6",
   "metadata": {},
   "outputs": [],
   "source": [
    "def get_even_numbers(y):\n",
    "    return ([r for r in y if r%2==0 ])"
   ]
  },
  {
   "attachments": {},
   "cell_type": "markdown",
   "id": "587e926e",
   "metadata": {},
   "source": [
    "**Exercise 21: Write a function multiply_numbers that accepts a list of numbers and returns the product of all the numbers in the list.**"
   ]
  },
  {
   "cell_type": "code",
   "execution_count": 21,
   "id": "e67beacf",
   "metadata": {},
   "outputs": [],
   "source": [
    "def multiply_numbers(y):\n",
    "    z=1\n",
    "    for x in y:\n",
    "        z=z*x\n",
    "    return (z)"
   ]
  },
  {
   "attachments": {},
   "cell_type": "markdown",
   "id": "f3856695",
   "metadata": {},
   "source": [
    "**Exercise 22: Call divide_by_two with the list [1, 2, 3, 4, 5].**"
   ]
  },
  {
   "cell_type": "code",
   "execution_count": 22,
   "id": "374f6570",
   "metadata": {},
   "outputs": [
    {
     "data": {
      "text/plain": [
       "[0.5, 1.0, 1.5, 2.0, 2.5]"
      ]
     },
     "execution_count": 22,
     "metadata": {},
     "output_type": "execute_result"
    }
   ],
   "source": [
    "divide_by_two([1, 2, 3, 4, 5])"
   ]
  },
  {
   "attachments": {},
   "cell_type": "markdown",
   "id": "bca78216",
   "metadata": {},
   "source": [
    "**Exercise 23: Call get_even_numbers with the list [1, 2, 3, 4, 5, 6, 7, 8, 9, 10].**"
   ]
  },
  {
   "cell_type": "code",
   "execution_count": 23,
   "id": "3b9b680a",
   "metadata": {},
   "outputs": [
    {
     "data": {
      "text/plain": [
       "[2, 4, 6, 8, 10]"
      ]
     },
     "execution_count": 23,
     "metadata": {},
     "output_type": "execute_result"
    }
   ],
   "source": [
    "get_even_numbers([1, 2, 3, 4, 5, 6, 7, 8, 9, 10])"
   ]
  },
  {
   "attachments": {},
   "cell_type": "markdown",
   "id": "23183b73",
   "metadata": {},
   "source": [
    "**Exercise 24: Call multiply_numbers with the list [1, 2, 3, 4, 5].**"
   ]
  },
  {
   "cell_type": "code",
   "execution_count": 24,
   "id": "b3b96f9e",
   "metadata": {},
   "outputs": [
    {
     "data": {
      "text/plain": [
       "120"
      ]
     },
     "execution_count": 24,
     "metadata": {},
     "output_type": "execute_result"
    }
   ],
   "source": [
    "multiply_numbers([1, 2, 3, 4, 5])"
   ]
  },
  {
   "attachments": {},
   "cell_type": "markdown",
   "id": "0dcfe6a2",
   "metadata": {},
   "source": [
    "**Exercise 25: Modify multiply_numbers to return \"Invalid Operation\" if the list is empty.**"
   ]
  },
  {
   "cell_type": "code",
   "execution_count": 25,
   "id": "fc8c20d6",
   "metadata": {},
   "outputs": [],
   "source": [
    "def multiply_numbers(y):\n",
    "    z=1\n",
    "    if y == []:\n",
    "        return \"Invalid Operation\"\n",
    "    else:\n",
    "        for x in y:\n",
    "            z=z*x\n",
    "    return (z)"
   ]
  },
  {
   "attachments": {},
   "cell_type": "markdown",
   "id": "c66a3cbb",
   "metadata": {},
   "source": [
    "**Exercise 26: Call multiply_numbers with an empty list.**"
   ]
  },
  {
   "cell_type": "code",
   "execution_count": 26,
   "id": "cf752e51",
   "metadata": {},
   "outputs": [
    {
     "data": {
      "text/plain": [
       "'Invalid Operation'"
      ]
     },
     "execution_count": 26,
     "metadata": {},
     "output_type": "execute_result"
    }
   ],
   "source": [
    "multiply_numbers([])"
   ]
  },
  {
   "attachments": {},
   "cell_type": "markdown",
   "id": "30df5d51",
   "metadata": {},
   "source": [
    "**Exercise 27: Define a function calculate_operation that receives a list of tuples. Each tuple contains a string (can be \"add\", \"subtract\", \"multiply\", or \"divide\") and two integers. The function should return a list of results according to the operation of each tuple. For example: [(\"add\", 2, 3), (\"subtract\", 5, 2), (\"multiply\", 2, 3)] should return [5, 3, 6].**"
   ]
  },
  {
   "cell_type": "code",
   "execution_count": 27,
   "id": "a633a2d3",
   "metadata": {},
   "outputs": [
    {
     "data": {
      "text/plain": [
       "[5, 3, 6, 0.6666666666666666]"
      ]
     },
     "execution_count": 27,
     "metadata": {},
     "output_type": "execute_result"
    }
   ],
   "source": [
    "def calculate_operation(operations):\n",
    "    results=[]\n",
    "    for operation in operations:\n",
    "        x , y, z = operation \n",
    "        if not ( isinstance(y, int) or  isinstance(y, float) or isinstance(z, int) or  isinstance(z, float)):\n",
    "            results.append( (\"'Invalid Input\"))\n",
    "        else:\n",
    "            if x == \"add\":\n",
    "                results.append(  y + z)\n",
    "            elif x == \"subtract\":\n",
    "                results.append( (y-z))\n",
    "            elif x == \"multiply\":\n",
    "                results.append(y*z)\n",
    "            elif x == \"divide\":\n",
    "                results.append(safe_divide(y,z))\n",
    "    return results \n",
    "    \n",
    "calculate_operation([(\"add\", 2, 3), (\"subtract\", 5, 2), (\"multiply\", 2, 3) , (\"divide\", 2,3 )])\n",
    "        "
   ]
  },
  {
   "attachments": {},
   "cell_type": "markdown",
   "id": "2fde5ce5",
   "metadata": {},
   "source": [
    "**Exercise 28: Create a function sum_of_squares that receives an integer n and returns the sum of the squares of all numbers from 1 to n. For example, if n = 3, it should return 14 because 1^2 + 2^2 + 3^2 = 14.**"
   ]
  },
  {
   "cell_type": "code",
   "execution_count": 30,
   "id": "9cadaa55",
   "metadata": {},
   "outputs": [
    {
     "data": {
      "text/plain": [
       "14"
      ]
     },
     "execution_count": 30,
     "metadata": {},
     "output_type": "execute_result"
    }
   ],
   "source": [
    "def sum_of_squares(n):\n",
    "    results=[]\n",
    "    for i in range(1,n+1):\n",
    "        results.append(i**2)\n",
    "    return(sum(results))\n",
    "sum_of_squares(3)"
   ]
  },
  {
   "attachments": {},
   "cell_type": "markdown",
   "id": "15b01bbc",
   "metadata": {},
   "source": [
    "\n",
    "**Exercise 29: Create a function fibonacci that receives an integer n and returns the nth Fibonacci number. Fibonacci sequence is: 0, 1, 1, 2, 3, 5, 8, 13, ..., where each number is the sum of the two preceding ones. For example, if n = 7, it should return 8**"
   ]
  },
  {
   "cell_type": "code",
   "execution_count": 31,
   "id": "e599f250-8b0c-4da8-9fa7-803d56681308",
   "metadata": {},
   "outputs": [],
   "source": [
    "import time"
   ]
  },
  {
   "cell_type": "code",
   "execution_count": 129,
   "id": "10f770b3-5e47-4519-b400-e561fc34cdd8",
   "metadata": {},
   "outputs": [
    {
     "name": "stdout",
     "output_type": "stream",
     "text": [
      "5702887\n",
      "Elapsed time: 1.343016 seconds\n"
     ]
    }
   ],
   "source": [
    "def fibonacci2(n):\n",
    "    results=[0,1]\n",
    "    if n<=0:\n",
    "        return \"not valid\"\n",
    "    elif n== 1:\n",
    "        return 0 \n",
    "    elif n== 2:\n",
    "        return 1 \n",
    "    elif n>2:\n",
    "        return(sum([fibonacci2(n-2),fibonacci2(n-1)]))\n",
    "        \n",
    "start_time = time.time()\n",
    "print(fibonacci2(35))\n",
    "end_time=time.time()\n",
    "print(f\"Elapsed time: {end_time - start_time:.6f} seconds\")"
   ]
  },
  {
   "cell_type": "code",
   "execution_count": 130,
   "id": "97ee970a-6488-4b93-912b-1985230b78a6",
   "metadata": {},
   "outputs": [
    {
     "name": "stdout",
     "output_type": "stream",
     "text": [
      "20793608237133498072112648988642836825087036094015903119682945866528501423455686648927456034305226515591757343297190158010624794267250973176133810179902738038231789748346235556483191431591924532394420028067810320408724414693462849062668387083308048250920654493340878733226377580847446324873797603734794648258113858631550404081017260381202919943892370942852601647398213554479081823593715429566945149312993664846779090437799284773675379284270660175134664833266377698642012106891355791141872776934080803504956794094648292880566056364718187662668970758537383352677420835574155945658542003634765324541006121012446785689171494803262408602693091211601973938229446636049901531963286159699077880427720289235539329671877182915643419079186525118678856821600897520171070499437657067342400871083908811800976259727431820539554256869460815355918458253398234382360435762759823179896116748424269545924633204614137992850814352018738480923581553988990897151469406131695614497783720743461373756218685106856826090696339815490921253714537241866911604250597353747823733268178182198509240226955826416016690084749816072843582488613184829905383150180047844353751554201573833105521980998123833253261228689824051777846588461079790807828367132384798451794011076569057522158680378961532160858387223882974380483931929541222100800313580688585002598879566463221427820448492565073106595808837401648996423563386109782045634122467872921845606409174360635618216883812562321664442822952537577492715365321134204530686742435454505103269768144370118494906390254934942358904031509877369722437053383165360388595116980245927935225901537634925654872380877183008301074569444002426436414756905094535072804764684492105680024739914490555904391369218696387092918189246157103450387050229300603241611410707453960080170928277951834763216705242485820801423866526633816082921442883095463259080471819329201710147828025221385656340207489796317663278872207607791034431700112753558813478888727503825389066823098683355695718137867882982111710796422706778536913192342733364556727928018953989153106047379741280794091639429908796650294603536651238230626\n",
      "Elapsed time: 0.011548 seconds\n"
     ]
    }
   ],
   "source": [
    "def fibonacci(n):\n",
    "    results=[0,1]\n",
    "    if n<=0:\n",
    "        return \"not valid\"\n",
    "    elif n== 1:\n",
    "        return 0 \n",
    "    elif n== 2:\n",
    "        return 1 \n",
    "    elif n>2:\n",
    "        for i in range(3,n+1):\n",
    "            results.append(sum([results[i-2],results[i-3]]))\n",
    "        return results[n-1]\n",
    "start_time = time.time()\n",
    "print(fibonacci(10000))\n",
    "end_time=time.time()\n",
    "print(f\"Elapsed time: {end_time - start_time:.6f} seconds\")"
   ]
  },
  {
   "cell_type": "code",
   "execution_count": 111,
   "id": "568291dd-a157-4372-acf6-be9d8435763b",
   "metadata": {},
   "outputs": [],
   "source": [
    "# במספרים קטנים נראה ששתי השיטות שוות ואפילו שהשיטה הראשונה טובה יותר.\n",
    "# אבל ב20 כבר ניתן לראות הבדל של סדר גודל לטובת לולאה \n"
   ]
  },
  {
   "cell_type": "code",
   "execution_count": null,
   "id": "84faeb4d-dc87-4ef1-82cf-23d47f2a5c78",
   "metadata": {},
   "outputs": [],
   "source": []
  }
 ],
 "metadata": {
  "kernelspec": {
   "display_name": "Python 3 (ipykernel)",
   "language": "python",
   "name": "python3"
  },
  "language_info": {
   "codemirror_mode": {
    "name": "ipython",
    "version": 3
   },
   "file_extension": ".py",
   "mimetype": "text/x-python",
   "name": "python",
   "nbconvert_exporter": "python",
   "pygments_lexer": "ipython3",
   "version": "3.12.1"
  }
 },
 "nbformat": 4,
 "nbformat_minor": 5
}
